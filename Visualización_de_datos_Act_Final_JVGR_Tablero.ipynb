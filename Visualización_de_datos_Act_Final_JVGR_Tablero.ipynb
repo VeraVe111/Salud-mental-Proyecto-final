{
  "nbformat": 4,
  "nbformat_minor": 0,
  "metadata": {
    "colab": {
      "provenance": [],
      "authorship_tag": "ABX9TyM6W7uGjrMjBpglQhbPQ62K",
      "include_colab_link": true
    },
    "kernelspec": {
      "name": "python3",
      "display_name": "Python 3"
    },
    "language_info": {
      "name": "python"
    }
  },
  "cells": [
    {
      "cell_type": "markdown",
      "metadata": {
        "id": "view-in-github",
        "colab_type": "text"
      },
      "source": [
        "<a href=\"https://colab.research.google.com/github/VeraVe111/Salud-mental-Proyecto-final/blob/main/Visualizaci%C3%B3n_de_datos_Act_Final_JVGR_Tablero.ipynb\" target=\"_parent\"><img src=\"https://colab.research.google.com/assets/colab-badge.svg\" alt=\"Open In Colab\"/></a>"
      ]
    },
    {
      "cell_type": "markdown",
      "source": [
        "Actividad final - Visualización de datos JVGR"
      ],
      "metadata": {
        "id": "XiGT09JISz05"
      }
    },
    {
      "cell_type": "code",
      "execution_count": 52,
      "metadata": {
        "colab": {
          "base_uri": "https://localhost:8080/",
          "height": 258
        },
        "id": "cTqO9obESsLW",
        "outputId": "6d602b04-2026-417d-810f-8c07a9e7e3f2"
      },
      "outputs": [
        {
          "output_type": "execute_result",
          "data": {
            "text/plain": [
              "     Country  Age  Gender Exercise Level   Diet Type  Sleep Hours  \\\n",
              "0     Brazil   48    Male            Low  Vegetarian          6.3   \n",
              "1  Australia   31    Male       Moderate       Vegan          4.9   \n",
              "2      Japan   37  Female            Low  Vegetarian          7.2   \n",
              "3     Brazil   35    Male            Low       Vegan          7.2   \n",
              "4    Germany   46    Male            Low    Balanced          7.3   \n",
              "\n",
              "  Stress Level Mental Health Condition  Work Hours per Week  \\\n",
              "0          Low                     NaN                   21   \n",
              "1          Low                    PTSD                   48   \n",
              "2         High                     NaN                   43   \n",
              "3          Low              Depression                   43   \n",
              "4          Low                 Anxiety                   35   \n",
              "\n",
              "   Screen Time per Day (Hours)  Social Interaction Score  Happiness Score  \n",
              "0                          4.0                       7.8              6.5  \n",
              "1                          5.2                       8.2              6.8  \n",
              "2                          4.7                       9.6              9.7  \n",
              "3                          2.2                       8.2              6.6  \n",
              "4                          3.6                       4.7              4.4  "
            ],
            "text/html": [
              "\n",
              "  <div id=\"df-32857a6d-26a4-49c3-bfca-9e5e431f630d\" class=\"colab-df-container\">\n",
              "    <div>\n",
              "<style scoped>\n",
              "    .dataframe tbody tr th:only-of-type {\n",
              "        vertical-align: middle;\n",
              "    }\n",
              "\n",
              "    .dataframe tbody tr th {\n",
              "        vertical-align: top;\n",
              "    }\n",
              "\n",
              "    .dataframe thead th {\n",
              "        text-align: right;\n",
              "    }\n",
              "</style>\n",
              "<table border=\"1\" class=\"dataframe\">\n",
              "  <thead>\n",
              "    <tr style=\"text-align: right;\">\n",
              "      <th></th>\n",
              "      <th>Country</th>\n",
              "      <th>Age</th>\n",
              "      <th>Gender</th>\n",
              "      <th>Exercise Level</th>\n",
              "      <th>Diet Type</th>\n",
              "      <th>Sleep Hours</th>\n",
              "      <th>Stress Level</th>\n",
              "      <th>Mental Health Condition</th>\n",
              "      <th>Work Hours per Week</th>\n",
              "      <th>Screen Time per Day (Hours)</th>\n",
              "      <th>Social Interaction Score</th>\n",
              "      <th>Happiness Score</th>\n",
              "    </tr>\n",
              "  </thead>\n",
              "  <tbody>\n",
              "    <tr>\n",
              "      <th>0</th>\n",
              "      <td>Brazil</td>\n",
              "      <td>48</td>\n",
              "      <td>Male</td>\n",
              "      <td>Low</td>\n",
              "      <td>Vegetarian</td>\n",
              "      <td>6.3</td>\n",
              "      <td>Low</td>\n",
              "      <td>NaN</td>\n",
              "      <td>21</td>\n",
              "      <td>4.0</td>\n",
              "      <td>7.8</td>\n",
              "      <td>6.5</td>\n",
              "    </tr>\n",
              "    <tr>\n",
              "      <th>1</th>\n",
              "      <td>Australia</td>\n",
              "      <td>31</td>\n",
              "      <td>Male</td>\n",
              "      <td>Moderate</td>\n",
              "      <td>Vegan</td>\n",
              "      <td>4.9</td>\n",
              "      <td>Low</td>\n",
              "      <td>PTSD</td>\n",
              "      <td>48</td>\n",
              "      <td>5.2</td>\n",
              "      <td>8.2</td>\n",
              "      <td>6.8</td>\n",
              "    </tr>\n",
              "    <tr>\n",
              "      <th>2</th>\n",
              "      <td>Japan</td>\n",
              "      <td>37</td>\n",
              "      <td>Female</td>\n",
              "      <td>Low</td>\n",
              "      <td>Vegetarian</td>\n",
              "      <td>7.2</td>\n",
              "      <td>High</td>\n",
              "      <td>NaN</td>\n",
              "      <td>43</td>\n",
              "      <td>4.7</td>\n",
              "      <td>9.6</td>\n",
              "      <td>9.7</td>\n",
              "    </tr>\n",
              "    <tr>\n",
              "      <th>3</th>\n",
              "      <td>Brazil</td>\n",
              "      <td>35</td>\n",
              "      <td>Male</td>\n",
              "      <td>Low</td>\n",
              "      <td>Vegan</td>\n",
              "      <td>7.2</td>\n",
              "      <td>Low</td>\n",
              "      <td>Depression</td>\n",
              "      <td>43</td>\n",
              "      <td>2.2</td>\n",
              "      <td>8.2</td>\n",
              "      <td>6.6</td>\n",
              "    </tr>\n",
              "    <tr>\n",
              "      <th>4</th>\n",
              "      <td>Germany</td>\n",
              "      <td>46</td>\n",
              "      <td>Male</td>\n",
              "      <td>Low</td>\n",
              "      <td>Balanced</td>\n",
              "      <td>7.3</td>\n",
              "      <td>Low</td>\n",
              "      <td>Anxiety</td>\n",
              "      <td>35</td>\n",
              "      <td>3.6</td>\n",
              "      <td>4.7</td>\n",
              "      <td>4.4</td>\n",
              "    </tr>\n",
              "  </tbody>\n",
              "</table>\n",
              "</div>\n",
              "    <div class=\"colab-df-buttons\">\n",
              "\n",
              "  <div class=\"colab-df-container\">\n",
              "    <button class=\"colab-df-convert\" onclick=\"convertToInteractive('df-32857a6d-26a4-49c3-bfca-9e5e431f630d')\"\n",
              "            title=\"Convert this dataframe to an interactive table.\"\n",
              "            style=\"display:none;\">\n",
              "\n",
              "  <svg xmlns=\"http://www.w3.org/2000/svg\" height=\"24px\" viewBox=\"0 -960 960 960\">\n",
              "    <path d=\"M120-120v-720h720v720H120Zm60-500h600v-160H180v160Zm220 220h160v-160H400v160Zm0 220h160v-160H400v160ZM180-400h160v-160H180v160Zm440 0h160v-160H620v160ZM180-180h160v-160H180v160Zm440 0h160v-160H620v160Z\"/>\n",
              "  </svg>\n",
              "    </button>\n",
              "\n",
              "  <style>\n",
              "    .colab-df-container {\n",
              "      display:flex;\n",
              "      gap: 12px;\n",
              "    }\n",
              "\n",
              "    .colab-df-convert {\n",
              "      background-color: #E8F0FE;\n",
              "      border: none;\n",
              "      border-radius: 50%;\n",
              "      cursor: pointer;\n",
              "      display: none;\n",
              "      fill: #1967D2;\n",
              "      height: 32px;\n",
              "      padding: 0 0 0 0;\n",
              "      width: 32px;\n",
              "    }\n",
              "\n",
              "    .colab-df-convert:hover {\n",
              "      background-color: #E2EBFA;\n",
              "      box-shadow: 0px 1px 2px rgba(60, 64, 67, 0.3), 0px 1px 3px 1px rgba(60, 64, 67, 0.15);\n",
              "      fill: #174EA6;\n",
              "    }\n",
              "\n",
              "    .colab-df-buttons div {\n",
              "      margin-bottom: 4px;\n",
              "    }\n",
              "\n",
              "    [theme=dark] .colab-df-convert {\n",
              "      background-color: #3B4455;\n",
              "      fill: #D2E3FC;\n",
              "    }\n",
              "\n",
              "    [theme=dark] .colab-df-convert:hover {\n",
              "      background-color: #434B5C;\n",
              "      box-shadow: 0px 1px 3px 1px rgba(0, 0, 0, 0.15);\n",
              "      filter: drop-shadow(0px 1px 2px rgba(0, 0, 0, 0.3));\n",
              "      fill: #FFFFFF;\n",
              "    }\n",
              "  </style>\n",
              "\n",
              "    <script>\n",
              "      const buttonEl =\n",
              "        document.querySelector('#df-32857a6d-26a4-49c3-bfca-9e5e431f630d button.colab-df-convert');\n",
              "      buttonEl.style.display =\n",
              "        google.colab.kernel.accessAllowed ? 'block' : 'none';\n",
              "\n",
              "      async function convertToInteractive(key) {\n",
              "        const element = document.querySelector('#df-32857a6d-26a4-49c3-bfca-9e5e431f630d');\n",
              "        const dataTable =\n",
              "          await google.colab.kernel.invokeFunction('convertToInteractive',\n",
              "                                                    [key], {});\n",
              "        if (!dataTable) return;\n",
              "\n",
              "        const docLinkHtml = 'Like what you see? Visit the ' +\n",
              "          '<a target=\"_blank\" href=https://colab.research.google.com/notebooks/data_table.ipynb>data table notebook</a>'\n",
              "          + ' to learn more about interactive tables.';\n",
              "        element.innerHTML = '';\n",
              "        dataTable['output_type'] = 'display_data';\n",
              "        await google.colab.output.renderOutput(dataTable, element);\n",
              "        const docLink = document.createElement('div');\n",
              "        docLink.innerHTML = docLinkHtml;\n",
              "        element.appendChild(docLink);\n",
              "      }\n",
              "    </script>\n",
              "  </div>\n",
              "\n",
              "\n",
              "    <div id=\"df-24088ed8-58d4-4176-9dc0-9c58337fac02\">\n",
              "      <button class=\"colab-df-quickchart\" onclick=\"quickchart('df-24088ed8-58d4-4176-9dc0-9c58337fac02')\"\n",
              "                title=\"Suggest charts\"\n",
              "                style=\"display:none;\">\n",
              "\n",
              "<svg xmlns=\"http://www.w3.org/2000/svg\" height=\"24px\"viewBox=\"0 0 24 24\"\n",
              "     width=\"24px\">\n",
              "    <g>\n",
              "        <path d=\"M19 3H5c-1.1 0-2 .9-2 2v14c0 1.1.9 2 2 2h14c1.1 0 2-.9 2-2V5c0-1.1-.9-2-2-2zM9 17H7v-7h2v7zm4 0h-2V7h2v10zm4 0h-2v-4h2v4z\"/>\n",
              "    </g>\n",
              "</svg>\n",
              "      </button>\n",
              "\n",
              "<style>\n",
              "  .colab-df-quickchart {\n",
              "      --bg-color: #E8F0FE;\n",
              "      --fill-color: #1967D2;\n",
              "      --hover-bg-color: #E2EBFA;\n",
              "      --hover-fill-color: #174EA6;\n",
              "      --disabled-fill-color: #AAA;\n",
              "      --disabled-bg-color: #DDD;\n",
              "  }\n",
              "\n",
              "  [theme=dark] .colab-df-quickchart {\n",
              "      --bg-color: #3B4455;\n",
              "      --fill-color: #D2E3FC;\n",
              "      --hover-bg-color: #434B5C;\n",
              "      --hover-fill-color: #FFFFFF;\n",
              "      --disabled-bg-color: #3B4455;\n",
              "      --disabled-fill-color: #666;\n",
              "  }\n",
              "\n",
              "  .colab-df-quickchart {\n",
              "    background-color: var(--bg-color);\n",
              "    border: none;\n",
              "    border-radius: 50%;\n",
              "    cursor: pointer;\n",
              "    display: none;\n",
              "    fill: var(--fill-color);\n",
              "    height: 32px;\n",
              "    padding: 0;\n",
              "    width: 32px;\n",
              "  }\n",
              "\n",
              "  .colab-df-quickchart:hover {\n",
              "    background-color: var(--hover-bg-color);\n",
              "    box-shadow: 0 1px 2px rgba(60, 64, 67, 0.3), 0 1px 3px 1px rgba(60, 64, 67, 0.15);\n",
              "    fill: var(--button-hover-fill-color);\n",
              "  }\n",
              "\n",
              "  .colab-df-quickchart-complete:disabled,\n",
              "  .colab-df-quickchart-complete:disabled:hover {\n",
              "    background-color: var(--disabled-bg-color);\n",
              "    fill: var(--disabled-fill-color);\n",
              "    box-shadow: none;\n",
              "  }\n",
              "\n",
              "  .colab-df-spinner {\n",
              "    border: 2px solid var(--fill-color);\n",
              "    border-color: transparent;\n",
              "    border-bottom-color: var(--fill-color);\n",
              "    animation:\n",
              "      spin 1s steps(1) infinite;\n",
              "  }\n",
              "\n",
              "  @keyframes spin {\n",
              "    0% {\n",
              "      border-color: transparent;\n",
              "      border-bottom-color: var(--fill-color);\n",
              "      border-left-color: var(--fill-color);\n",
              "    }\n",
              "    20% {\n",
              "      border-color: transparent;\n",
              "      border-left-color: var(--fill-color);\n",
              "      border-top-color: var(--fill-color);\n",
              "    }\n",
              "    30% {\n",
              "      border-color: transparent;\n",
              "      border-left-color: var(--fill-color);\n",
              "      border-top-color: var(--fill-color);\n",
              "      border-right-color: var(--fill-color);\n",
              "    }\n",
              "    40% {\n",
              "      border-color: transparent;\n",
              "      border-right-color: var(--fill-color);\n",
              "      border-top-color: var(--fill-color);\n",
              "    }\n",
              "    60% {\n",
              "      border-color: transparent;\n",
              "      border-right-color: var(--fill-color);\n",
              "    }\n",
              "    80% {\n",
              "      border-color: transparent;\n",
              "      border-right-color: var(--fill-color);\n",
              "      border-bottom-color: var(--fill-color);\n",
              "    }\n",
              "    90% {\n",
              "      border-color: transparent;\n",
              "      border-bottom-color: var(--fill-color);\n",
              "    }\n",
              "  }\n",
              "</style>\n",
              "\n",
              "      <script>\n",
              "        async function quickchart(key) {\n",
              "          const quickchartButtonEl =\n",
              "            document.querySelector('#' + key + ' button');\n",
              "          quickchartButtonEl.disabled = true;  // To prevent multiple clicks.\n",
              "          quickchartButtonEl.classList.add('colab-df-spinner');\n",
              "          try {\n",
              "            const charts = await google.colab.kernel.invokeFunction(\n",
              "                'suggestCharts', [key], {});\n",
              "          } catch (error) {\n",
              "            console.error('Error during call to suggestCharts:', error);\n",
              "          }\n",
              "          quickchartButtonEl.classList.remove('colab-df-spinner');\n",
              "          quickchartButtonEl.classList.add('colab-df-quickchart-complete');\n",
              "        }\n",
              "        (() => {\n",
              "          let quickchartButtonEl =\n",
              "            document.querySelector('#df-24088ed8-58d4-4176-9dc0-9c58337fac02 button');\n",
              "          quickchartButtonEl.style.display =\n",
              "            google.colab.kernel.accessAllowed ? 'block' : 'none';\n",
              "        })();\n",
              "      </script>\n",
              "    </div>\n",
              "\n",
              "    </div>\n",
              "  </div>\n"
            ],
            "application/vnd.google.colaboratory.intrinsic+json": {
              "type": "dataframe",
              "variable_name": "df",
              "summary": "{\n  \"name\": \"df\",\n  \"rows\": 3000,\n  \"fields\": [\n    {\n      \"column\": \"Country\",\n      \"properties\": {\n        \"dtype\": \"category\",\n        \"num_unique_values\": 7,\n        \"samples\": [\n          \"Brazil\",\n          \"Australia\",\n          \"Canada\"\n        ],\n        \"semantic_type\": \"\",\n        \"description\": \"\"\n      }\n    },\n    {\n      \"column\": \"Age\",\n      \"properties\": {\n        \"dtype\": \"number\",\n        \"std\": 13,\n        \"min\": 18,\n        \"max\": 64,\n        \"num_unique_values\": 47,\n        \"samples\": [\n          57,\n          59,\n          56\n        ],\n        \"semantic_type\": \"\",\n        \"description\": \"\"\n      }\n    },\n    {\n      \"column\": \"Gender\",\n      \"properties\": {\n        \"dtype\": \"category\",\n        \"num_unique_values\": 3,\n        \"samples\": [\n          \"Male\",\n          \"Female\",\n          \"Other\"\n        ],\n        \"semantic_type\": \"\",\n        \"description\": \"\"\n      }\n    },\n    {\n      \"column\": \"Exercise Level\",\n      \"properties\": {\n        \"dtype\": \"category\",\n        \"num_unique_values\": 3,\n        \"samples\": [\n          \"Low\",\n          \"Moderate\",\n          \"High\"\n        ],\n        \"semantic_type\": \"\",\n        \"description\": \"\"\n      }\n    },\n    {\n      \"column\": \"Diet Type\",\n      \"properties\": {\n        \"dtype\": \"category\",\n        \"num_unique_values\": 5,\n        \"samples\": [\n          \"Vegan\",\n          \"Keto\",\n          \"Balanced\"\n        ],\n        \"semantic_type\": \"\",\n        \"description\": \"\"\n      }\n    },\n    {\n      \"column\": \"Sleep Hours\",\n      \"properties\": {\n        \"dtype\": \"number\",\n        \"std\": 1.4998657699935016,\n        \"min\": 1.4,\n        \"max\": 11.3,\n        \"num_unique_values\": 93,\n        \"samples\": [\n          6.2,\n          4.6,\n          4.1\n        ],\n        \"semantic_type\": \"\",\n        \"description\": \"\"\n      }\n    },\n    {\n      \"column\": \"Stress Level\",\n      \"properties\": {\n        \"dtype\": \"category\",\n        \"num_unique_values\": 3,\n        \"samples\": [\n          \"Low\",\n          \"High\",\n          \"Moderate\"\n        ],\n        \"semantic_type\": \"\",\n        \"description\": \"\"\n      }\n    },\n    {\n      \"column\": \"Mental Health Condition\",\n      \"properties\": {\n        \"dtype\": \"category\",\n        \"num_unique_values\": 4,\n        \"samples\": [\n          \"Depression\",\n          \"Bipolar\",\n          \"PTSD\"\n        ],\n        \"semantic_type\": \"\",\n        \"description\": \"\"\n      }\n    },\n    {\n      \"column\": \"Work Hours per Week\",\n      \"properties\": {\n        \"dtype\": \"number\",\n        \"std\": 11,\n        \"min\": 20,\n        \"max\": 59,\n        \"num_unique_values\": 40,\n        \"samples\": [\n          32,\n          25,\n          58\n        ],\n        \"semantic_type\": \"\",\n        \"description\": \"\"\n      }\n    },\n    {\n      \"column\": \"Screen Time per Day (Hours)\",\n      \"properties\": {\n        \"dtype\": \"number\",\n        \"std\": 1.7472314037017518,\n        \"min\": 2.0,\n        \"max\": 8.0,\n        \"num_unique_values\": 61,\n        \"samples\": [\n          4.0,\n          3.3,\n          5.1\n        ],\n        \"semantic_type\": \"\",\n        \"description\": \"\"\n      }\n    },\n    {\n      \"column\": \"Social Interaction Score\",\n      \"properties\": {\n        \"dtype\": \"number\",\n        \"std\": 2.5635319109813226,\n        \"min\": 1.0,\n        \"max\": 10.0,\n        \"num_unique_values\": 91,\n        \"samples\": [\n          7.0,\n          9.9,\n          1.3\n        ],\n        \"semantic_type\": \"\",\n        \"description\": \"\"\n      }\n    },\n    {\n      \"column\": \"Happiness Score\",\n      \"properties\": {\n        \"dtype\": \"number\",\n        \"std\": 2.557600979396936,\n        \"min\": 1.0,\n        \"max\": 10.0,\n        \"num_unique_values\": 91,\n        \"samples\": [\n          3.8,\n          7.8,\n          8.3\n        ],\n        \"semantic_type\": \"\",\n        \"description\": \"\"\n      }\n    }\n  ]\n}"
            }
          },
          "metadata": {},
          "execution_count": 52
        }
      ],
      "source": [
        "# Librerías necesarias\n",
        "import pandas as pd\n",
        "import plotly.express as px\n",
        "import seaborn as sns\n",
        "import matplotlib.pyplot as plt\n",
        "\n",
        "# Cargar el archivo\n",
        "file_path = 'Mental_Health_Lifestyle_Dataset (4).csv'\n",
        "df = pd.read_csv(file_path)\n",
        "\n",
        "# Vista general\n",
        "df.head()"
      ]
    },
    {
      "cell_type": "markdown",
      "source": [
        "Limpieza básica de datos"
      ],
      "metadata": {
        "id": "j85eyBBpTJ34"
      }
    },
    {
      "cell_type": "code",
      "source": [
        "# Elimina espacios al inicio y final de los nombres de columna\n",
        "df.columns = df.columns.str.strip()"
      ],
      "metadata": {
        "id": "vhlkqqmZV6jQ"
      },
      "execution_count": 53,
      "outputs": []
    },
    {
      "cell_type": "code",
      "source": [
        "# Limpieza de nombres de columnas\n",
        "df.columns = df.columns.str.strip()\n",
        "\n",
        "# Verificación de datos nulos y tipos\n",
        "print(df.info())\n",
        "print(\"\\nNulos por columna:\")\n",
        "print(df.isnull().sum())\n",
        "\n",
        "# Conversión de columnas categóricas si aplica (ajustadas con nombres corregidos)\n",
        "cat_columns = ['Gender', 'Exercise Level', 'Diet Type', 'Sleep Disorder', 'Stress Level']\n",
        "for col in cat_columns:\n",
        "    if col in df.columns:\n",
        "        df[col] = df[col].astype('category')\n",
        "    else:\n",
        "        print(f\"⚠️ Columna '{col}' no encontrada en el DataFrame.\")\n",
        "\n",
        "# Eliminación de valores nulos para análisis preliminar\n",
        "df_clean = df.dropna()\n",
        "\n",
        "# Revisión final\n",
        "print(\"\\nDatos limpios:\")\n",
        "display(df_clean.info())"
      ],
      "metadata": {
        "colab": {
          "base_uri": "https://localhost:8080/",
          "height": 1000
        },
        "id": "JQK4RgvXWD6f",
        "outputId": "b662449a-b19f-469f-ba4a-7ac83729fc04"
      },
      "execution_count": 54,
      "outputs": [
        {
          "output_type": "stream",
          "name": "stdout",
          "text": [
            "<class 'pandas.core.frame.DataFrame'>\n",
            "RangeIndex: 3000 entries, 0 to 2999\n",
            "Data columns (total 12 columns):\n",
            " #   Column                       Non-Null Count  Dtype  \n",
            "---  ------                       --------------  -----  \n",
            " 0   Country                      3000 non-null   object \n",
            " 1   Age                          3000 non-null   int64  \n",
            " 2   Gender                       3000 non-null   object \n",
            " 3   Exercise Level               3000 non-null   object \n",
            " 4   Diet Type                    3000 non-null   object \n",
            " 5   Sleep Hours                  3000 non-null   float64\n",
            " 6   Stress Level                 3000 non-null   object \n",
            " 7   Mental Health Condition      2405 non-null   object \n",
            " 8   Work Hours per Week          3000 non-null   int64  \n",
            " 9   Screen Time per Day (Hours)  3000 non-null   float64\n",
            " 10  Social Interaction Score     3000 non-null   float64\n",
            " 11  Happiness Score              3000 non-null   float64\n",
            "dtypes: float64(4), int64(2), object(6)\n",
            "memory usage: 281.4+ KB\n",
            "None\n",
            "\n",
            "Nulos por columna:\n",
            "Country                          0\n",
            "Age                              0\n",
            "Gender                           0\n",
            "Exercise Level                   0\n",
            "Diet Type                        0\n",
            "Sleep Hours                      0\n",
            "Stress Level                     0\n",
            "Mental Health Condition        595\n",
            "Work Hours per Week              0\n",
            "Screen Time per Day (Hours)      0\n",
            "Social Interaction Score         0\n",
            "Happiness Score                  0\n",
            "dtype: int64\n",
            "⚠️ Columna 'Sleep Disorder' no encontrada en el DataFrame.\n",
            "\n",
            "Datos limpios:\n",
            "<class 'pandas.core.frame.DataFrame'>\n",
            "Index: 2405 entries, 1 to 2999\n",
            "Data columns (total 12 columns):\n",
            " #   Column                       Non-Null Count  Dtype   \n",
            "---  ------                       --------------  -----   \n",
            " 0   Country                      2405 non-null   object  \n",
            " 1   Age                          2405 non-null   int64   \n",
            " 2   Gender                       2405 non-null   category\n",
            " 3   Exercise Level               2405 non-null   category\n",
            " 4   Diet Type                    2405 non-null   category\n",
            " 5   Sleep Hours                  2405 non-null   float64 \n",
            " 6   Stress Level                 2405 non-null   category\n",
            " 7   Mental Health Condition      2405 non-null   object  \n",
            " 8   Work Hours per Week          2405 non-null   int64   \n",
            " 9   Screen Time per Day (Hours)  2405 non-null   float64 \n",
            " 10  Social Interaction Score     2405 non-null   float64 \n",
            " 11  Happiness Score              2405 non-null   float64 \n",
            "dtypes: category(4), float64(4), int64(2), object(2)\n",
            "memory usage: 179.1+ KB\n"
          ]
        },
        {
          "output_type": "display_data",
          "data": {
            "text/plain": [
              "None"
            ]
          },
          "metadata": {}
        }
      ]
    },
    {
      "cell_type": "code",
      "source": [
        "print(\"Nombres de columnas:\", df.columns.tolist())"
      ],
      "metadata": {
        "colab": {
          "base_uri": "https://localhost:8080/"
        },
        "id": "Sz1ILdFeWKGE",
        "outputId": "4724a6c8-1e21-4b88-b80f-155ddcf35345"
      },
      "execution_count": 55,
      "outputs": [
        {
          "output_type": "stream",
          "name": "stdout",
          "text": [
            "Nombres de columnas: ['Country', 'Age', 'Gender', 'Exercise Level', 'Diet Type', 'Sleep Hours', 'Stress Level', 'Mental Health Condition', 'Work Hours per Week', 'Screen Time per Day (Hours)', 'Social Interaction Score', 'Happiness Score']\n"
          ]
        }
      ]
    },
    {
      "cell_type": "markdown",
      "source": [
        "Gráficas de barras. Nivel de estrés por ocupación\n"
      ],
      "metadata": {
        "id": "FBTL0yj1WSg4"
      }
    },
    {
      "cell_type": "code",
      "metadata": {
        "colab": {
          "base_uri": "https://localhost:8080/",
          "height": 1000
        },
        "id": "6vil6MUsU7rx",
        "outputId": "d7903768-e3e2-4c2d-e561-3da581e41990"
      },
      "source": [
        "# Verificación de datos nulos y tipos\n",
        "print(df.info())\n",
        "print(df.isnull().sum())\n",
        "\n",
        "# Print columns to debug KeyError\n",
        "print(\"Columns in df:\", df.columns)\n",
        "\n",
        "# Print unique values in 'Sleep Disorder ' to diagnose\n",
        "if 'Sleep Disorder ' in df.columns:\n",
        "    print(\"Unique values in 'Sleep Disorder ':\", df['Sleep Disorder '].unique())\n",
        "else:\n",
        "    print(\"'Sleep Disorder ' column not found.\")\n",
        "\n",
        "\n",
        "# Conversión de columnas categóricas si aplica\n",
        "cat_columns = ['Gender', 'Exercise Level', 'Diet Type', 'Sleep Disorder ', 'Stress Level']\n",
        "for col in cat_columns:\n",
        "    if col in df.columns:\n",
        "        df[col] = df[col].astype(pd.CategoricalDtype(df[col].unique()))\n",
        "\n",
        "\n",
        "# Eliminación de valores nulos para análisis preliminar\n",
        "df_clean = df.dropna()\n",
        "\n",
        "\n",
        "display(df_clean.info())"
      ],
      "execution_count": 56,
      "outputs": [
        {
          "output_type": "stream",
          "name": "stdout",
          "text": [
            "<class 'pandas.core.frame.DataFrame'>\n",
            "RangeIndex: 3000 entries, 0 to 2999\n",
            "Data columns (total 12 columns):\n",
            " #   Column                       Non-Null Count  Dtype   \n",
            "---  ------                       --------------  -----   \n",
            " 0   Country                      3000 non-null   object  \n",
            " 1   Age                          3000 non-null   int64   \n",
            " 2   Gender                       3000 non-null   category\n",
            " 3   Exercise Level               3000 non-null   category\n",
            " 4   Diet Type                    3000 non-null   category\n",
            " 5   Sleep Hours                  3000 non-null   float64 \n",
            " 6   Stress Level                 3000 non-null   category\n",
            " 7   Mental Health Condition      2405 non-null   object  \n",
            " 8   Work Hours per Week          3000 non-null   int64   \n",
            " 9   Screen Time per Day (Hours)  3000 non-null   float64 \n",
            " 10  Social Interaction Score     3000 non-null   float64 \n",
            " 11  Happiness Score              3000 non-null   float64 \n",
            "dtypes: category(4), float64(4), int64(2), object(2)\n",
            "memory usage: 199.9+ KB\n",
            "None\n",
            "Country                          0\n",
            "Age                              0\n",
            "Gender                           0\n",
            "Exercise Level                   0\n",
            "Diet Type                        0\n",
            "Sleep Hours                      0\n",
            "Stress Level                     0\n",
            "Mental Health Condition        595\n",
            "Work Hours per Week              0\n",
            "Screen Time per Day (Hours)      0\n",
            "Social Interaction Score         0\n",
            "Happiness Score                  0\n",
            "dtype: int64\n",
            "Columns in df: Index(['Country', 'Age', 'Gender', 'Exercise Level', 'Diet Type',\n",
            "       'Sleep Hours', 'Stress Level', 'Mental Health Condition',\n",
            "       'Work Hours per Week', 'Screen Time per Day (Hours)',\n",
            "       'Social Interaction Score', 'Happiness Score'],\n",
            "      dtype='object')\n",
            "'Sleep Disorder ' column not found.\n",
            "<class 'pandas.core.frame.DataFrame'>\n",
            "Index: 2405 entries, 1 to 2999\n",
            "Data columns (total 12 columns):\n",
            " #   Column                       Non-Null Count  Dtype   \n",
            "---  ------                       --------------  -----   \n",
            " 0   Country                      2405 non-null   object  \n",
            " 1   Age                          2405 non-null   int64   \n",
            " 2   Gender                       2405 non-null   category\n",
            " 3   Exercise Level               2405 non-null   category\n",
            " 4   Diet Type                    2405 non-null   category\n",
            " 5   Sleep Hours                  2405 non-null   float64 \n",
            " 6   Stress Level                 2405 non-null   category\n",
            " 7   Mental Health Condition      2405 non-null   object  \n",
            " 8   Work Hours per Week          2405 non-null   int64   \n",
            " 9   Screen Time per Day (Hours)  2405 non-null   float64 \n",
            " 10  Social Interaction Score     2405 non-null   float64 \n",
            " 11  Happiness Score              2405 non-null   float64 \n",
            "dtypes: category(4), float64(4), int64(2), object(2)\n",
            "memory usage: 179.1+ KB\n"
          ]
        },
        {
          "output_type": "display_data",
          "data": {
            "text/plain": [
              "None"
            ]
          },
          "metadata": {}
        }
      ]
    },
    {
      "cell_type": "markdown",
      "source": [
        "2. Histograma: Distribución de horas de sueño"
      ],
      "metadata": {
        "id": "0uSGUxC5W3Z1"
      }
    },
    {
      "cell_type": "code",
      "source": [
        "fig2 = px.histogram(\n",
        "    df_clean,\n",
        "    x='Sleep Hours',\n",
        "    nbins=20,\n",
        "    title='Distribución de horas de sueño',\n",
        "    labels={'Sleep Hours': 'Horas de sueño'}\n",
        ")\n",
        "fig2.update_layout(xaxis_title='Horas de sueño', yaxis_title='Cantidad de personas')\n",
        "fig2.show()"
      ],
      "metadata": {
        "colab": {
          "base_uri": "https://localhost:8080/",
          "height": 542
        },
        "id": "O9K55c9xW4b8",
        "outputId": "edb27437-fbae-493b-9b39-405462613676"
      },
      "execution_count": 57,
      "outputs": [
        {
          "output_type": "display_data",
          "data": {
            "text/html": [
              "<html>\n",
              "<head><meta charset=\"utf-8\" /></head>\n",
              "<body>\n",
              "    <div>            <script src=\"https://cdnjs.cloudflare.com/ajax/libs/mathjax/2.7.5/MathJax.js?config=TeX-AMS-MML_SVG\"></script><script type=\"text/javascript\">if (window.MathJax && window.MathJax.Hub && window.MathJax.Hub.Config) {window.MathJax.Hub.Config({SVG: {font: \"STIX-Web\"}});}</script>                <script type=\"text/javascript\">window.PlotlyConfig = {MathJaxConfig: 'local'};</script>\n",
              "        <script charset=\"utf-8\" src=\"https://cdn.plot.ly/plotly-2.35.2.min.js\"></script>                <div id=\"c03cacab-43db-40c3-823c-052e574ed54a\" class=\"plotly-graph-div\" style=\"height:525px; width:100%;\"></div>            <script type=\"text/javascript\">                                    window.PLOTLYENV=window.PLOTLYENV || {};                                    if (document.getElementById(\"c03cacab-43db-40c3-823c-052e574ed54a\")) {                    Plotly.newPlot(                        \"c03cacab-43db-40c3-823c-052e574ed54a\",                        [{\"alignmentgroup\":\"True\",\"bingroup\":\"x\",\"hovertemplate\":\"Horas de sueño=%{x}\\u003cbr\\u003ecount=%{y}\\u003cextra\\u003e\\u003c\\u002fextra\\u003e\",\"legendgroup\":\"\",\"marker\":{\"color\":\"#636efa\",\"pattern\":{\"shape\":\"\"}},\"name\":\"\",\"nbinsx\":20,\"offsetgroup\":\"\",\"orientation\":\"v\",\"showlegend\":false,\"x\":[4.9,7.2,7.3,2.7,6.6,6.3,4.7,3.3,6.3,2.6,5.3,6.7,8.2,6.0,9.4,3.8,3.5,8.0,3.0,6.1,5.1,5.9,4.6,6.0,6.5,5.9,5.6,6.9,9.0,6.1,7.7,5.1,6.1,8.5,7.7,1.4,7.2,7.8,4.6,4.9,8.0,5.1,5.3,5.8,9.9,8.9,4.6,8.5,3.9,9.6,5.1,3.8,6.6,3.8,8.4,5.2,4.9,6.5,6.9,6.2,4.8,5.2,7.1,6.8,8.2,5.7,7.3,6.5,9.2,6.6,5.7,6.7,5.7,7.1,8.5,6.6,7.7,8.3,5.8,6.8,7.7,7.0,8.0,7.3,7.4,6.7,7.8,5.2,5.6,7.8,5.5,6.2,4.9,7.3,6.3,7.5,5.3,6.7,8.6,5.5,7.7,8.6,5.9,3.8,7.1,4.1,8.3,6.1,4.1,8.4,6.2,11.3,5.3,5.5,5.2,6.2,8.9,8.0,4.2,8.3,7.5,7.2,5.5,6.7,5.7,8.5,5.6,4.5,4.6,6.1,6.8,7.2,6.1,6.2,9.1,8.3,7.1,7.9,3.6,5.3,5.9,5.3,4.2,7.1,8.6,6.5,6.4,5.8,7.9,4.4,3.7,4.3,7.8,9.0,4.8,8.3,5.9,5.7,6.6,6.9,6.2,7.4,6.6,6.2,6.9,4.5,4.9,5.9,7.3,3.8,5.0,4.5,7.5,7.2,8.4,7.8,4.7,3.5,6.9,6.8,7.5,5.1,5.9,5.2,5.2,7.3,4.2,7.6,6.0,5.0,5.1,6.9,4.9,5.9,6.5,6.0,7.0,6.7,6.4,5.6,8.1,7.1,4.9,7.5,7.8,6.4,6.5,3.4,7.8,5.3,6.3,5.2,6.8,7.1,4.8,6.7,8.9,7.6,6.6,3.6,6.1,9.0,8.5,5.4,6.6,7.9,7.0,7.8,6.4,7.1,8.0,7.6,4.7,4.8,8.2,6.8,6.8,9.1,5.8,8.2,6.9,5.3,5.6,8.1,7.0,5.7,8.2,4.6,6.3,5.7,3.9,10.1,5.2,6.2,5.5,3.7,7.7,7.6,6.5,6.7,3.1,7.9,4.9,3.4,5.6,5.9,3.9,7.9,7.1,5.2,7.8,6.1,5.4,8.1,9.5,8.5,6.4,9.9,7.3,5.0,6.6,5.5,4.6,6.3,8.1,4.6,6.0,7.2,6.7,7.5,5.8,8.4,6.5,7.6,6.6,5.2,6.2,6.7,5.9,4.4,9.1,8.1,4.8,7.2,7.8,6.7,5.6,7.3,2.5,4.0,8.0,2.8,3.8,6.8,4.9,6.5,8.0,4.7,7.1,3.9,7.0,7.6,8.0,7.9,9.3,6.7,9.3,5.1,6.2,6.3,4.9,3.0,7.8,5.1,5.9,8.9,9.1,6.7,7.3,6.1,5.2,5.8,7.5,5.6,6.2,6.4,8.1,8.3,5.1,5.5,8.2,5.4,4.6,6.7,7.4,7.2,5.5,6.1,6.1,6.9,6.8,9.1,7.0,6.6,7.0,5.9,6.4,8.2,7.1,2.8,6.2,5.8,6.7,6.7,5.9,7.1,6.7,5.1,8.3,5.1,8.0,3.8,5.2,7.7,8.8,6.5,7.8,5.8,7.1,6.0,2.1,3.6,4.9,8.2,8.7,7.0,6.2,6.5,8.2,4.9,8.3,7.4,8.0,8.5,7.6,2.8,6.7,7.4,5.7,5.7,8.8,6.8,4.8,4.4,5.2,6.7,7.2,7.2,7.9,8.3,6.1,5.0,9.7,4.9,5.7,7.3,3.5,8.4,5.9,10.6,8.3,8.3,8.2,6.5,6.3,5.1,5.6,6.0,6.6,8.9,3.3,8.5,5.0,5.4,9.3,5.8,7.3,4.8,6.4,8.3,5.2,7.7,6.0,8.2,9.1,3.5,4.5,5.8,8.7,7.3,4.6,7.5,7.3,5.1,6.4,8.3,3.7,7.0,6.5,7.2,6.5,8.7,6.8,6.0,6.0,6.1,5.2,7.5,9.9,9.7,5.1,6.2,5.2,4.0,9.1,8.1,6.9,6.3,6.5,5.3,4.8,7.6,6.1,7.0,4.0,6.0,7.2,8.0,8.7,5.6,4.8,5.9,5.5,7.1,4.4,6.0,7.6,5.0,7.8,7.0,5.3,4.1,7.4,6.9,6.8,4.9,7.7,5.5,6.8,5.8,7.0,4.7,7.2,7.5,6.7,9.0,6.8,7.9,6.6,7.7,4.2,6.5,6.7,7.1,7.7,7.2,6.0,5.4,3.0,6.6,8.2,6.7,6.4,6.7,5.9,6.8,5.9,5.2,6.4,6.4,9.3,5.3,6.3,9.9,6.0,7.3,3.6,5.9,6.4,7.3,5.6,6.9,8.9,4.8,9.8,4.2,5.8,5.2,6.1,5.2,4.7,7.5,6.1,6.9,4.3,7.0,6.4,7.3,9.0,7.0,6.2,4.7,2.9,6.7,4.6,2.7,6.0,6.9,7.6,8.1,7.8,7.9,6.3,7.4,6.3,6.5,6.9,6.4,5.2,3.9,6.2,6.6,7.9,8.2,6.3,6.4,7.1,5.8,6.3,6.0,6.6,6.9,7.7,7.6,2.6,6.9,7.1,7.4,5.1,3.3,7.7,4.7,8.3,5.0,7.0,7.4,7.3,7.3,4.2,7.1,7.8,6.8,8.0,3.8,4.7,7.3,7.6,3.6,3.9,5.1,5.7,5.0,7.3,4.7,3.6,8.2,5.4,7.7,6.6,8.2,7.8,5.8,8.0,5.6,6.9,7.8,7.6,6.7,3.6,6.5,6.2,5.7,6.0,6.3,6.3,5.6,6.2,7.0,5.1,6.3,6.4,5.1,4.9,8.9,8.0,4.6,6.8,8.3,6.4,10.4,6.6,8.4,4.7,4.9,7.0,8.1,3.9,6.7,7.8,5.9,6.4,6.8,4.7,5.3,4.5,4.4,8.0,7.7,7.7,4.7,7.7,8.1,7.2,5.3,6.9,7.7,5.7,6.7,7.3,6.4,7.3,5.9,5.2,4.9,5.7,7.8,3.9,4.9,7.8,8.5,5.0,4.9,8.6,6.3,5.2,8.1,7.6,7.1,8.4,7.5,7.9,8.6,5.7,7.8,4.8,6.2,7.4,6.9,6.9,4.8,7.0,6.8,6.6,7.8,7.5,5.0,6.5,8.3,6.2,8.8,9.1,6.3,7.4,5.4,7.1,6.0,5.5,4.9,6.2,5.3,5.6,7.0,7.5,6.0,8.0,5.0,4.2,4.9,4.5,9.5,4.2,6.5,6.8,5.1,7.0,5.1,7.9,8.0,6.3,7.1,7.1,8.0,6.5,5.8,7.7,6.3,6.7,7.3,8.0,5.6,9.2,8.8,5.0,5.1,5.3,7.8,9.3,5.7,6.8,5.4,9.1,7.7,3.3,8.1,5.6,7.8,6.9,5.3,6.0,5.5,6.7,7.1,9.2,7.2,8.7,5.8,8.2,5.9,5.1,5.1,7.8,6.2,4.2,4.8,6.8,3.7,4.2,5.4,6.8,7.2,7.7,4.5,6.0,8.1,6.9,6.7,8.5,5.8,4.4,5.0,6.8,4.1,6.6,5.4,7.6,7.2,4.2,6.6,6.7,7.0,6.4,5.0,6.5,9.3,5.9,8.1,6.6,5.3,6.1,6.5,7.5,6.6,4.0,7.3,7.3,6.3,6.6,9.3,7.4,4.3,4.7,7.2,4.2,5.6,8.3,5.5,4.7,7.5,9.6,6.3,5.3,7.8,6.8,8.1,7.7,7.2,8.9,6.2,4.2,6.7,6.3,3.3,4.8,4.6,5.3,6.0,4.6,7.1,6.7,6.7,6.7,6.0,6.3,6.6,7.4,6.4,3.6,5.8,6.5,4.0,5.9,6.4,6.4,7.2,5.3,6.3,5.9,5.3,6.1,6.9,7.7,6.8,6.9,5.7,8.3,5.2,4.1,4.9,8.1,7.2,4.5,6.1,3.9,9.8,4.5,5.9,7.2,5.3,8.1,7.6,6.5,8.5,6.4,6.1,9.5,6.9,5.0,6.5,2.9,5.6,6.3,4.6,5.8,8.3,8.0,6.6,6.4,6.3,6.9,6.7,4.7,6.0,6.8,5.1,5.5,6.2,6.2,6.8,5.2,8.0,6.2,6.7,5.9,6.9,9.0,5.9,5.7,5.3,6.4,6.6,7.2,7.0,6.5,9.4,7.5,4.9,4.2,5.5,6.7,5.3,6.0,3.4,8.1,4.6,6.6,4.8,5.6,7.2,7.7,7.7,6.9,8.4,5.6,5.9,7.4,5.6,7.8,6.4,7.6,7.2,8.6,7.0,6.4,5.7,7.2,8.8,5.6,6.1,6.5,7.5,7.0,7.9,9.5,5.5,7.4,7.0,6.5,7.4,6.1,7.0,4.5,5.7,8.1,8.0,6.9,7.7,8.4,5.9,4.3,7.2,7.9,7.4,8.8,6.0,6.8,5.8,5.0,5.1,7.6,7.8,7.2,5.3,8.1,5.3,3.5,5.7,7.4,8.3,5.5,5.2,6.7,4.2,6.0,6.9,5.3,5.3,6.1,6.2,8.7,7.4,8.0,6.1,4.8,9.5,7.9,2.7,8.5,7.3,3.2,5.9,8.6,7.0,7.7,4.4,7.3,7.8,10.4,5.6,6.5,7.5,7.8,8.1,4.3,2.6,5.7,6.4,5.6,6.0,7.4,4.9,6.4,6.4,7.3,8.2,6.1,4.1,5.2,7.9,9.6,6.2,5.2,6.2,5.2,7.2,7.8,6.6,5.6,5.2,4.8,6.0,9.0,7.8,5.9,7.2,10.3,5.6,9.3,8.5,5.6,9.3,6.7,5.2,5.6,7.8,5.2,4.8,5.8,5.8,7.9,6.9,5.7,5.9,6.3,6.4,6.8,6.8,8.6,4.7,4.1,6.0,7.7,7.1,5.9,3.6,7.3,3.6,8.6,7.2,6.4,5.6,8.9,5.4,8.9,6.5,6.9,6.6,5.4,7.0,7.5,5.8,6.9,6.6,7.9,6.1,6.8,7.2,6.0,5.5,7.1,6.1,6.1,7.4,8.0,8.3,5.6,7.9,9.6,6.4,6.1,4.9,7.8,6.4,6.3,7.5,7.7,5.6,5.6,8.7,5.9,6.1,7.0,9.8,6.9,7.3,2.7,6.9,4.4,5.8,6.6,5.5,5.6,6.2,6.1,6.5,6.4,8.4,3.4,6.9,6.3,5.4,6.3,4.0,6.8,7.1,9.4,6.3,6.6,8.5,9.7,4.8,5.6,5.4,7.8,5.2,8.4,7.4,8.2,5.2,5.9,7.8,6.1,6.3,5.8,6.2,5.1,4.8,8.0,8.2,7.0,5.4,4.7,8.8,7.8,5.7,5.8,5.1,4.2,6.7,9.1,7.4,5.6,4.3,8.1,7.2,5.8,7.4,5.3,6.9,9.8,5.5,4.7,6.3,8.2,6.3,5.5,4.9,8.8,6.7,6.9,8.2,7.4,6.3,7.6,5.6,8.6,5.7,6.0,6.2,5.6,8.2,7.1,6.0,4.6,7.0,8.5,6.6,8.3,4.7,9.6,8.1,7.2,5.6,6.4,4.5,6.5,7.6,7.9,7.6,4.4,8.2,4.9,6.5,3.6,7.4,6.3,4.6,5.4,5.5,3.1,6.2,5.9,8.0,5.6,5.7,5.8,6.2,6.6,7.4,10.0,5.3,7.1,8.1,6.8,5.4,4.8,7.4,8.3,7.5,8.9,5.9,5.4,6.4,7.2,5.7,7.8,9.4,7.0,6.0,7.2,8.3,6.7,7.2,7.6,5.2,4.5,8.2,7.8,9.1,4.5,6.2,6.9,2.3,6.3,4.8,4.8,6.1,3.8,3.8,6.7,6.7,6.0,8.0,5.1,3.0,6.3,6.1,9.1,7.5,5.9,6.7,7.9,7.3,9.0,5.3,6.8,5.7,6.3,6.8,7.4,6.6,2.8,6.4,6.4,8.7,5.9,5.7,6.2,6.5,6.0,8.4,6.9,7.1,6.0,7.0,4.0,6.0,6.5,6.6,6.6,9.4,5.6,7.1,8.5,6.9,4.0,9.8,7.1,3.7,5.8,9.1,7.6,4.0,7.2,4.2,7.2,7.6,7.2,9.3,6.8,4.7,4.0,9.5,7.8,10.7,7.1,6.1,6.4,4.9,4.3,6.8,4.9,5.2,6.5,7.0,4.9,6.9,4.8,3.0,6.3,8.6,7.0,3.5,7.8,6.8,5.9,8.3,9.4,4.5,4.8,6.1,5.6,5.6,7.1,7.8,3.1,5.5,6.3,6.2,4.2,4.3,6.5,6.0,6.6,5.9,8.4,6.5,7.7,9.4,6.7,6.8,5.3,6.1,7.3,8.2,7.2,9.2,6.6,4.9,8.0,4.0,6.2,6.2,5.4,4.4,5.1,4.4,7.7,6.9,5.8,3.4,6.1,5.4,4.8,7.0,3.5,4.6,5.9,8.3,8.1,8.8,7.9,5.9,6.1,3.6,7.7,2.7,4.4,7.1,8.0,5.3,4.5,3.9,8.1,7.5,7.5,6.9,7.3,7.1,5.2,6.0,11.1,6.6,3.5,5.9,4.9,6.7,6.2,5.4,6.8,9.4,4.8,7.6,5.4,3.8,6.4,8.8,6.3,8.2,10.2,4.9,5.1,7.4,3.0,7.5,5.7,7.1,7.8,6.5,7.0,6.9,8.3,7.1,7.5,7.8,9.4,5.6,8.9,10.2,5.7,7.5,3.7,5.8,6.1,6.0,5.9,5.8,7.7,9.1,7.7,4.9,6.2,6.1,8.1,6.8,6.5,7.5,2.9,4.2,6.4,8.3,9.6,8.0,6.0,8.4,5.8,5.6,6.0,7.2,8.1,5.9,8.6,7.5,7.5,5.1,9.2,7.3,6.0,5.7,6.0,5.0,8.0,5.8,7.5,7.7,5.5,6.4,4.3,8.1,5.2,6.3,6.6,5.5,6.6,6.1,5.9,4.9,5.5,8.2,3.4,6.6,6.5,7.6,6.6,5.8,8.4,8.1,10.8,6.1,5.5,7.1,7.4,8.1,8.3,3.1,5.1,8.1,3.1,8.7,5.2,4.9,7.0,5.9,5.7,8.1,5.7,5.7,8.7,5.2,8.8,5.1,5.6,9.2,9.4,7.4,5.4,4.3,4.5,5.5,5.0,2.6,7.8,7.7,7.0,4.8,9.0,6.2,5.3,6.8,2.7,6.5,6.7,5.9,4.5,4.6,7.6,5.8,7.1,5.8,5.2,6.8,4.8,9.3,4.3,6.9,6.7,6.6,8.7,2.5,7.1,6.1,7.4,6.6,4.7,5.5,11.2,7.4,8.1,6.0,7.7,6.0,7.1,5.8,7.1,6.0,8.1,6.9,8.3,5.5,10.4,7.6,4.9,8.2,6.3,6.1,6.1,8.6,6.3,9.2,3.9,3.9,6.1,8.0,4.7,4.6,7.1,7.3,6.1,7.1,8.5,4.7,8.3,3.9,7.4,5.7,7.5,5.8,7.4,6.7,7.1,8.5,7.9,6.3,4.3,9.0,7.5,6.9,7.0,5.3,6.6,5.2,4.4,6.8,7.9,7.9,7.5,4.9,7.5,7.5,9.1,7.1,5.7,3.7,7.3,9.0,9.0,7.2,4.9,6.9,4.9,7.2,6.6,5.1,5.3,7.3,5.7,7.2,8.2,6.2,5.6,8.1,5.4,8.4,6.7,5.5,8.4,7.3,7.2,6.0,8.2,7.3,5.9,5.8,6.4,8.2,5.4,7.1,7.4,9.5,5.9,4.2,7.3,6.0,7.0,5.4,6.2,4.0,4.9,4.7,7.8,5.3,8.6,5.3,9.6,3.6,6.6,4.7,5.7,6.1,6.9,6.7,7.7,5.2,5.9,5.1,3.8,9.0,6.1,6.1,7.6,5.4,6.2,5.4,3.9,8.0,6.6,7.9,4.9,4.6,7.0,6.0,6.0,7.5,5.8,8.1,6.9,6.0,4.2,7.5,6.9,7.0,5.7,6.3,5.8,6.1,5.6,8.3,6.9,6.3,5.9,7.2,9.0,6.8,7.2,5.3,6.5,7.8,4.9,8.0,8.2,8.0,8.3,8.2,5.7,6.2,4.1,3.4,6.0,7.7,11.1,5.9,4.9,7.3,6.8,5.6,7.9,5.3,6.3,6.4,5.1,7.9,8.0,5.3,6.8,4.4,8.6,8.6,9.5,8.0,7.2,7.8,7.5,5.3,4.2,7.8,9.6,7.9,3.7,5.7,6.2,3.7,4.4,6.4,6.9,4.4,5.9,6.1,5.7,5.3,8.5,5.2,6.5,3.6,6.9,4.2,4.7,7.3,5.9,5.5,6.8,4.3,7.7,8.1,5.8,6.0,5.4,4.2,7.2,7.8,5.8,4.9,7.0,5.2,7.5,9.4,5.2,5.4,4.3,6.7,6.6,6.5,4.9,5.4,3.6,5.2,7.0,6.6,3.8,8.1,6.2,4.6,5.6,5.2,7.7,4.8,6.8,6.4,6.1,4.9,4.6,8.6,6.1,7.5,7.8,6.6,5.9,6.0,8.9,5.7,6.9,8.1,5.9,3.8,8.5,8.2,6.0,7.2,7.8,4.5,8.2,6.1,5.9,6.3,5.2,4.9,7.8,8.2,7.9,7.7,3.7,7.6,4.6,6.3,8.4,8.2,8.5,4.9,5.3,6.8,8.4,8.6,4.8,7.6,6.4,7.1,5.3,7.6,5.5,7.2,2.7,7.6,9.2,8.7,6.8,8.2,7.5,5.6,5.8,6.2,7.2,9.6,6.5,5.3,6.0,7.1,7.6,8.4,7.8,4.7,3.9,6.6,7.1,9.1,5.6,8.4,5.6,8.8,4.2,9.4,9.2,7.4,6.9,7.2,6.3,8.3,7.4,5.1,6.7,6.0,6.7,3.6,6.1,5.1,7.9,5.0,8.5,5.6,6.0,5.9,7.4,9.3,6.5,6.5,5.6,4.1,5.8,4.6,3.7,6.4,8.6,7.5,7.5,8.5,6.2,8.5,7.3,10.1,6.3,6.8,6.0,8.8,10.4,7.6,4.1,5.2,8.2,4.8,5.6,5.5,6.4,6.9,3.7,4.2,4.2,4.4,6.5,6.8,8.0,5.6,6.8,8.1,6.2,6.0,5.1,5.3,7.5,5.5,7.6,7.1,6.4,7.4,7.3,6.8,6.6,4.0,6.6,6.1,9.4,7.2,5.0,5.6,7.1,5.8,5.7,4.9,6.7,7.1,5.5,7.1,4.9,6.2,7.0,6.1,4.2,7.4,7.0,7.4,7.6,5.5,7.3,6.9,9.0,8.6,6.4,5.9,8.8,7.3,6.2,3.5,5.4,6.3,7.4,8.8,7.9,4.5,8.0,9.1,9.0,4.7,6.2,7.9,3.9,5.5,4.1,8.3,6.7,5.1,6.8,7.3,7.0,4.2,7.2,6.0,5.2,6.7,5.8,6.0,8.0,6.9,7.5,8.1,5.7,6.2,8.0,6.6,9.9,8.4,4.9,7.9,7.5,2.9,6.3,5.7,4.8,6.5,3.3,6.6,6.5,7.5,4.1,9.1,5.3,8.7,7.8,5.8,5.6,5.7,6.2,6.3,7.8,7.7,6.9,6.7,6.4,8.0,6.7,3.7,5.3,4.2,8.2,6.4,3.4,5.3,6.5,6.6,5.7,8.1,5.6,9.3,4.1,5.3,7.8,7.6,6.5,4.8,4.8,5.4,4.9,6.7,6.0,2.5,7.6,5.1,5.3,6.9,7.7,5.3,6.2,4.9,6.1,4.9,5.1,6.9,7.1,6.8,4.5,8.2,6.3,5.3,9.2,7.7,5.4,8.1,8.5,6.5,6.0,7.6,5.9,5.8,6.5,5.3,8.0,6.6,5.2,5.3,4.7,7.0,5.5,5.5,5.3,8.0,8.4,6.1,7.2,7.8,5.2,6.6,7.0,6.6,5.8,6.1,5.6,3.9,6.8,6.4,7.8,8.2,6.1,7.9,6.3,6.2,8.9,4.6,6.1,6.0,6.6,8.5,9.4,7.5,5.0,6.2,6.9,5.9,6.1,6.4,7.7,7.3,5.6,9.1,4.2,5.8,5.7,6.6,3.8,8.5,6.9,6.8,5.7,6.5,3.4,6.3,6.1,7.5,10.6,7.1,5.5,5.6,7.1,5.5,6.5,4.8,8.2,5.4,7.2,5.7,6.4,6.4,6.0,4.8,7.3,7.0,4.4,5.3,4.9,6.0,6.6,8.0,8.1,8.4,2.4,9.4,6.7,6.3,7.0,8.9,6.7,4.8,4.2,6.1,5.4,7.6,8.6,7.2,6.4,6.6,4.8,7.4,4.9,8.2,4.3,7.7,8.5,7.0,6.0,5.7,6.9],\"xaxis\":\"x\",\"yaxis\":\"y\",\"type\":\"histogram\"}],                        {\"template\":{\"data\":{\"histogram2dcontour\":[{\"type\":\"histogram2dcontour\",\"colorbar\":{\"outlinewidth\":0,\"ticks\":\"\"},\"colorscale\":[[0.0,\"#0d0887\"],[0.1111111111111111,\"#46039f\"],[0.2222222222222222,\"#7201a8\"],[0.3333333333333333,\"#9c179e\"],[0.4444444444444444,\"#bd3786\"],[0.5555555555555556,\"#d8576b\"],[0.6666666666666666,\"#ed7953\"],[0.7777777777777778,\"#fb9f3a\"],[0.8888888888888888,\"#fdca26\"],[1.0,\"#f0f921\"]]}],\"choropleth\":[{\"type\":\"choropleth\",\"colorbar\":{\"outlinewidth\":0,\"ticks\":\"\"}}],\"histogram2d\":[{\"type\":\"histogram2d\",\"colorbar\":{\"outlinewidth\":0,\"ticks\":\"\"},\"colorscale\":[[0.0,\"#0d0887\"],[0.1111111111111111,\"#46039f\"],[0.2222222222222222,\"#7201a8\"],[0.3333333333333333,\"#9c179e\"],[0.4444444444444444,\"#bd3786\"],[0.5555555555555556,\"#d8576b\"],[0.6666666666666666,\"#ed7953\"],[0.7777777777777778,\"#fb9f3a\"],[0.8888888888888888,\"#fdca26\"],[1.0,\"#f0f921\"]]}],\"heatmap\":[{\"type\":\"heatmap\",\"colorbar\":{\"outlinewidth\":0,\"ticks\":\"\"},\"colorscale\":[[0.0,\"#0d0887\"],[0.1111111111111111,\"#46039f\"],[0.2222222222222222,\"#7201a8\"],[0.3333333333333333,\"#9c179e\"],[0.4444444444444444,\"#bd3786\"],[0.5555555555555556,\"#d8576b\"],[0.6666666666666666,\"#ed7953\"],[0.7777777777777778,\"#fb9f3a\"],[0.8888888888888888,\"#fdca26\"],[1.0,\"#f0f921\"]]}],\"heatmapgl\":[{\"type\":\"heatmapgl\",\"colorbar\":{\"outlinewidth\":0,\"ticks\":\"\"},\"colorscale\":[[0.0,\"#0d0887\"],[0.1111111111111111,\"#46039f\"],[0.2222222222222222,\"#7201a8\"],[0.3333333333333333,\"#9c179e\"],[0.4444444444444444,\"#bd3786\"],[0.5555555555555556,\"#d8576b\"],[0.6666666666666666,\"#ed7953\"],[0.7777777777777778,\"#fb9f3a\"],[0.8888888888888888,\"#fdca26\"],[1.0,\"#f0f921\"]]}],\"contourcarpet\":[{\"type\":\"contourcarpet\",\"colorbar\":{\"outlinewidth\":0,\"ticks\":\"\"}}],\"contour\":[{\"type\":\"contour\",\"colorbar\":{\"outlinewidth\":0,\"ticks\":\"\"},\"colorscale\":[[0.0,\"#0d0887\"],[0.1111111111111111,\"#46039f\"],[0.2222222222222222,\"#7201a8\"],[0.3333333333333333,\"#9c179e\"],[0.4444444444444444,\"#bd3786\"],[0.5555555555555556,\"#d8576b\"],[0.6666666666666666,\"#ed7953\"],[0.7777777777777778,\"#fb9f3a\"],[0.8888888888888888,\"#fdca26\"],[1.0,\"#f0f921\"]]}],\"surface\":[{\"type\":\"surface\",\"colorbar\":{\"outlinewidth\":0,\"ticks\":\"\"},\"colorscale\":[[0.0,\"#0d0887\"],[0.1111111111111111,\"#46039f\"],[0.2222222222222222,\"#7201a8\"],[0.3333333333333333,\"#9c179e\"],[0.4444444444444444,\"#bd3786\"],[0.5555555555555556,\"#d8576b\"],[0.6666666666666666,\"#ed7953\"],[0.7777777777777778,\"#fb9f3a\"],[0.8888888888888888,\"#fdca26\"],[1.0,\"#f0f921\"]]}],\"mesh3d\":[{\"type\":\"mesh3d\",\"colorbar\":{\"outlinewidth\":0,\"ticks\":\"\"}}],\"scatter\":[{\"fillpattern\":{\"fillmode\":\"overlay\",\"size\":10,\"solidity\":0.2},\"type\":\"scatter\"}],\"parcoords\":[{\"type\":\"parcoords\",\"line\":{\"colorbar\":{\"outlinewidth\":0,\"ticks\":\"\"}}}],\"scatterpolargl\":[{\"type\":\"scatterpolargl\",\"marker\":{\"colorbar\":{\"outlinewidth\":0,\"ticks\":\"\"}}}],\"bar\":[{\"error_x\":{\"color\":\"#2a3f5f\"},\"error_y\":{\"color\":\"#2a3f5f\"},\"marker\":{\"line\":{\"color\":\"#E5ECF6\",\"width\":0.5},\"pattern\":{\"fillmode\":\"overlay\",\"size\":10,\"solidity\":0.2}},\"type\":\"bar\"}],\"scattergeo\":[{\"type\":\"scattergeo\",\"marker\":{\"colorbar\":{\"outlinewidth\":0,\"ticks\":\"\"}}}],\"scatterpolar\":[{\"type\":\"scatterpolar\",\"marker\":{\"colorbar\":{\"outlinewidth\":0,\"ticks\":\"\"}}}],\"histogram\":[{\"marker\":{\"pattern\":{\"fillmode\":\"overlay\",\"size\":10,\"solidity\":0.2}},\"type\":\"histogram\"}],\"scattergl\":[{\"type\":\"scattergl\",\"marker\":{\"colorbar\":{\"outlinewidth\":0,\"ticks\":\"\"}}}],\"scatter3d\":[{\"type\":\"scatter3d\",\"line\":{\"colorbar\":{\"outlinewidth\":0,\"ticks\":\"\"}},\"marker\":{\"colorbar\":{\"outlinewidth\":0,\"ticks\":\"\"}}}],\"scattermapbox\":[{\"type\":\"scattermapbox\",\"marker\":{\"colorbar\":{\"outlinewidth\":0,\"ticks\":\"\"}}}],\"scatterternary\":[{\"type\":\"scatterternary\",\"marker\":{\"colorbar\":{\"outlinewidth\":0,\"ticks\":\"\"}}}],\"scattercarpet\":[{\"type\":\"scattercarpet\",\"marker\":{\"colorbar\":{\"outlinewidth\":0,\"ticks\":\"\"}}}],\"carpet\":[{\"aaxis\":{\"endlinecolor\":\"#2a3f5f\",\"gridcolor\":\"white\",\"linecolor\":\"white\",\"minorgridcolor\":\"white\",\"startlinecolor\":\"#2a3f5f\"},\"baxis\":{\"endlinecolor\":\"#2a3f5f\",\"gridcolor\":\"white\",\"linecolor\":\"white\",\"minorgridcolor\":\"white\",\"startlinecolor\":\"#2a3f5f\"},\"type\":\"carpet\"}],\"table\":[{\"cells\":{\"fill\":{\"color\":\"#EBF0F8\"},\"line\":{\"color\":\"white\"}},\"header\":{\"fill\":{\"color\":\"#C8D4E3\"},\"line\":{\"color\":\"white\"}},\"type\":\"table\"}],\"barpolar\":[{\"marker\":{\"line\":{\"color\":\"#E5ECF6\",\"width\":0.5},\"pattern\":{\"fillmode\":\"overlay\",\"size\":10,\"solidity\":0.2}},\"type\":\"barpolar\"}],\"pie\":[{\"automargin\":true,\"type\":\"pie\"}]},\"layout\":{\"autotypenumbers\":\"strict\",\"colorway\":[\"#636efa\",\"#EF553B\",\"#00cc96\",\"#ab63fa\",\"#FFA15A\",\"#19d3f3\",\"#FF6692\",\"#B6E880\",\"#FF97FF\",\"#FECB52\"],\"font\":{\"color\":\"#2a3f5f\"},\"hovermode\":\"closest\",\"hoverlabel\":{\"align\":\"left\"},\"paper_bgcolor\":\"white\",\"plot_bgcolor\":\"#E5ECF6\",\"polar\":{\"bgcolor\":\"#E5ECF6\",\"angularaxis\":{\"gridcolor\":\"white\",\"linecolor\":\"white\",\"ticks\":\"\"},\"radialaxis\":{\"gridcolor\":\"white\",\"linecolor\":\"white\",\"ticks\":\"\"}},\"ternary\":{\"bgcolor\":\"#E5ECF6\",\"aaxis\":{\"gridcolor\":\"white\",\"linecolor\":\"white\",\"ticks\":\"\"},\"baxis\":{\"gridcolor\":\"white\",\"linecolor\":\"white\",\"ticks\":\"\"},\"caxis\":{\"gridcolor\":\"white\",\"linecolor\":\"white\",\"ticks\":\"\"}},\"coloraxis\":{\"colorbar\":{\"outlinewidth\":0,\"ticks\":\"\"}},\"colorscale\":{\"sequential\":[[0.0,\"#0d0887\"],[0.1111111111111111,\"#46039f\"],[0.2222222222222222,\"#7201a8\"],[0.3333333333333333,\"#9c179e\"],[0.4444444444444444,\"#bd3786\"],[0.5555555555555556,\"#d8576b\"],[0.6666666666666666,\"#ed7953\"],[0.7777777777777778,\"#fb9f3a\"],[0.8888888888888888,\"#fdca26\"],[1.0,\"#f0f921\"]],\"sequentialminus\":[[0.0,\"#0d0887\"],[0.1111111111111111,\"#46039f\"],[0.2222222222222222,\"#7201a8\"],[0.3333333333333333,\"#9c179e\"],[0.4444444444444444,\"#bd3786\"],[0.5555555555555556,\"#d8576b\"],[0.6666666666666666,\"#ed7953\"],[0.7777777777777778,\"#fb9f3a\"],[0.8888888888888888,\"#fdca26\"],[1.0,\"#f0f921\"]],\"diverging\":[[0,\"#8e0152\"],[0.1,\"#c51b7d\"],[0.2,\"#de77ae\"],[0.3,\"#f1b6da\"],[0.4,\"#fde0ef\"],[0.5,\"#f7f7f7\"],[0.6,\"#e6f5d0\"],[0.7,\"#b8e186\"],[0.8,\"#7fbc41\"],[0.9,\"#4d9221\"],[1,\"#276419\"]]},\"xaxis\":{\"gridcolor\":\"white\",\"linecolor\":\"white\",\"ticks\":\"\",\"title\":{\"standoff\":15},\"zerolinecolor\":\"white\",\"automargin\":true,\"zerolinewidth\":2},\"yaxis\":{\"gridcolor\":\"white\",\"linecolor\":\"white\",\"ticks\":\"\",\"title\":{\"standoff\":15},\"zerolinecolor\":\"white\",\"automargin\":true,\"zerolinewidth\":2},\"scene\":{\"xaxis\":{\"backgroundcolor\":\"#E5ECF6\",\"gridcolor\":\"white\",\"linecolor\":\"white\",\"showbackground\":true,\"ticks\":\"\",\"zerolinecolor\":\"white\",\"gridwidth\":2},\"yaxis\":{\"backgroundcolor\":\"#E5ECF6\",\"gridcolor\":\"white\",\"linecolor\":\"white\",\"showbackground\":true,\"ticks\":\"\",\"zerolinecolor\":\"white\",\"gridwidth\":2},\"zaxis\":{\"backgroundcolor\":\"#E5ECF6\",\"gridcolor\":\"white\",\"linecolor\":\"white\",\"showbackground\":true,\"ticks\":\"\",\"zerolinecolor\":\"white\",\"gridwidth\":2}},\"shapedefaults\":{\"line\":{\"color\":\"#2a3f5f\"}},\"annotationdefaults\":{\"arrowcolor\":\"#2a3f5f\",\"arrowhead\":0,\"arrowwidth\":1},\"geo\":{\"bgcolor\":\"white\",\"landcolor\":\"#E5ECF6\",\"subunitcolor\":\"white\",\"showland\":true,\"showlakes\":true,\"lakecolor\":\"white\"},\"title\":{\"x\":0.05},\"mapbox\":{\"style\":\"light\"}}},\"xaxis\":{\"anchor\":\"y\",\"domain\":[0.0,1.0],\"title\":{\"text\":\"Horas de sueño\"}},\"yaxis\":{\"anchor\":\"x\",\"domain\":[0.0,1.0],\"title\":{\"text\":\"Cantidad de personas\"}},\"legend\":{\"tracegroupgap\":0},\"title\":{\"text\":\"Distribución de horas de sueño\"},\"barmode\":\"relative\"},                        {\"responsive\": true}                    ).then(function(){\n",
              "                            \n",
              "var gd = document.getElementById('c03cacab-43db-40c3-823c-052e574ed54a');\n",
              "var x = new MutationObserver(function (mutations, observer) {{\n",
              "        var display = window.getComputedStyle(gd).display;\n",
              "        if (!display || display === 'none') {{\n",
              "            console.log([gd, 'removed!']);\n",
              "            Plotly.purge(gd);\n",
              "            observer.disconnect();\n",
              "        }}\n",
              "}});\n",
              "\n",
              "// Listen for the removal of the full notebook cells\n",
              "var notebookContainer = gd.closest('#notebook-container');\n",
              "if (notebookContainer) {{\n",
              "    x.observe(notebookContainer, {childList: true});\n",
              "}}\n",
              "\n",
              "// Listen for the clearing of the current output cell\n",
              "var outputEl = gd.closest('.output');\n",
              "if (outputEl) {{\n",
              "    x.observe(outputEl, {childList: true});\n",
              "}}\n",
              "\n",
              "                        })                };                            </script>        </div>\n",
              "</body>\n",
              "</html>"
            ]
          },
          "metadata": {}
        }
      ]
    },
    {
      "cell_type": "markdown",
      "source": [
        "3. Boxplot: Nivel de ejercicio según la condición de salud mental"
      ],
      "metadata": {
        "id": "mOvYDK51XH28"
      }
    },
    {
      "cell_type": "code",
      "source": [
        "fig3 = px.box(\n",
        "    df_clean,\n",
        "    x='Mental Health Condition',\n",
        "    y='Exercise Level',\n",
        "    title='Nivel de ejercicio según condición de salud mental',\n",
        "    labels={\n",
        "        'Mental Health Condition': 'Condición de salud mental',\n",
        "        'Exercise Level': 'Nivel de ejercicio'\n",
        "    }\n",
        ")\n",
        "fig3.show()"
      ],
      "metadata": {
        "colab": {
          "base_uri": "https://localhost:8080/",
          "height": 542
        },
        "id": "J6cs59QZXzDi",
        "outputId": "81aa1383-391d-41e1-cca7-4db4fcc75fdf"
      },
      "execution_count": 58,
      "outputs": [
        {
          "output_type": "display_data",
          "data": {
            "text/html": [
              "<html>\n",
              "<head><meta charset=\"utf-8\" /></head>\n",
              "<body>\n",
              "    <div>            <script src=\"https://cdnjs.cloudflare.com/ajax/libs/mathjax/2.7.5/MathJax.js?config=TeX-AMS-MML_SVG\"></script><script type=\"text/javascript\">if (window.MathJax && window.MathJax.Hub && window.MathJax.Hub.Config) {window.MathJax.Hub.Config({SVG: {font: \"STIX-Web\"}});}</script>                <script type=\"text/javascript\">window.PlotlyConfig = {MathJaxConfig: 'local'};</script>\n",
              "        <script charset=\"utf-8\" src=\"https://cdn.plot.ly/plotly-2.35.2.min.js\"></script>                <div id=\"500ef212-3467-4cd3-bd2a-9fff731570a0\" class=\"plotly-graph-div\" style=\"height:525px; width:100%;\"></div>            <script type=\"text/javascript\">                                    window.PLOTLYENV=window.PLOTLYENV || {};                                    if (document.getElementById(\"500ef212-3467-4cd3-bd2a-9fff731570a0\")) {                    Plotly.newPlot(                        \"500ef212-3467-4cd3-bd2a-9fff731570a0\",                        [{\"alignmentgroup\":\"True\",\"hovertemplate\":\"Condición de salud mental=%{x}\\u003cbr\\u003eNivel de ejercicio=%{y}\\u003cextra\\u003e\\u003c\\u002fextra\\u003e\",\"legendgroup\":\"\",\"marker\":{\"color\":\"#636efa\"},\"name\":\"\",\"notched\":false,\"offsetgroup\":\"\",\"orientation\":\"v\",\"showlegend\":false,\"x\":[\"PTSD\",\"Depression\",\"Anxiety\",\"Anxiety\",\"Anxiety\",\"PTSD\",\"Anxiety\",\"PTSD\",\"PTSD\",\"Anxiety\",\"Bipolar\",\"Anxiety\",\"Anxiety\",\"Anxiety\",\"Bipolar\",\"Bipolar\",\"PTSD\",\"Bipolar\",\"PTSD\",\"PTSD\",\"Anxiety\",\"Depression\",\"Depression\",\"Anxiety\",\"PTSD\",\"Anxiety\",\"Bipolar\",\"PTSD\",\"Anxiety\",\"Bipolar\",\"Bipolar\",\"PTSD\",\"Bipolar\",\"Bipolar\",\"Bipolar\",\"Bipolar\",\"Bipolar\",\"Bipolar\",\"Depression\",\"Bipolar\",\"Anxiety\",\"PTSD\",\"Anxiety\",\"Anxiety\",\"Depression\",\"Depression\",\"Bipolar\",\"Depression\",\"PTSD\",\"Depression\",\"PTSD\",\"Anxiety\",\"Bipolar\",\"Bipolar\",\"Anxiety\",\"Depression\",\"Anxiety\",\"PTSD\",\"Depression\",\"Anxiety\",\"Bipolar\",\"Bipolar\",\"Bipolar\",\"Bipolar\",\"Anxiety\",\"Anxiety\",\"Depression\",\"Anxiety\",\"Anxiety\",\"Depression\",\"Depression\",\"Bipolar\",\"Anxiety\",\"PTSD\",\"PTSD\",\"Anxiety\",\"PTSD\",\"Anxiety\",\"Anxiety\",\"PTSD\",\"Anxiety\",\"Depression\",\"Bipolar\",\"PTSD\",\"Bipolar\",\"Depression\",\"Depression\",\"Depression\",\"Depression\",\"PTSD\",\"PTSD\",\"Anxiety\",\"Anxiety\",\"Anxiety\",\"Depression\",\"Bipolar\",\"Bipolar\",\"PTSD\",\"Depression\",\"Anxiety\",\"Anxiety\",\"PTSD\",\"PTSD\",\"Anxiety\",\"Anxiety\",\"Anxiety\",\"Anxiety\",\"Bipolar\",\"Anxiety\",\"Depression\",\"Anxiety\",\"PTSD\",\"Depression\",\"PTSD\",\"Depression\",\"PTSD\",\"Anxiety\",\"Anxiety\",\"Depression\",\"PTSD\",\"Bipolar\",\"Depression\",\"Depression\",\"Depression\",\"Bipolar\",\"Anxiety\",\"PTSD\",\"PTSD\",\"Anxiety\",\"Depression\",\"Bipolar\",\"Bipolar\",\"Bipolar\",\"Bipolar\",\"Bipolar\",\"Anxiety\",\"Bipolar\",\"Bipolar\",\"Anxiety\",\"PTSD\",\"Anxiety\",\"Depression\",\"Anxiety\",\"PTSD\",\"Depression\",\"Depression\",\"Bipolar\",\"Depression\",\"Depression\",\"PTSD\",\"Depression\",\"PTSD\",\"Bipolar\",\"Bipolar\",\"Bipolar\",\"Anxiety\",\"Depression\",\"Depression\",\"Depression\",\"PTSD\",\"Anxiety\",\"Depression\",\"PTSD\",\"PTSD\",\"PTSD\",\"Bipolar\",\"PTSD\",\"Bipolar\",\"Bipolar\",\"PTSD\",\"Depression\",\"PTSD\",\"PTSD\",\"PTSD\",\"Bipolar\",\"Anxiety\",\"Anxiety\",\"Anxiety\",\"Depression\",\"Bipolar\",\"Bipolar\",\"Anxiety\",\"Depression\",\"Depression\",\"Anxiety\",\"Anxiety\",\"Depression\",\"Bipolar\",\"Anxiety\",\"Bipolar\",\"Depression\",\"Anxiety\",\"Anxiety\",\"Depression\",\"Anxiety\",\"Anxiety\",\"Depression\",\"Anxiety\",\"Bipolar\",\"Anxiety\",\"PTSD\",\"PTSD\",\"Depression\",\"Depression\",\"Depression\",\"Bipolar\",\"Bipolar\",\"Anxiety\",\"PTSD\",\"PTSD\",\"PTSD\",\"Anxiety\",\"Anxiety\",\"Depression\",\"Depression\",\"Anxiety\",\"Bipolar\",\"Depression\",\"Anxiety\",\"Anxiety\",\"Bipolar\",\"Bipolar\",\"Bipolar\",\"Anxiety\",\"Bipolar\",\"PTSD\",\"PTSD\",\"PTSD\",\"Anxiety\",\"PTSD\",\"Depression\",\"PTSD\",\"Anxiety\",\"PTSD\",\"PTSD\",\"PTSD\",\"Bipolar\",\"Bipolar\",\"Depression\",\"Anxiety\",\"Anxiety\",\"Anxiety\",\"Depression\",\"Bipolar\",\"Bipolar\",\"Depression\",\"PTSD\",\"Anxiety\",\"Depression\",\"Bipolar\",\"PTSD\",\"Depression\",\"Depression\",\"Depression\",\"Bipolar\",\"Anxiety\",\"PTSD\",\"Anxiety\",\"Bipolar\",\"Anxiety\",\"Depression\",\"Depression\",\"PTSD\",\"Bipolar\",\"PTSD\",\"Depression\",\"PTSD\",\"Anxiety\",\"PTSD\",\"PTSD\",\"Bipolar\",\"Bipolar\",\"Bipolar\",\"Anxiety\",\"Anxiety\",\"Depression\",\"Anxiety\",\"PTSD\",\"Depression\",\"Anxiety\",\"PTSD\",\"Anxiety\",\"PTSD\",\"PTSD\",\"PTSD\",\"PTSD\",\"Anxiety\",\"PTSD\",\"Anxiety\",\"PTSD\",\"Bipolar\",\"Depression\",\"Anxiety\",\"Anxiety\",\"Bipolar\",\"Bipolar\",\"Bipolar\",\"PTSD\",\"Depression\",\"Bipolar\",\"Bipolar\",\"Anxiety\",\"PTSD\",\"Depression\",\"Bipolar\",\"Anxiety\",\"Bipolar\",\"Anxiety\",\"PTSD\",\"Bipolar\",\"Depression\",\"Depression\",\"Depression\",\"PTSD\",\"Anxiety\",\"Depression\",\"Bipolar\",\"Depression\",\"Bipolar\",\"Anxiety\",\"Anxiety\",\"Anxiety\",\"Depression\",\"Bipolar\",\"Anxiety\",\"Anxiety\",\"Bipolar\",\"Depression\",\"Depression\",\"Bipolar\",\"PTSD\",\"Depression\",\"Bipolar\",\"Bipolar\",\"Anxiety\",\"Bipolar\",\"Anxiety\",\"Anxiety\",\"Depression\",\"PTSD\",\"Depression\",\"Anxiety\",\"Anxiety\",\"Bipolar\",\"PTSD\",\"PTSD\",\"Bipolar\",\"PTSD\",\"Anxiety\",\"Depression\",\"Depression\",\"Anxiety\",\"Depression\",\"Anxiety\",\"Bipolar\",\"PTSD\",\"PTSD\",\"Bipolar\",\"Depression\",\"Anxiety\",\"Anxiety\",\"Bipolar\",\"PTSD\",\"Depression\",\"Bipolar\",\"Bipolar\",\"Anxiety\",\"Depression\",\"Anxiety\",\"Depression\",\"PTSD\",\"PTSD\",\"Anxiety\",\"Depression\",\"PTSD\",\"PTSD\",\"Anxiety\",\"Bipolar\",\"Depression\",\"PTSD\",\"Bipolar\",\"Anxiety\",\"Depression\",\"Anxiety\",\"PTSD\",\"PTSD\",\"Bipolar\",\"PTSD\",\"Anxiety\",\"Bipolar\",\"Depression\",\"PTSD\",\"Anxiety\",\"Anxiety\",\"Bipolar\",\"PTSD\",\"PTSD\",\"Bipolar\",\"Anxiety\",\"Anxiety\",\"Bipolar\",\"Depression\",\"PTSD\",\"PTSD\",\"PTSD\",\"Anxiety\",\"Anxiety\",\"Anxiety\",\"PTSD\",\"PTSD\",\"Anxiety\",\"Depression\",\"Anxiety\",\"Bipolar\",\"Depression\",\"Anxiety\",\"Depression\",\"PTSD\",\"Bipolar\",\"PTSD\",\"Depression\",\"Anxiety\",\"Bipolar\",\"Anxiety\",\"Bipolar\",\"Depression\",\"Bipolar\",\"Bipolar\",\"Anxiety\",\"Bipolar\",\"Anxiety\",\"Anxiety\",\"PTSD\",\"Bipolar\",\"Depression\",\"Anxiety\",\"PTSD\",\"Anxiety\",\"PTSD\",\"PTSD\",\"Depression\",\"PTSD\",\"Depression\",\"Anxiety\",\"Depression\",\"Anxiety\",\"Bipolar\",\"Bipolar\",\"Bipolar\",\"PTSD\",\"PTSD\",\"Bipolar\",\"PTSD\",\"Anxiety\",\"PTSD\",\"Bipolar\",\"PTSD\",\"PTSD\",\"Depression\",\"Depression\",\"Bipolar\",\"Anxiety\",\"Bipolar\",\"Anxiety\",\"Anxiety\",\"Anxiety\",\"Depression\",\"Bipolar\",\"Anxiety\",\"Bipolar\",\"Depression\",\"PTSD\",\"PTSD\",\"Anxiety\",\"PTSD\",\"Depression\",\"Depression\",\"Bipolar\",\"Depression\",\"PTSD\",\"Bipolar\",\"Anxiety\",\"Bipolar\",\"PTSD\",\"Bipolar\",\"Bipolar\",\"Depression\",\"Anxiety\",\"Anxiety\",\"PTSD\",\"Bipolar\",\"PTSD\",\"PTSD\",\"Anxiety\",\"Anxiety\",\"Anxiety\",\"Bipolar\",\"PTSD\",\"Bipolar\",\"PTSD\",\"PTSD\",\"PTSD\",\"PTSD\",\"Depression\",\"Depression\",\"Anxiety\",\"PTSD\",\"Bipolar\",\"Depression\",\"Anxiety\",\"Anxiety\",\"PTSD\",\"Anxiety\",\"PTSD\",\"Depression\",\"Depression\",\"PTSD\",\"Bipolar\",\"Depression\",\"Bipolar\",\"PTSD\",\"PTSD\",\"Depression\",\"Bipolar\",\"PTSD\",\"Depression\",\"PTSD\",\"Anxiety\",\"Anxiety\",\"Depression\",\"PTSD\",\"Depression\",\"Depression\",\"Depression\",\"Anxiety\",\"Anxiety\",\"PTSD\",\"Depression\",\"Depression\",\"PTSD\",\"Bipolar\",\"PTSD\",\"Anxiety\",\"Anxiety\",\"Depression\",\"Anxiety\",\"PTSD\",\"Depression\",\"PTSD\",\"PTSD\",\"Depression\",\"Bipolar\",\"Anxiety\",\"Anxiety\",\"Bipolar\",\"PTSD\",\"Depression\",\"Bipolar\",\"Anxiety\",\"Anxiety\",\"Depression\",\"PTSD\",\"Bipolar\",\"Bipolar\",\"Bipolar\",\"PTSD\",\"PTSD\",\"PTSD\",\"Depression\",\"Anxiety\",\"PTSD\",\"Anxiety\",\"PTSD\",\"PTSD\",\"Anxiety\",\"Depression\",\"Anxiety\",\"Bipolar\",\"Bipolar\",\"Bipolar\",\"Depression\",\"PTSD\",\"PTSD\",\"PTSD\",\"Depression\",\"Bipolar\",\"PTSD\",\"Depression\",\"Depression\",\"Anxiety\",\"PTSD\",\"Bipolar\",\"Depression\",\"Anxiety\",\"Depression\",\"Anxiety\",\"PTSD\",\"Anxiety\",\"Depression\",\"PTSD\",\"Bipolar\",\"Anxiety\",\"PTSD\",\"PTSD\",\"Bipolar\",\"Anxiety\",\"Bipolar\",\"Anxiety\",\"Depression\",\"Anxiety\",\"Bipolar\",\"Bipolar\",\"Depression\",\"Anxiety\",\"Depression\",\"PTSD\",\"Anxiety\",\"Depression\",\"Bipolar\",\"Depression\",\"PTSD\",\"Anxiety\",\"Depression\",\"Anxiety\",\"Depression\",\"Depression\",\"Anxiety\",\"Bipolar\",\"Anxiety\",\"Anxiety\",\"Depression\",\"Bipolar\",\"Depression\",\"Anxiety\",\"Bipolar\",\"Anxiety\",\"Depression\",\"PTSD\",\"Depression\",\"Bipolar\",\"Depression\",\"PTSD\",\"Bipolar\",\"PTSD\",\"Bipolar\",\"Depression\",\"PTSD\",\"Depression\",\"PTSD\",\"Depression\",\"Bipolar\",\"Depression\",\"Bipolar\",\"Bipolar\",\"Anxiety\",\"Depression\",\"Depression\",\"Anxiety\",\"Depression\",\"Bipolar\",\"PTSD\",\"Depression\",\"Anxiety\",\"PTSD\",\"PTSD\",\"Depression\",\"Anxiety\",\"PTSD\",\"Bipolar\",\"PTSD\",\"Anxiety\",\"Depression\",\"PTSD\",\"Bipolar\",\"Bipolar\",\"Depression\",\"Depression\",\"PTSD\",\"Depression\",\"PTSD\",\"PTSD\",\"Depression\",\"PTSD\",\"Anxiety\",\"Anxiety\",\"Depression\",\"Bipolar\",\"PTSD\",\"PTSD\",\"Anxiety\",\"PTSD\",\"Depression\",\"PTSD\",\"Bipolar\",\"Anxiety\",\"Depression\",\"PTSD\",\"PTSD\",\"PTSD\",\"Bipolar\",\"Bipolar\",\"Bipolar\",\"Bipolar\",\"Depression\",\"Bipolar\",\"Anxiety\",\"Anxiety\",\"Anxiety\",\"PTSD\",\"Depression\",\"PTSD\",\"Depression\",\"Depression\",\"Depression\",\"Anxiety\",\"Anxiety\",\"Anxiety\",\"Depression\",\"Depression\",\"Anxiety\",\"Depression\",\"Anxiety\",\"Anxiety\",\"Anxiety\",\"PTSD\",\"Depression\",\"Anxiety\",\"PTSD\",\"Depression\",\"Anxiety\",\"Anxiety\",\"Anxiety\",\"PTSD\",\"Depression\",\"PTSD\",\"Anxiety\",\"PTSD\",\"Bipolar\",\"Bipolar\",\"Depression\",\"Depression\",\"PTSD\",\"Depression\",\"Anxiety\",\"Anxiety\",\"PTSD\",\"Anxiety\",\"PTSD\",\"Depression\",\"Depression\",\"Anxiety\",\"Bipolar\",\"PTSD\",\"PTSD\",\"Depression\",\"Bipolar\",\"Depression\",\"Anxiety\",\"PTSD\",\"Anxiety\",\"Anxiety\",\"Bipolar\",\"Depression\",\"PTSD\",\"Anxiety\",\"PTSD\",\"Depression\",\"Anxiety\",\"Depression\",\"PTSD\",\"Depression\",\"Depression\",\"PTSD\",\"Anxiety\",\"Anxiety\",\"Bipolar\",\"PTSD\",\"Bipolar\",\"Bipolar\",\"PTSD\",\"Anxiety\",\"PTSD\",\"PTSD\",\"PTSD\",\"Bipolar\",\"PTSD\",\"Bipolar\",\"Bipolar\",\"Depression\",\"Bipolar\",\"PTSD\",\"Bipolar\",\"Bipolar\",\"Bipolar\",\"Anxiety\",\"Anxiety\",\"Anxiety\",\"Anxiety\",\"Depression\",\"Bipolar\",\"Depression\",\"PTSD\",\"Depression\",\"Anxiety\",\"Anxiety\",\"PTSD\",\"Bipolar\",\"Depression\",\"Bipolar\",\"Bipolar\",\"Depression\",\"Depression\",\"Depression\",\"Depression\",\"Anxiety\",\"Bipolar\",\"Bipolar\",\"Anxiety\",\"Bipolar\",\"Depression\",\"Bipolar\",\"Anxiety\",\"PTSD\",\"Bipolar\",\"Anxiety\",\"Anxiety\",\"Bipolar\",\"Anxiety\",\"Depression\",\"Anxiety\",\"Depression\",\"PTSD\",\"Depression\",\"Depression\",\"Anxiety\",\"PTSD\",\"Anxiety\",\"Depression\",\"Depression\",\"Anxiety\",\"PTSD\",\"PTSD\",\"Depression\",\"Depression\",\"Anxiety\",\"Depression\",\"Anxiety\",\"PTSD\",\"Bipolar\",\"Depression\",\"PTSD\",\"PTSD\",\"PTSD\",\"PTSD\",\"Bipolar\",\"Anxiety\",\"Anxiety\",\"Bipolar\",\"Anxiety\",\"PTSD\",\"Anxiety\",\"Anxiety\",\"Depression\",\"PTSD\",\"PTSD\",\"PTSD\",\"Bipolar\",\"PTSD\",\"PTSD\",\"Depression\",\"Depression\",\"Anxiety\",\"Depression\",\"PTSD\",\"Bipolar\",\"Anxiety\",\"Bipolar\",\"Bipolar\",\"PTSD\",\"Depression\",\"PTSD\",\"Depression\",\"Bipolar\",\"PTSD\",\"PTSD\",\"Anxiety\",\"PTSD\",\"Bipolar\",\"PTSD\",\"Anxiety\",\"PTSD\",\"PTSD\",\"Anxiety\",\"PTSD\",\"Depression\",\"PTSD\",\"Depression\",\"PTSD\",\"Bipolar\",\"PTSD\",\"Anxiety\",\"Depression\",\"Anxiety\",\"Bipolar\",\"PTSD\",\"Bipolar\",\"Anxiety\",\"PTSD\",\"Bipolar\",\"Depression\",\"Anxiety\",\"Anxiety\",\"Depression\",\"Depression\",\"Anxiety\",\"Bipolar\",\"Anxiety\",\"Anxiety\",\"Depression\",\"Anxiety\",\"Depression\",\"Bipolar\",\"Depression\",\"PTSD\",\"Depression\",\"Anxiety\",\"Depression\",\"Depression\",\"PTSD\",\"PTSD\",\"Anxiety\",\"PTSD\",\"Depression\",\"PTSD\",\"Bipolar\",\"Depression\",\"Depression\",\"Bipolar\",\"PTSD\",\"Anxiety\",\"Anxiety\",\"Anxiety\",\"PTSD\",\"Anxiety\",\"Bipolar\",\"PTSD\",\"Anxiety\",\"PTSD\",\"PTSD\",\"Depression\",\"Anxiety\",\"Bipolar\",\"PTSD\",\"Bipolar\",\"Bipolar\",\"Bipolar\",\"Depression\",\"Bipolar\",\"Anxiety\",\"Anxiety\",\"Bipolar\",\"Bipolar\",\"Depression\",\"Bipolar\",\"Bipolar\",\"Bipolar\",\"PTSD\",\"PTSD\",\"Depression\",\"Depression\",\"Anxiety\",\"Depression\",\"Anxiety\",\"Bipolar\",\"Depression\",\"Depression\",\"Depression\",\"Anxiety\",\"Anxiety\",\"Anxiety\",\"Anxiety\",\"PTSD\",\"Depression\",\"Anxiety\",\"Depression\",\"Depression\",\"PTSD\",\"Depression\",\"Anxiety\",\"Depression\",\"PTSD\",\"Anxiety\",\"PTSD\",\"Anxiety\",\"Depression\",\"Anxiety\",\"Bipolar\",\"Anxiety\",\"Depression\",\"Bipolar\",\"PTSD\",\"Anxiety\",\"PTSD\",\"Anxiety\",\"Depression\",\"Bipolar\",\"Bipolar\",\"Anxiety\",\"PTSD\",\"Bipolar\",\"Anxiety\",\"PTSD\",\"Anxiety\",\"PTSD\",\"Depression\",\"Depression\",\"Bipolar\",\"PTSD\",\"Depression\",\"Bipolar\",\"Anxiety\",\"Anxiety\",\"PTSD\",\"PTSD\",\"PTSD\",\"PTSD\",\"Depression\",\"Depression\",\"Bipolar\",\"Depression\",\"Anxiety\",\"Bipolar\",\"Depression\",\"PTSD\",\"Depression\",\"Bipolar\",\"Depression\",\"Depression\",\"Anxiety\",\"PTSD\",\"PTSD\",\"Anxiety\",\"Anxiety\",\"Bipolar\",\"PTSD\",\"Anxiety\",\"Anxiety\",\"Bipolar\",\"Anxiety\",\"Bipolar\",\"Depression\",\"PTSD\",\"Anxiety\",\"Bipolar\",\"PTSD\",\"PTSD\",\"Anxiety\",\"PTSD\",\"Anxiety\",\"Depression\",\"Anxiety\",\"PTSD\",\"PTSD\",\"PTSD\",\"Anxiety\",\"Bipolar\",\"Anxiety\",\"Anxiety\",\"PTSD\",\"Depression\",\"Depression\",\"PTSD\",\"Anxiety\",\"PTSD\",\"PTSD\",\"PTSD\",\"Depression\",\"Bipolar\",\"Anxiety\",\"PTSD\",\"Anxiety\",\"Bipolar\",\"Bipolar\",\"PTSD\",\"Bipolar\",\"Bipolar\",\"Anxiety\",\"Anxiety\",\"PTSD\",\"PTSD\",\"Depression\",\"Bipolar\",\"Anxiety\",\"Depression\",\"Depression\",\"Bipolar\",\"Anxiety\",\"Anxiety\",\"Bipolar\",\"Depression\",\"Bipolar\",\"PTSD\",\"Depression\",\"Bipolar\",\"PTSD\",\"Anxiety\",\"PTSD\",\"PTSD\",\"Anxiety\",\"Bipolar\",\"Bipolar\",\"Anxiety\",\"Bipolar\",\"PTSD\",\"PTSD\",\"Anxiety\",\"Depression\",\"PTSD\",\"Depression\",\"Bipolar\",\"PTSD\",\"Bipolar\",\"Anxiety\",\"Depression\",\"PTSD\",\"Depression\",\"Bipolar\",\"Bipolar\",\"PTSD\",\"PTSD\",\"Bipolar\",\"PTSD\",\"Bipolar\",\"Depression\",\"PTSD\",\"Bipolar\",\"PTSD\",\"Anxiety\",\"Bipolar\",\"Anxiety\",\"Bipolar\",\"PTSD\",\"Bipolar\",\"PTSD\",\"PTSD\",\"Bipolar\",\"Bipolar\",\"Depression\",\"Bipolar\",\"Depression\",\"PTSD\",\"Depression\",\"Anxiety\",\"Anxiety\",\"Anxiety\",\"Bipolar\",\"Depression\",\"Anxiety\",\"Bipolar\",\"Anxiety\",\"PTSD\",\"Bipolar\",\"PTSD\",\"Depression\",\"PTSD\",\"PTSD\",\"Depression\",\"Depression\",\"PTSD\",\"Anxiety\",\"Anxiety\",\"PTSD\",\"Anxiety\",\"Depression\",\"Depression\",\"Anxiety\",\"Depression\",\"Depression\",\"PTSD\",\"Bipolar\",\"Anxiety\",\"Anxiety\",\"Depression\",\"Depression\",\"Bipolar\",\"Bipolar\",\"PTSD\",\"PTSD\",\"Anxiety\",\"Depression\",\"PTSD\",\"Depression\",\"Depression\",\"PTSD\",\"PTSD\",\"Bipolar\",\"Bipolar\",\"PTSD\",\"Anxiety\",\"Bipolar\",\"Bipolar\",\"Bipolar\",\"Depression\",\"Depression\",\"PTSD\",\"PTSD\",\"Depression\",\"Bipolar\",\"Depression\",\"Bipolar\",\"Depression\",\"PTSD\",\"Depression\",\"Anxiety\",\"Depression\",\"Bipolar\",\"Depression\",\"PTSD\",\"Anxiety\",\"Bipolar\",\"PTSD\",\"Anxiety\",\"Depression\",\"Anxiety\",\"Anxiety\",\"Anxiety\",\"Depression\",\"Depression\",\"Bipolar\",\"Depression\",\"Anxiety\",\"Depression\",\"Bipolar\",\"Bipolar\",\"Anxiety\",\"Depression\",\"Depression\",\"Bipolar\",\"Depression\",\"Anxiety\",\"Anxiety\",\"Depression\",\"Anxiety\",\"PTSD\",\"PTSD\",\"Depression\",\"Depression\",\"Anxiety\",\"Depression\",\"Depression\",\"Bipolar\",\"Depression\",\"PTSD\",\"Bipolar\",\"Anxiety\",\"Bipolar\",\"Anxiety\",\"PTSD\",\"Anxiety\",\"Anxiety\",\"Anxiety\",\"Bipolar\",\"PTSD\",\"Anxiety\",\"Bipolar\",\"PTSD\",\"PTSD\",\"Depression\",\"Bipolar\",\"Bipolar\",\"PTSD\",\"Anxiety\",\"Bipolar\",\"PTSD\",\"Depression\",\"Depression\",\"Anxiety\",\"Anxiety\",\"PTSD\",\"Anxiety\",\"Depression\",\"PTSD\",\"PTSD\",\"PTSD\",\"Anxiety\",\"Bipolar\",\"Depression\",\"Anxiety\",\"Depression\",\"Anxiety\",\"Bipolar\",\"Depression\",\"Bipolar\",\"Depression\",\"Depression\",\"Depression\",\"Bipolar\",\"PTSD\",\"Depression\",\"Anxiety\",\"Anxiety\",\"Anxiety\",\"Bipolar\",\"Anxiety\",\"Depression\",\"Anxiety\",\"Depression\",\"Bipolar\",\"PTSD\",\"Depression\",\"Anxiety\",\"Anxiety\",\"Anxiety\",\"Depression\",\"Bipolar\",\"Depression\",\"Anxiety\",\"Depression\",\"Anxiety\",\"PTSD\",\"PTSD\",\"PTSD\",\"Anxiety\",\"Depression\",\"Anxiety\",\"Bipolar\",\"Depression\",\"PTSD\",\"Depression\",\"Depression\",\"PTSD\",\"Anxiety\",\"Anxiety\",\"Depression\",\"PTSD\",\"Bipolar\",\"Anxiety\",\"PTSD\",\"PTSD\",\"PTSD\",\"Depression\",\"PTSD\",\"Depression\",\"Anxiety\",\"Anxiety\",\"Anxiety\",\"Anxiety\",\"Anxiety\",\"PTSD\",\"Bipolar\",\"PTSD\",\"Bipolar\",\"PTSD\",\"Anxiety\",\"Bipolar\",\"Anxiety\",\"Bipolar\",\"PTSD\",\"Anxiety\",\"PTSD\",\"PTSD\",\"Anxiety\",\"Bipolar\",\"Depression\",\"Depression\",\"Anxiety\",\"Depression\",\"Bipolar\",\"PTSD\",\"PTSD\",\"Anxiety\",\"PTSD\",\"Anxiety\",\"PTSD\",\"Depression\",\"Depression\",\"Bipolar\",\"Anxiety\",\"Bipolar\",\"Depression\",\"Depression\",\"Depression\",\"Bipolar\",\"Anxiety\",\"Depression\",\"Anxiety\",\"Anxiety\",\"PTSD\",\"PTSD\",\"Bipolar\",\"PTSD\",\"Bipolar\",\"Depression\",\"Anxiety\",\"Bipolar\",\"Depression\",\"Bipolar\",\"Anxiety\",\"PTSD\",\"Bipolar\",\"PTSD\",\"PTSD\",\"Depression\",\"Anxiety\",\"PTSD\",\"Anxiety\",\"Bipolar\",\"PTSD\",\"Depression\",\"Bipolar\",\"Anxiety\",\"Bipolar\",\"Depression\",\"Bipolar\",\"Anxiety\",\"Bipolar\",\"Bipolar\",\"Anxiety\",\"Depression\",\"Depression\",\"PTSD\",\"Bipolar\",\"Anxiety\",\"Bipolar\",\"PTSD\",\"Anxiety\",\"Bipolar\",\"Anxiety\",\"PTSD\",\"Anxiety\",\"Depression\",\"Anxiety\",\"PTSD\",\"Anxiety\",\"Anxiety\",\"Bipolar\",\"Bipolar\",\"Anxiety\",\"PTSD\",\"PTSD\",\"Anxiety\",\"Anxiety\",\"Bipolar\",\"Depression\",\"PTSD\",\"PTSD\",\"Anxiety\",\"Depression\",\"PTSD\",\"Depression\",\"Anxiety\",\"Bipolar\",\"PTSD\",\"PTSD\",\"Depression\",\"Bipolar\",\"Anxiety\",\"Depression\",\"PTSD\",\"PTSD\",\"Anxiety\",\"Depression\",\"Anxiety\",\"Depression\",\"Anxiety\",\"Bipolar\",\"Depression\",\"PTSD\",\"PTSD\",\"Anxiety\",\"PTSD\",\"Bipolar\",\"Depression\",\"Anxiety\",\"Depression\",\"Depression\",\"PTSD\",\"Depression\",\"Bipolar\",\"Bipolar\",\"PTSD\",\"PTSD\",\"Anxiety\",\"Anxiety\",\"Anxiety\",\"PTSD\",\"Depression\",\"Anxiety\",\"Bipolar\",\"PTSD\",\"Bipolar\",\"Anxiety\",\"Depression\",\"Anxiety\",\"Anxiety\",\"Depression\",\"Depression\",\"PTSD\",\"PTSD\",\"Depression\",\"Depression\",\"Anxiety\",\"PTSD\",\"Anxiety\",\"PTSD\",\"Bipolar\",\"Bipolar\",\"PTSD\",\"Anxiety\",\"Anxiety\",\"Bipolar\",\"Bipolar\",\"Bipolar\",\"Anxiety\",\"PTSD\",\"Depression\",\"Bipolar\",\"PTSD\",\"PTSD\",\"Depression\",\"Depression\",\"Bipolar\",\"Depression\",\"Bipolar\",\"Anxiety\",\"Bipolar\",\"Depression\",\"Depression\",\"PTSD\",\"Depression\",\"Anxiety\",\"Bipolar\",\"PTSD\",\"Bipolar\",\"Bipolar\",\"Depression\",\"PTSD\",\"Anxiety\",\"Anxiety\",\"Depression\",\"Anxiety\",\"PTSD\",\"PTSD\",\"Anxiety\",\"PTSD\",\"PTSD\",\"Depression\",\"Anxiety\",\"Depression\",\"Depression\",\"Bipolar\",\"Anxiety\",\"Anxiety\",\"Anxiety\",\"Anxiety\",\"PTSD\",\"PTSD\",\"Anxiety\",\"Bipolar\",\"Bipolar\",\"Bipolar\",\"PTSD\",\"Bipolar\",\"Anxiety\",\"Anxiety\",\"Bipolar\",\"Depression\",\"Bipolar\",\"Depression\",\"Anxiety\",\"PTSD\",\"Anxiety\",\"Anxiety\",\"PTSD\",\"Anxiety\",\"PTSD\",\"Anxiety\",\"Depression\",\"Anxiety\",\"Depression\",\"Bipolar\",\"Anxiety\",\"PTSD\",\"Depression\",\"PTSD\",\"PTSD\",\"Depression\",\"Bipolar\",\"PTSD\",\"Bipolar\",\"Depression\",\"Bipolar\",\"Anxiety\",\"PTSD\",\"Bipolar\",\"Bipolar\",\"Depression\",\"Bipolar\",\"Bipolar\",\"Anxiety\",\"Anxiety\",\"Bipolar\",\"Anxiety\",\"Bipolar\",\"PTSD\",\"Depression\",\"Anxiety\",\"Bipolar\",\"Anxiety\",\"Depression\",\"PTSD\",\"Anxiety\",\"Bipolar\",\"Depression\",\"PTSD\",\"PTSD\",\"PTSD\",\"Depression\",\"Anxiety\",\"PTSD\",\"Depression\",\"PTSD\",\"PTSD\",\"Depression\",\"Depression\",\"Anxiety\",\"PTSD\",\"Anxiety\",\"Anxiety\",\"Anxiety\",\"Anxiety\",\"Anxiety\",\"Depression\",\"Anxiety\",\"Bipolar\",\"Bipolar\",\"Bipolar\",\"PTSD\",\"Depression\",\"Bipolar\",\"PTSD\",\"Bipolar\",\"Anxiety\",\"Bipolar\",\"PTSD\",\"PTSD\",\"Anxiety\",\"PTSD\",\"Bipolar\",\"PTSD\",\"Anxiety\",\"Depression\",\"Bipolar\",\"Anxiety\",\"Anxiety\",\"Anxiety\",\"PTSD\",\"PTSD\",\"Depression\",\"Bipolar\",\"Depression\",\"Depression\",\"Depression\",\"Bipolar\",\"Anxiety\",\"Depression\",\"Bipolar\",\"Depression\",\"Anxiety\",\"PTSD\",\"Anxiety\",\"Bipolar\",\"Anxiety\",\"Anxiety\",\"Bipolar\",\"Bipolar\",\"Depression\",\"PTSD\",\"PTSD\",\"PTSD\",\"Anxiety\",\"Bipolar\",\"Bipolar\",\"Bipolar\",\"Bipolar\",\"Bipolar\",\"Anxiety\",\"Depression\",\"PTSD\",\"Anxiety\",\"Anxiety\",\"Anxiety\",\"PTSD\",\"Anxiety\",\"Depression\",\"Bipolar\",\"Depression\",\"Bipolar\",\"Bipolar\",\"Anxiety\",\"Anxiety\",\"PTSD\",\"Depression\",\"PTSD\",\"PTSD\",\"Depression\",\"Depression\",\"Bipolar\",\"Anxiety\",\"Anxiety\",\"PTSD\",\"PTSD\",\"Anxiety\",\"Anxiety\",\"Depression\",\"Depression\",\"Anxiety\",\"Bipolar\",\"PTSD\",\"Depression\",\"Bipolar\",\"PTSD\",\"Anxiety\",\"Bipolar\",\"Bipolar\",\"PTSD\",\"PTSD\",\"Bipolar\",\"Depression\",\"Depression\",\"Anxiety\",\"Depression\",\"Bipolar\",\"Depression\",\"Anxiety\",\"Depression\",\"Bipolar\",\"Bipolar\",\"Anxiety\",\"Anxiety\",\"PTSD\",\"PTSD\",\"PTSD\",\"Bipolar\",\"PTSD\",\"Bipolar\",\"Anxiety\",\"Anxiety\",\"Bipolar\",\"PTSD\",\"Anxiety\",\"Depression\",\"Bipolar\",\"PTSD\",\"Anxiety\",\"PTSD\",\"Anxiety\",\"Bipolar\",\"Depression\",\"Depression\",\"Bipolar\",\"Bipolar\",\"Anxiety\",\"Depression\",\"Anxiety\",\"PTSD\",\"PTSD\",\"PTSD\",\"Depression\",\"Bipolar\",\"Depression\",\"Anxiety\",\"Anxiety\",\"PTSD\",\"PTSD\",\"Anxiety\",\"Anxiety\",\"Bipolar\",\"Bipolar\",\"Bipolar\",\"PTSD\",\"Bipolar\",\"Depression\",\"Bipolar\",\"PTSD\",\"Bipolar\",\"Depression\",\"Anxiety\",\"Bipolar\",\"PTSD\",\"PTSD\",\"PTSD\",\"PTSD\",\"PTSD\",\"Anxiety\",\"Depression\",\"PTSD\",\"PTSD\",\"PTSD\",\"PTSD\",\"PTSD\",\"PTSD\",\"PTSD\",\"Bipolar\",\"Bipolar\",\"Bipolar\",\"Depression\",\"Bipolar\",\"Depression\",\"PTSD\",\"Anxiety\",\"Bipolar\",\"Bipolar\",\"Depression\",\"PTSD\",\"PTSD\",\"Anxiety\",\"PTSD\",\"Depression\",\"PTSD\",\"Depression\",\"Bipolar\",\"Bipolar\",\"Bipolar\",\"Bipolar\",\"Depression\",\"Anxiety\",\"PTSD\",\"Bipolar\",\"Depression\",\"Anxiety\",\"Bipolar\",\"Bipolar\",\"Depression\",\"Anxiety\",\"Depression\",\"Anxiety\",\"Depression\",\"Bipolar\",\"PTSD\",\"PTSD\",\"Depression\",\"PTSD\",\"Bipolar\",\"Bipolar\",\"PTSD\",\"Depression\",\"Depression\",\"PTSD\",\"Bipolar\",\"Bipolar\",\"Depression\",\"Anxiety\",\"Depression\",\"Anxiety\",\"Depression\",\"Anxiety\",\"Anxiety\",\"Anxiety\",\"Anxiety\",\"Anxiety\",\"Anxiety\",\"Bipolar\",\"Anxiety\",\"PTSD\",\"Bipolar\",\"Depression\",\"Bipolar\",\"Bipolar\",\"PTSD\",\"PTSD\",\"Depression\",\"Bipolar\",\"PTSD\",\"PTSD\",\"Anxiety\",\"Depression\",\"Depression\",\"PTSD\",\"Anxiety\",\"PTSD\",\"Bipolar\",\"Depression\",\"PTSD\",\"Bipolar\",\"Anxiety\",\"Depression\",\"Bipolar\",\"PTSD\",\"Anxiety\",\"Bipolar\",\"Anxiety\",\"Anxiety\",\"Anxiety\",\"Depression\",\"Bipolar\",\"Depression\",\"PTSD\",\"PTSD\",\"PTSD\",\"Anxiety\",\"Anxiety\",\"Bipolar\",\"PTSD\",\"PTSD\",\"Anxiety\",\"Anxiety\",\"Depression\",\"Depression\",\"Bipolar\",\"PTSD\",\"Depression\",\"Depression\",\"PTSD\",\"Anxiety\",\"Bipolar\",\"Bipolar\",\"Bipolar\",\"Depression\",\"Anxiety\",\"Bipolar\",\"PTSD\",\"Bipolar\",\"Anxiety\",\"Anxiety\",\"PTSD\",\"Depression\",\"Depression\",\"Anxiety\",\"Bipolar\",\"PTSD\",\"Bipolar\",\"Depression\",\"Bipolar\",\"Depression\",\"Anxiety\",\"PTSD\",\"PTSD\",\"Depression\",\"Anxiety\",\"PTSD\",\"Depression\",\"PTSD\",\"Anxiety\",\"Anxiety\",\"Bipolar\",\"Anxiety\",\"Anxiety\",\"PTSD\",\"Anxiety\",\"Depression\",\"PTSD\",\"PTSD\",\"Bipolar\",\"Depression\",\"Anxiety\",\"Bipolar\",\"Depression\",\"Bipolar\",\"Anxiety\",\"Bipolar\",\"Anxiety\",\"Bipolar\",\"Bipolar\",\"Bipolar\",\"Bipolar\",\"PTSD\",\"Bipolar\",\"PTSD\",\"PTSD\",\"Anxiety\",\"PTSD\",\"Depression\",\"PTSD\",\"Depression\",\"Depression\",\"Depression\",\"Depression\",\"Anxiety\",\"Bipolar\",\"Anxiety\",\"Anxiety\",\"Anxiety\",\"Bipolar\",\"Anxiety\",\"Anxiety\",\"Depression\",\"Depression\",\"PTSD\",\"Bipolar\",\"Depression\",\"Bipolar\",\"Anxiety\",\"Bipolar\",\"Depression\",\"PTSD\",\"Depression\",\"Bipolar\",\"Depression\",\"Anxiety\",\"Anxiety\",\"PTSD\",\"Bipolar\",\"PTSD\",\"Anxiety\",\"PTSD\",\"PTSD\",\"Bipolar\",\"PTSD\",\"PTSD\",\"Bipolar\",\"Anxiety\",\"Depression\",\"Anxiety\",\"Bipolar\",\"PTSD\",\"PTSD\",\"PTSD\",\"PTSD\",\"Anxiety\",\"PTSD\",\"PTSD\",\"Bipolar\",\"Anxiety\",\"Depression\",\"Depression\",\"Depression\",\"Depression\",\"Bipolar\",\"Depression\",\"Anxiety\",\"Anxiety\",\"Depression\",\"Bipolar\",\"PTSD\",\"Depression\",\"Depression\",\"Depression\",\"Bipolar\",\"PTSD\",\"Depression\",\"Depression\",\"Depression\",\"Depression\",\"Depression\",\"Anxiety\",\"Anxiety\",\"PTSD\",\"Bipolar\",\"Bipolar\",\"Bipolar\",\"Anxiety\",\"PTSD\",\"Bipolar\",\"Bipolar\",\"Depression\",\"PTSD\",\"Anxiety\",\"Bipolar\",\"Bipolar\",\"Anxiety\",\"Depression\",\"Depression\",\"Bipolar\",\"Bipolar\",\"PTSD\",\"Bipolar\",\"Anxiety\",\"PTSD\",\"Depression\",\"PTSD\",\"Depression\",\"Anxiety\",\"Depression\",\"Depression\",\"Anxiety\",\"Bipolar\",\"Bipolar\",\"Depression\",\"Depression\",\"PTSD\",\"Bipolar\",\"Anxiety\",\"Depression\",\"Depression\",\"PTSD\",\"PTSD\",\"PTSD\",\"Anxiety\",\"Depression\",\"PTSD\",\"PTSD\",\"PTSD\",\"Bipolar\",\"Anxiety\",\"Anxiety\",\"PTSD\",\"Depression\",\"Bipolar\",\"Anxiety\",\"Depression\",\"PTSD\",\"PTSD\",\"PTSD\",\"PTSD\",\"Bipolar\",\"Bipolar\",\"Anxiety\",\"PTSD\",\"Bipolar\",\"Depression\",\"Bipolar\",\"Bipolar\",\"Anxiety\",\"Bipolar\",\"Depression\",\"PTSD\",\"Anxiety\",\"Depression\",\"Anxiety\",\"PTSD\",\"Bipolar\",\"Bipolar\",\"Depression\",\"PTSD\",\"Bipolar\",\"PTSD\",\"PTSD\",\"Depression\",\"Depression\",\"Anxiety\",\"PTSD\",\"Depression\",\"Bipolar\",\"Anxiety\",\"Depression\",\"Bipolar\",\"Anxiety\",\"Bipolar\",\"PTSD\",\"PTSD\",\"PTSD\",\"Depression\",\"Depression\",\"PTSD\",\"Depression\",\"Bipolar\",\"Bipolar\",\"Bipolar\",\"Bipolar\",\"PTSD\",\"Bipolar\",\"PTSD\",\"Bipolar\",\"Bipolar\",\"Bipolar\",\"Depression\",\"Bipolar\",\"Depression\",\"Depression\",\"Anxiety\",\"PTSD\",\"Bipolar\",\"PTSD\",\"Anxiety\",\"PTSD\",\"Bipolar\",\"Anxiety\",\"PTSD\",\"Depression\",\"Anxiety\",\"Bipolar\",\"Depression\",\"Anxiety\",\"Depression\",\"Anxiety\",\"Anxiety\",\"PTSD\",\"Depression\",\"Depression\",\"Bipolar\",\"PTSD\",\"Anxiety\",\"PTSD\",\"PTSD\",\"Anxiety\",\"Bipolar\",\"PTSD\",\"Bipolar\",\"Anxiety\",\"Anxiety\",\"Depression\",\"Bipolar\",\"Anxiety\",\"PTSD\",\"Depression\",\"Anxiety\",\"PTSD\",\"Bipolar\",\"Bipolar\",\"Bipolar\",\"Bipolar\",\"Bipolar\",\"PTSD\",\"Anxiety\",\"Depression\",\"Bipolar\",\"Bipolar\",\"Bipolar\",\"Depression\",\"Anxiety\",\"Bipolar\",\"PTSD\",\"Bipolar\",\"Bipolar\",\"Bipolar\",\"Bipolar\",\"Anxiety\",\"PTSD\",\"PTSD\",\"Bipolar\",\"PTSD\",\"Bipolar\",\"PTSD\",\"Depression\",\"PTSD\",\"PTSD\",\"PTSD\",\"Anxiety\",\"PTSD\",\"Depression\",\"Anxiety\",\"PTSD\",\"Depression\",\"Depression\",\"Bipolar\",\"Bipolar\",\"Depression\",\"PTSD\",\"PTSD\",\"PTSD\",\"Bipolar\",\"PTSD\",\"Anxiety\",\"Depression\",\"Bipolar\",\"Bipolar\",\"Depression\",\"PTSD\",\"Depression\",\"Anxiety\",\"PTSD\",\"PTSD\",\"PTSD\",\"Depression\",\"Anxiety\",\"Bipolar\",\"Depression\",\"Depression\",\"Bipolar\",\"Bipolar\",\"PTSD\",\"Depression\",\"PTSD\",\"Bipolar\",\"PTSD\",\"Anxiety\",\"PTSD\",\"Anxiety\",\"Anxiety\",\"Depression\",\"Bipolar\",\"PTSD\",\"Bipolar\",\"Depression\",\"Depression\",\"PTSD\",\"PTSD\",\"Bipolar\",\"Bipolar\",\"Depression\",\"Depression\",\"Bipolar\",\"Anxiety\",\"Bipolar\",\"PTSD\",\"Bipolar\",\"Bipolar\",\"PTSD\",\"PTSD\",\"PTSD\",\"Depression\",\"Bipolar\",\"PTSD\",\"PTSD\",\"Bipolar\",\"Anxiety\",\"PTSD\",\"Depression\",\"Bipolar\",\"Bipolar\",\"Anxiety\",\"Anxiety\",\"Anxiety\",\"Depression\",\"PTSD\",\"Depression\",\"Depression\",\"Depression\",\"PTSD\",\"PTSD\",\"Depression\",\"Depression\",\"Anxiety\",\"Anxiety\",\"Bipolar\",\"Anxiety\",\"PTSD\",\"Depression\",\"Bipolar\",\"Anxiety\",\"Bipolar\",\"Bipolar\",\"Bipolar\",\"Bipolar\",\"Depression\",\"PTSD\",\"Anxiety\",\"Anxiety\",\"Anxiety\",\"Bipolar\",\"Bipolar\",\"Bipolar\",\"Depression\",\"Depression\",\"Depression\",\"Depression\",\"Depression\",\"Depression\",\"Depression\",\"Anxiety\",\"Anxiety\",\"Anxiety\",\"PTSD\",\"Bipolar\",\"Depression\",\"Anxiety\",\"Depression\",\"PTSD\",\"Bipolar\",\"Depression\",\"Bipolar\",\"Depression\",\"PTSD\",\"Bipolar\",\"Bipolar\",\"Bipolar\",\"Anxiety\",\"PTSD\",\"Depression\",\"Depression\",\"Anxiety\",\"PTSD\",\"Depression\",\"Depression\",\"Anxiety\",\"Bipolar\",\"Anxiety\",\"Anxiety\",\"Anxiety\",\"Anxiety\",\"Bipolar\",\"PTSD\",\"Anxiety\",\"Anxiety\",\"Depression\",\"Bipolar\",\"Anxiety\",\"PTSD\",\"PTSD\",\"PTSD\",\"PTSD\",\"Bipolar\",\"PTSD\",\"Depression\",\"Anxiety\",\"Bipolar\",\"Depression\",\"Bipolar\",\"PTSD\",\"Bipolar\",\"Bipolar\",\"Bipolar\",\"Depression\",\"PTSD\",\"Anxiety\",\"PTSD\",\"PTSD\",\"Bipolar\",\"PTSD\",\"Depression\",\"Depression\",\"Depression\",\"Anxiety\",\"Depression\"],\"x0\":\" \",\"xaxis\":\"x\",\"y\":[\"Moderate\",\"Low\",\"Low\",\"Moderate\",\"Moderate\",\"Low\",\"High\",\"Moderate\",\"Moderate\",\"High\",\"Low\",\"Moderate\",\"Moderate\",\"Low\",\"Low\",\"High\",\"High\",\"Moderate\",\"High\",\"Moderate\",\"Moderate\",\"Moderate\",\"Moderate\",\"Low\",\"Moderate\",\"Moderate\",\"Moderate\",\"High\",\"Moderate\",\"Low\",\"Low\",\"Moderate\",\"Moderate\",\"Low\",\"Low\",\"Moderate\",\"Low\",\"High\",\"Low\",\"Moderate\",\"Low\",\"Moderate\",\"High\",\"Moderate\",\"Moderate\",\"High\",\"Low\",\"Low\",\"Moderate\",\"Moderate\",\"Moderate\",\"Moderate\",\"High\",\"Moderate\",\"Low\",\"High\",\"Low\",\"High\",\"High\",\"Low\",\"Moderate\",\"Low\",\"Moderate\",\"Moderate\",\"Low\",\"Moderate\",\"Moderate\",\"Moderate\",\"Moderate\",\"High\",\"High\",\"Low\",\"Moderate\",\"Low\",\"Moderate\",\"High\",\"Moderate\",\"Moderate\",\"High\",\"High\",\"Low\",\"High\",\"Low\",\"Moderate\",\"Low\",\"High\",\"Moderate\",\"Low\",\"Moderate\",\"Low\",\"Moderate\",\"High\",\"High\",\"Moderate\",\"Moderate\",\"Low\",\"High\",\"Moderate\",\"High\",\"High\",\"Low\",\"Moderate\",\"Moderate\",\"Low\",\"High\",\"Low\",\"High\",\"Low\",\"High\",\"High\",\"High\",\"Moderate\",\"High\",\"Moderate\",\"High\",\"Moderate\",\"Moderate\",\"Low\",\"High\",\"Low\",\"Low\",\"High\",\"Low\",\"Low\",\"High\",\"High\",\"High\",\"Low\",\"Moderate\",\"Low\",\"Low\",\"Moderate\",\"Low\",\"Moderate\",\"High\",\"Low\",\"Low\",\"High\",\"High\",\"Low\",\"High\",\"Moderate\",\"Moderate\",\"Low\",\"Moderate\",\"Moderate\",\"High\",\"Low\",\"Moderate\",\"Low\",\"Low\",\"Moderate\",\"Moderate\",\"Moderate\",\"Moderate\",\"Moderate\",\"Moderate\",\"Moderate\",\"High\",\"Low\",\"Moderate\",\"Low\",\"High\",\"Moderate\",\"Moderate\",\"Moderate\",\"Moderate\",\"Moderate\",\"Moderate\",\"High\",\"Moderate\",\"High\",\"High\",\"High\",\"Low\",\"Low\",\"Low\",\"Moderate\",\"Low\",\"High\",\"Low\",\"High\",\"Moderate\",\"Low\",\"Low\",\"Moderate\",\"Moderate\",\"Moderate\",\"High\",\"High\",\"High\",\"Moderate\",\"High\",\"Low\",\"High\",\"Moderate\",\"High\",\"Low\",\"Low\",\"High\",\"High\",\"Low\",\"Moderate\",\"Low\",\"Low\",\"High\",\"High\",\"Low\",\"Low\",\"Low\",\"Moderate\",\"Low\",\"Low\",\"High\",\"High\",\"High\",\"Moderate\",\"Moderate\",\"Low\",\"High\",\"Moderate\",\"High\",\"High\",\"Low\",\"High\",\"Low\",\"High\",\"Moderate\",\"High\",\"High\",\"High\",\"Moderate\",\"Low\",\"High\",\"Moderate\",\"Low\",\"Low\",\"Low\",\"High\",\"Moderate\",\"Moderate\",\"Low\",\"Moderate\",\"High\",\"Low\",\"Low\",\"High\",\"Moderate\",\"High\",\"High\",\"Low\",\"High\",\"Moderate\",\"High\",\"High\",\"Moderate\",\"Moderate\",\"High\",\"Moderate\",\"Low\",\"Low\",\"Low\",\"High\",\"High\",\"Low\",\"High\",\"Low\",\"High\",\"Moderate\",\"Moderate\",\"High\",\"High\",\"Moderate\",\"High\",\"High\",\"Moderate\",\"High\",\"Low\",\"Low\",\"Moderate\",\"Low\",\"Low\",\"Low\",\"High\",\"Moderate\",\"Moderate\",\"Low\",\"Moderate\",\"Low\",\"Moderate\",\"Moderate\",\"Low\",\"Low\",\"High\",\"Low\",\"Low\",\"Low\",\"High\",\"Low\",\"High\",\"High\",\"Moderate\",\"Low\",\"Moderate\",\"Moderate\",\"High\",\"Low\",\"High\",\"High\",\"High\",\"Low\",\"Low\",\"Moderate\",\"Low\",\"Moderate\",\"High\",\"Low\",\"Moderate\",\"Moderate\",\"High\",\"Low\",\"Moderate\",\"Moderate\",\"Low\",\"High\",\"Moderate\",\"High\",\"Low\",\"High\",\"Low\",\"Moderate\",\"Low\",\"Moderate\",\"Moderate\",\"Low\",\"Moderate\",\"Moderate\",\"Low\",\"High\",\"High\",\"Moderate\",\"Low\",\"High\",\"Low\",\"Moderate\",\"High\",\"Low\",\"Low\",\"Low\",\"High\",\"Low\",\"Low\",\"Moderate\",\"Moderate\",\"Low\",\"Moderate\",\"Low\",\"High\",\"Low\",\"Moderate\",\"High\",\"Moderate\",\"Low\",\"High\",\"Low\",\"Low\",\"Low\",\"Moderate\",\"High\",\"High\",\"Moderate\",\"High\",\"Low\",\"Low\",\"Moderate\",\"Moderate\",\"High\",\"High\",\"Moderate\",\"Low\",\"Low\",\"High\",\"Low\",\"High\",\"Moderate\",\"High\",\"Low\",\"Moderate\",\"High\",\"Low\",\"Low\",\"High\",\"Low\",\"Low\",\"Low\",\"Low\",\"Moderate\",\"High\",\"Moderate\",\"Low\",\"Low\",\"Low\",\"Low\",\"Moderate\",\"High\",\"High\",\"Low\",\"Moderate\",\"Low\",\"Moderate\",\"High\",\"Moderate\",\"High\",\"Moderate\",\"High\",\"High\",\"Low\",\"Moderate\",\"Moderate\",\"Moderate\",\"Low\",\"High\",\"High\",\"Low\",\"High\",\"Moderate\",\"Moderate\",\"Moderate\",\"Low\",\"High\",\"Moderate\",\"Moderate\",\"High\",\"Moderate\",\"Low\",\"High\",\"High\",\"High\",\"High\",\"High\",\"Low\",\"High\",\"Moderate\",\"High\",\"High\",\"High\",\"High\",\"Low\",\"High\",\"Low\",\"Moderate\",\"High\",\"Moderate\",\"Moderate\",\"High\",\"Moderate\",\"Moderate\",\"Moderate\",\"High\",\"High\",\"Moderate\",\"High\",\"High\",\"Low\",\"High\",\"Low\",\"Moderate\",\"High\",\"Moderate\",\"Moderate\",\"Moderate\",\"High\",\"High\",\"High\",\"Low\",\"Moderate\",\"High\",\"Low\",\"Low\",\"High\",\"Moderate\",\"Low\",\"High\",\"Low\",\"Low\",\"Moderate\",\"Low\",\"Low\",\"High\",\"High\",\"Low\",\"Low\",\"Moderate\",\"Moderate\",\"Low\",\"High\",\"Low\",\"High\",\"High\",\"Moderate\",\"Moderate\",\"Moderate\",\"Moderate\",\"High\",\"Low\",\"Moderate\",\"High\",\"High\",\"Low\",\"Low\",\"Moderate\",\"Moderate\",\"Moderate\",\"Low\",\"Moderate\",\"Moderate\",\"High\",\"Moderate\",\"High\",\"Moderate\",\"Low\",\"Moderate\",\"Moderate\",\"High\",\"High\",\"High\",\"Moderate\",\"Moderate\",\"Low\",\"Moderate\",\"Low\",\"High\",\"High\",\"Low\",\"Moderate\",\"High\",\"Moderate\",\"Moderate\",\"High\",\"Low\",\"Moderate\",\"High\",\"Moderate\",\"Moderate\",\"Moderate\",\"Moderate\",\"Moderate\",\"Low\",\"Low\",\"High\",\"Low\",\"Low\",\"Low\",\"High\",\"High\",\"Moderate\",\"Low\",\"Low\",\"High\",\"High\",\"High\",\"Moderate\",\"High\",\"High\",\"Moderate\",\"Low\",\"Moderate\",\"Moderate\",\"Moderate\",\"Moderate\",\"High\",\"Moderate\",\"Low\",\"High\",\"High\",\"Moderate\",\"High\",\"High\",\"High\",\"High\",\"High\",\"High\",\"Low\",\"High\",\"Moderate\",\"Moderate\",\"Moderate\",\"High\",\"Moderate\",\"Low\",\"High\",\"Moderate\",\"Low\",\"Moderate\",\"Moderate\",\"Low\",\"High\",\"High\",\"High\",\"High\",\"High\",\"Moderate\",\"High\",\"High\",\"High\",\"Low\",\"High\",\"Moderate\",\"High\",\"Moderate\",\"High\",\"Low\",\"Low\",\"Moderate\",\"Moderate\",\"Moderate\",\"Moderate\",\"High\",\"High\",\"Low\",\"High\",\"Moderate\",\"Moderate\",\"High\",\"Moderate\",\"Low\",\"Low\",\"Moderate\",\"High\",\"Low\",\"High\",\"Moderate\",\"High\",\"High\",\"Low\",\"Moderate\",\"Low\",\"Low\",\"Moderate\",\"Moderate\",\"Low\",\"High\",\"High\",\"Moderate\",\"High\",\"High\",\"Moderate\",\"Moderate\",\"Low\",\"High\",\"Moderate\",\"High\",\"Moderate\",\"Moderate\",\"Moderate\",\"High\",\"High\",\"High\",\"Low\",\"Moderate\",\"Low\",\"High\",\"Moderate\",\"Low\",\"High\",\"Moderate\",\"Moderate\",\"Low\",\"Low\",\"Low\",\"Low\",\"Low\",\"Low\",\"Low\",\"Low\",\"Moderate\",\"Moderate\",\"High\",\"Low\",\"High\",\"Moderate\",\"Moderate\",\"Low\",\"Low\",\"High\",\"Moderate\",\"Low\",\"Low\",\"Low\",\"Moderate\",\"Moderate\",\"High\",\"Moderate\",\"Moderate\",\"High\",\"Low\",\"High\",\"Low\",\"High\",\"Moderate\",\"High\",\"High\",\"Moderate\",\"Low\",\"High\",\"Low\",\"Moderate\",\"Low\",\"High\",\"High\",\"High\",\"High\",\"Moderate\",\"Moderate\",\"Moderate\",\"Low\",\"Low\",\"Moderate\",\"Low\",\"Low\",\"High\",\"High\",\"Low\",\"Low\",\"Moderate\",\"Low\",\"Low\",\"High\",\"High\",\"High\",\"High\",\"Low\",\"Low\",\"Low\",\"High\",\"Moderate\",\"High\",\"Low\",\"High\",\"Low\",\"Low\",\"High\",\"Low\",\"High\",\"Moderate\",\"Low\",\"Low\",\"High\",\"Low\",\"High\",\"High\",\"High\",\"High\",\"Moderate\",\"High\",\"Low\",\"Moderate\",\"Moderate\",\"Low\",\"High\",\"Low\",\"Moderate\",\"Low\",\"Moderate\",\"Moderate\",\"Moderate\",\"High\",\"Moderate\",\"Low\",\"Low\",\"High\",\"Low\",\"Moderate\",\"Low\",\"High\",\"Moderate\",\"Moderate\",\"Low\",\"Low\",\"Moderate\",\"High\",\"High\",\"High\",\"Low\",\"High\",\"Moderate\",\"Low\",\"High\",\"Moderate\",\"Moderate\",\"Moderate\",\"High\",\"High\",\"Moderate\",\"Moderate\",\"Moderate\",\"Low\",\"Moderate\",\"Low\",\"Moderate\",\"Low\",\"Moderate\",\"Moderate\",\"High\",\"High\",\"Moderate\",\"Low\",\"Moderate\",\"High\",\"Low\",\"High\",\"Low\",\"Moderate\",\"High\",\"Low\",\"Moderate\",\"Moderate\",\"Moderate\",\"High\",\"High\",\"High\",\"Moderate\",\"High\",\"Moderate\",\"Low\",\"High\",\"Moderate\",\"Moderate\",\"Moderate\",\"High\",\"Moderate\",\"Low\",\"Moderate\",\"Moderate\",\"Moderate\",\"High\",\"Moderate\",\"Low\",\"Low\",\"High\",\"High\",\"Moderate\",\"Low\",\"Moderate\",\"High\",\"Moderate\",\"High\",\"Moderate\",\"Low\",\"High\",\"High\",\"Low\",\"High\",\"High\",\"Moderate\",\"High\",\"Moderate\",\"Moderate\",\"High\",\"Low\",\"Moderate\",\"Moderate\",\"Low\",\"High\",\"High\",\"Moderate\",\"High\",\"High\",\"High\",\"Moderate\",\"High\",\"High\",\"Low\",\"Low\",\"Low\",\"Moderate\",\"High\",\"Moderate\",\"High\",\"Low\",\"Low\",\"High\",\"Moderate\",\"Low\",\"Low\",\"Moderate\",\"High\",\"Low\",\"High\",\"Moderate\",\"High\",\"Low\",\"High\",\"High\",\"Low\",\"Low\",\"Moderate\",\"Low\",\"High\",\"Low\",\"High\",\"High\",\"High\",\"Low\",\"Moderate\",\"Low\",\"High\",\"Moderate\",\"High\",\"High\",\"High\",\"Low\",\"Low\",\"High\",\"High\",\"Low\",\"Low\",\"Moderate\",\"Moderate\",\"High\",\"Moderate\",\"Low\",\"Moderate\",\"High\",\"Low\",\"High\",\"High\",\"Moderate\",\"High\",\"Low\",\"High\",\"High\",\"Moderate\",\"Moderate\",\"Low\",\"Low\",\"Low\",\"Moderate\",\"High\",\"Low\",\"Low\",\"Low\",\"High\",\"Low\",\"High\",\"Moderate\",\"Moderate\",\"High\",\"Low\",\"Low\",\"Low\",\"Low\",\"High\",\"Moderate\",\"Low\",\"Moderate\",\"High\",\"High\",\"Low\",\"High\",\"Low\",\"Moderate\",\"Low\",\"Low\",\"Moderate\",\"Low\",\"Low\",\"Moderate\",\"High\",\"Moderate\",\"Low\",\"Moderate\",\"Low\",\"Low\",\"Moderate\",\"Low\",\"High\",\"Low\",\"Moderate\",\"High\",\"Low\",\"Moderate\",\"Low\",\"Low\",\"Moderate\",\"Moderate\",\"Low\",\"High\",\"Low\",\"High\",\"High\",\"Moderate\",\"Moderate\",\"Moderate\",\"Moderate\",\"Low\",\"High\",\"Low\",\"Low\",\"Low\",\"Moderate\",\"Low\",\"High\",\"Low\",\"High\",\"High\",\"Low\",\"Moderate\",\"High\",\"High\",\"Moderate\",\"Low\",\"Low\",\"Low\",\"Low\",\"Low\",\"High\",\"High\",\"Low\",\"Low\",\"Moderate\",\"Moderate\",\"Moderate\",\"High\",\"Moderate\",\"High\",\"High\",\"High\",\"High\",\"Moderate\",\"Low\",\"Low\",\"Low\",\"Moderate\",\"Low\",\"Moderate\",\"Moderate\",\"Low\",\"Low\",\"Low\",\"High\",\"Moderate\",\"High\",\"Low\",\"Moderate\",\"Moderate\",\"High\",\"Moderate\",\"Low\",\"Moderate\",\"High\",\"Moderate\",\"Moderate\",\"High\",\"High\",\"High\",\"Low\",\"Low\",\"Moderate\",\"Low\",\"Moderate\",\"High\",\"High\",\"Low\",\"Low\",\"Moderate\",\"Moderate\",\"High\",\"High\",\"High\",\"Moderate\",\"High\",\"High\",\"Low\",\"Moderate\",\"Moderate\",\"High\",\"Moderate\",\"Moderate\",\"High\",\"Moderate\",\"Moderate\",\"Low\",\"Moderate\",\"Moderate\",\"High\",\"Moderate\",\"High\",\"Moderate\",\"Moderate\",\"Low\",\"High\",\"Moderate\",\"Low\",\"High\",\"Moderate\",\"Low\",\"High\",\"Low\",\"High\",\"Moderate\",\"Moderate\",\"Low\",\"Moderate\",\"Low\",\"High\",\"High\",\"Low\",\"Moderate\",\"Moderate\",\"Moderate\",\"Low\",\"High\",\"High\",\"Low\",\"Low\",\"Low\",\"Moderate\",\"High\",\"Low\",\"High\",\"High\",\"Moderate\",\"High\",\"Moderate\",\"Moderate\",\"Moderate\",\"Moderate\",\"Moderate\",\"High\",\"Low\",\"Low\",\"Moderate\",\"Moderate\",\"Moderate\",\"Low\",\"Moderate\",\"High\",\"Low\",\"Moderate\",\"Moderate\",\"Moderate\",\"Low\",\"Low\",\"High\",\"Low\",\"Low\",\"Moderate\",\"Moderate\",\"Moderate\",\"High\",\"High\",\"Moderate\",\"High\",\"High\",\"Low\",\"Low\",\"High\",\"Low\",\"High\",\"High\",\"Low\",\"Low\",\"Moderate\",\"Moderate\",\"Moderate\",\"Low\",\"Low\",\"Low\",\"Moderate\",\"Moderate\",\"High\",\"Moderate\",\"High\",\"Low\",\"Moderate\",\"Low\",\"Low\",\"Low\",\"Moderate\",\"Low\",\"High\",\"Moderate\",\"Low\",\"Moderate\",\"High\",\"Low\",\"Low\",\"High\",\"Low\",\"Moderate\",\"Low\",\"Moderate\",\"Low\",\"Low\",\"High\",\"High\",\"Low\",\"Moderate\",\"Moderate\",\"Low\",\"High\",\"High\",\"High\",\"Low\",\"High\",\"Low\",\"Moderate\",\"High\",\"High\",\"Low\",\"Low\",\"Low\",\"Low\",\"High\",\"Moderate\",\"Low\",\"High\",\"Low\",\"Moderate\",\"Low\",\"Moderate\",\"Moderate\",\"Low\",\"Moderate\",\"Low\",\"Moderate\",\"Moderate\",\"High\",\"Moderate\",\"Moderate\",\"Low\",\"High\",\"Moderate\",\"Moderate\",\"Moderate\",\"High\",\"Moderate\",\"Low\",\"High\",\"Low\",\"High\",\"Low\",\"Moderate\",\"High\",\"Low\",\"Moderate\",\"Low\",\"High\",\"Low\",\"Moderate\",\"Low\",\"Low\",\"Low\",\"Low\",\"High\",\"Low\",\"High\",\"High\",\"High\",\"Low\",\"Low\",\"Moderate\",\"Low\",\"High\",\"Moderate\",\"High\",\"Low\",\"High\",\"Low\",\"Low\",\"Moderate\",\"Low\",\"Moderate\",\"Low\",\"Moderate\",\"Moderate\",\"High\",\"Low\",\"High\",\"Low\",\"Moderate\",\"Low\",\"Low\",\"Moderate\",\"Low\",\"High\",\"Low\",\"Moderate\",\"High\",\"Moderate\",\"Moderate\",\"High\",\"Moderate\",\"Moderate\",\"Moderate\",\"Moderate\",\"Moderate\",\"Moderate\",\"Moderate\",\"Low\",\"Low\",\"Low\",\"Low\",\"Moderate\",\"Moderate\",\"Low\",\"Moderate\",\"High\",\"High\",\"High\",\"High\",\"Low\",\"High\",\"Low\",\"Moderate\",\"Moderate\",\"Moderate\",\"Moderate\",\"Moderate\",\"Low\",\"Moderate\",\"High\",\"High\",\"Moderate\",\"High\",\"Low\",\"Moderate\",\"Moderate\",\"Moderate\",\"High\",\"Low\",\"High\",\"Low\",\"High\",\"Low\",\"High\",\"Low\",\"High\",\"High\",\"Moderate\",\"Moderate\",\"Low\",\"High\",\"High\",\"Moderate\",\"Moderate\",\"Low\",\"High\",\"High\",\"Low\",\"Low\",\"Moderate\",\"Moderate\",\"Low\",\"Low\",\"Low\",\"Low\",\"Moderate\",\"Moderate\",\"High\",\"Low\",\"Moderate\",\"Moderate\",\"Moderate\",\"Moderate\",\"Low\",\"Low\",\"Low\",\"Moderate\",\"High\",\"High\",\"High\",\"High\",\"Moderate\",\"Moderate\",\"Low\",\"Low\",\"High\",\"Moderate\",\"High\",\"Low\",\"Low\",\"High\",\"High\",\"Moderate\",\"Moderate\",\"Low\",\"Moderate\",\"High\",\"Moderate\",\"Moderate\",\"Moderate\",\"Moderate\",\"Low\",\"High\",\"High\",\"High\",\"High\",\"Moderate\",\"Low\",\"Moderate\",\"Low\",\"Moderate\",\"Low\",\"Low\",\"High\",\"High\",\"Low\",\"Moderate\",\"High\",\"High\",\"Moderate\",\"Moderate\",\"High\",\"Low\",\"Low\",\"Low\",\"Low\",\"Low\",\"Moderate\",\"Moderate\",\"Moderate\",\"Low\",\"Moderate\",\"High\",\"High\",\"Low\",\"Low\",\"Moderate\",\"Moderate\",\"Moderate\",\"Moderate\",\"Moderate\",\"Low\",\"Low\",\"Low\",\"Moderate\",\"Low\",\"High\",\"Low\",\"Moderate\",\"Moderate\",\"Moderate\",\"High\",\"High\",\"Moderate\",\"High\",\"High\",\"Moderate\",\"High\",\"Low\",\"Low\",\"High\",\"Moderate\",\"High\",\"High\",\"Low\",\"Moderate\",\"High\",\"Moderate\",\"High\",\"Moderate\",\"High\",\"Moderate\",\"Low\",\"Low\",\"High\",\"High\",\"High\",\"Moderate\",\"Moderate\",\"Moderate\",\"Moderate\",\"Low\",\"Moderate\",\"Low\",\"High\",\"Moderate\",\"Low\",\"Moderate\",\"Low\",\"High\",\"Moderate\",\"Moderate\",\"Low\",\"Low\",\"Low\",\"Low\",\"High\",\"Low\",\"High\",\"Low\",\"Low\",\"Low\",\"Low\",\"High\",\"Low\",\"Moderate\",\"High\",\"Moderate\",\"Moderate\",\"Moderate\",\"Low\",\"Moderate\",\"Moderate\",\"Low\",\"High\",\"Low\",\"High\",\"High\",\"Low\",\"Low\",\"High\",\"High\",\"Low\",\"High\",\"High\",\"Low\",\"High\",\"Moderate\",\"Low\",\"High\",\"Low\",\"Moderate\",\"Low\",\"High\",\"Moderate\",\"High\",\"High\",\"High\",\"Low\",\"Low\",\"Low\",\"High\",\"High\",\"Moderate\",\"Low\",\"Moderate\",\"Low\",\"Low\",\"High\",\"Moderate\",\"Low\",\"High\",\"Low\",\"Moderate\",\"Low\",\"Low\",\"High\",\"Moderate\",\"Moderate\",\"Low\",\"High\",\"Low\",\"Low\",\"High\",\"Moderate\",\"Moderate\",\"Moderate\",\"High\",\"Low\",\"High\",\"Low\",\"Moderate\",\"Low\",\"Low\",\"Low\",\"High\",\"Low\",\"High\",\"High\",\"High\",\"Low\",\"Moderate\",\"Moderate\",\"Moderate\",\"Moderate\",\"Moderate\",\"Moderate\",\"Low\",\"Moderate\",\"Low\",\"Moderate\",\"High\",\"High\",\"Moderate\",\"Moderate\",\"High\",\"High\",\"Low\",\"High\",\"Moderate\",\"High\",\"Moderate\",\"Low\",\"Low\",\"Low\",\"Moderate\",\"Low\",\"High\",\"High\",\"High\",\"Low\",\"Moderate\",\"High\",\"Low\",\"High\",\"High\",\"Moderate\",\"High\",\"High\",\"Low\",\"Low\",\"Low\",\"High\",\"Moderate\",\"Low\",\"Low\",\"Moderate\",\"High\",\"Moderate\",\"Low\",\"Moderate\",\"High\",\"Moderate\",\"Moderate\",\"High\",\"High\",\"High\",\"Moderate\",\"Moderate\",\"Moderate\",\"Low\",\"Moderate\",\"Low\",\"High\",\"High\",\"Moderate\",\"High\",\"High\",\"Low\",\"High\",\"Low\",\"High\",\"Low\",\"Low\",\"Moderate\",\"High\",\"Moderate\",\"Moderate\",\"Moderate\",\"Low\",\"Low\",\"Moderate\",\"Moderate\",\"Moderate\",\"Moderate\",\"Moderate\",\"High\",\"High\",\"Moderate\",\"High\",\"Low\",\"High\",\"Low\",\"Low\",\"Moderate\",\"High\",\"High\",\"Low\",\"Low\",\"High\",\"Moderate\",\"Low\",\"High\",\"High\",\"Moderate\",\"Low\",\"Low\",\"Low\",\"High\",\"Low\",\"High\",\"Moderate\",\"Moderate\",\"High\",\"Moderate\",\"High\",\"High\",\"Moderate\",\"High\",\"Moderate\",\"Low\",\"Low\",\"Moderate\",\"Moderate\",\"Moderate\",\"Moderate\",\"Low\",\"High\",\"High\",\"High\",\"Low\",\"High\",\"Moderate\",\"Moderate\",\"Moderate\",\"Low\",\"High\",\"High\",\"Moderate\",\"High\",\"Moderate\",\"Low\",\"Moderate\",\"Low\",\"Low\",\"Low\",\"Moderate\",\"Low\",\"High\",\"Moderate\",\"Low\",\"Low\",\"Moderate\",\"High\",\"High\",\"Low\",\"Moderate\",\"Moderate\",\"Low\",\"Low\",\"High\",\"High\",\"Low\",\"Low\",\"High\",\"High\",\"Moderate\",\"Moderate\",\"High\",\"High\",\"High\",\"Moderate\",\"Moderate\",\"Moderate\",\"Low\",\"High\",\"Moderate\",\"Low\",\"High\",\"High\",\"High\",\"High\",\"High\",\"Moderate\",\"Low\",\"High\",\"Low\",\"Moderate\",\"Low\",\"High\",\"Low\",\"Low\",\"Low\",\"High\",\"High\",\"High\",\"Low\",\"Moderate\",\"Low\",\"High\",\"Low\",\"Moderate\",\"Low\",\"Low\",\"Moderate\",\"Low\",\"Moderate\",\"Moderate\",\"Low\",\"Low\",\"High\",\"Moderate\",\"High\",\"Low\",\"High\",\"High\",\"Moderate\",\"Moderate\",\"Low\",\"High\",\"Moderate\",\"High\",\"Moderate\",\"Moderate\",\"Moderate\",\"High\",\"High\",\"High\",\"Moderate\",\"Low\",\"Low\",\"Low\",\"Low\",\"Moderate\",\"Moderate\",\"Moderate\",\"High\",\"Moderate\",\"Low\",\"High\",\"Moderate\",\"Low\",\"Low\",\"Low\",\"High\",\"High\",\"Moderate\",\"Low\",\"Moderate\",\"Moderate\",\"Low\",\"High\",\"Moderate\",\"Low\",\"High\",\"High\",\"High\",\"Moderate\",\"Low\",\"Moderate\",\"High\",\"Moderate\",\"Low\",\"Moderate\",\"Low\",\"Low\",\"Low\",\"Low\",\"High\",\"Low\",\"Low\",\"Moderate\",\"Low\",\"High\",\"Low\",\"High\",\"Low\",\"Moderate\",\"Low\",\"Low\",\"Low\",\"High\",\"Low\",\"Low\",\"Moderate\",\"Low\",\"Low\",\"Low\",\"Moderate\",\"Moderate\",\"Low\",\"High\",\"Low\",\"Moderate\",\"Moderate\",\"Low\",\"Low\",\"Low\",\"High\",\"Low\",\"Moderate\",\"Low\",\"Moderate\",\"Low\",\"High\",\"Low\",\"High\",\"Moderate\",\"Low\",\"Moderate\",\"Moderate\",\"Moderate\",\"Low\",\"Low\",\"Moderate\",\"Low\",\"Low\",\"High\",\"Moderate\",\"High\",\"High\",\"Moderate\",\"Moderate\",\"Low\",\"Moderate\",\"High\",\"Low\",\"High\",\"Low\",\"High\",\"Low\",\"Moderate\",\"Low\",\"Moderate\",\"High\",\"High\",\"High\",\"Low\",\"High\",\"High\",\"Moderate\",\"Moderate\",\"High\",\"High\",\"Low\",\"Low\",\"High\",\"Moderate\",\"High\",\"Low\",\"Moderate\",\"High\",\"High\",\"High\",\"Low\",\"Moderate\",\"Low\",\"Low\",\"Moderate\",\"Low\",\"High\",\"Low\",\"Low\",\"Moderate\",\"Moderate\",\"High\",\"Moderate\",\"Low\",\"High\",\"Low\",\"Moderate\",\"Moderate\",\"Low\",\"Low\",\"Low\",\"Low\",\"High\",\"Low\",\"High\",\"Moderate\",\"Moderate\",\"High\",\"Moderate\",\"Moderate\",\"Low\",\"Low\",\"High\",\"High\",\"Low\",\"High\",\"High\",\"Low\",\"High\",\"Low\",\"Moderate\",\"Moderate\",\"Moderate\",\"High\",\"Moderate\",\"Moderate\",\"Moderate\",\"High\",\"Low\",\"Moderate\",\"High\",\"Moderate\",\"High\",\"Moderate\",\"Low\",\"High\",\"High\",\"Low\",\"High\",\"Moderate\",\"Moderate\",\"Low\",\"Moderate\",\"Low\",\"High\",\"Moderate\",\"Moderate\",\"Moderate\",\"Low\",\"High\",\"Moderate\",\"High\",\"Low\",\"High\",\"Moderate\",\"High\",\"Low\",\"Low\",\"High\",\"Low\",\"Low\",\"Low\",\"Moderate\",\"High\",\"Low\",\"Moderate\",\"Low\",\"High\",\"Low\",\"High\",\"Moderate\",\"High\",\"Moderate\",\"Low\",\"High\",\"Low\",\"Moderate\",\"High\",\"High\",\"Low\",\"High\",\"Low\",\"Low\",\"Low\",\"Low\",\"Moderate\",\"Moderate\",\"Moderate\",\"Moderate\",\"Low\",\"Moderate\",\"High\",\"High\",\"Low\",\"High\",\"Low\",\"High\",\"High\",\"Low\",\"Moderate\",\"Low\",\"Moderate\",\"Moderate\",\"High\",\"Low\",\"Low\",\"High\",\"High\",\"High\",\"Low\",\"High\",\"Moderate\",\"Low\",\"Moderate\",\"Low\",\"Low\",\"High\",\"Moderate\",\"Low\",\"Moderate\",\"Low\",\"High\",\"Moderate\",\"High\",\"Low\",\"Low\",\"Low\",\"Moderate\",\"High\",\"High\",\"Low\",\"Moderate\",\"Low\",\"Low\",\"Moderate\",\"Moderate\",\"Low\",\"High\",\"Low\",\"High\",\"High\",\"Moderate\",\"High\",\"High\",\"Low\",\"Low\",\"Low\",\"Moderate\",\"Low\",\"High\",\"Low\",\"High\",\"High\",\"Moderate\",\"Low\",\"Low\",\"High\",\"Moderate\",\"Moderate\",\"Low\",\"High\",\"Low\",\"Low\",\"Low\",\"Low\",\"High\",\"Moderate\",\"Low\",\"Low\",\"Low\",\"Moderate\",\"Moderate\",\"Moderate\",\"Moderate\",\"Low\",\"High\",\"Moderate\",\"Moderate\",\"Low\",\"Low\",\"High\",\"High\",\"High\",\"Moderate\",\"Moderate\",\"Moderate\",\"Low\",\"Moderate\",\"Low\",\"High\",\"Low\",\"Moderate\",\"High\",\"Moderate\",\"Low\",\"High\",\"Moderate\",\"Moderate\",\"Low\",\"Low\",\"Moderate\",\"High\",\"High\",\"Low\",\"High\",\"Low\",\"High\",\"Low\",\"Low\",\"Moderate\",\"Low\",\"Low\",\"Low\",\"Low\",\"Moderate\",\"High\",\"Moderate\",\"Moderate\",\"Low\",\"Moderate\",\"Low\",\"Moderate\",\"Low\",\"Moderate\",\"High\",\"High\",\"High\",\"Moderate\",\"Moderate\",\"Low\",\"High\",\"Low\",\"Low\",\"Low\",\"Low\",\"Moderate\",\"Moderate\",\"Moderate\",\"Low\",\"High\",\"Low\",\"High\",\"High\",\"Low\",\"Low\",\"Moderate\",\"High\",\"Moderate\",\"Low\",\"Moderate\",\"Moderate\",\"High\",\"Low\",\"High\",\"Low\",\"High\",\"Moderate\",\"Low\",\"Low\",\"Low\",\"High\",\"Low\",\"Low\",\"High\",\"Low\",\"Low\",\"Moderate\",\"Low\",\"High\",\"Low\",\"High\",\"Moderate\",\"Moderate\",\"Low\",\"High\",\"Moderate\",\"Low\",\"High\",\"Moderate\",\"Low\",\"High\",\"High\",\"Moderate\",\"Low\",\"Low\",\"High\",\"Moderate\",\"Low\",\"High\",\"High\",\"Moderate\",\"Low\",\"High\",\"Moderate\",\"High\",\"Low\",\"High\",\"Moderate\",\"High\",\"Low\",\"Low\",\"High\",\"Low\",\"Low\",\"Low\",\"Low\",\"High\",\"High\",\"Low\",\"Low\",\"Moderate\",\"Low\",\"Moderate\",\"Low\",\"High\",\"High\",\"Low\",\"Moderate\",\"Moderate\",\"Low\",\"Moderate\",\"High\",\"High\",\"Moderate\",\"Moderate\",\"Low\",\"High\",\"High\",\"Moderate\",\"Low\",\"Low\",\"Moderate\",\"High\",\"Low\",\"Low\",\"Moderate\",\"Low\",\"High\",\"Low\",\"Low\",\"Moderate\",\"Moderate\",\"Low\",\"Moderate\",\"High\",\"Low\",\"High\",\"Low\",\"Low\",\"Low\",\"High\",\"Low\",\"Low\",\"Moderate\",\"High\",\"High\",\"Low\",\"Low\",\"Low\",\"Moderate\",\"Low\",\"Moderate\",\"High\",\"Low\",\"Moderate\",\"Low\",\"High\",\"Low\",\"Low\",\"Low\",\"High\",\"High\",\"Moderate\",\"Moderate\",\"Moderate\",\"Low\",\"Low\",\"Low\",\"Low\",\"High\",\"High\",\"High\",\"High\",\"High\",\"High\",\"High\",\"Low\",\"Moderate\",\"High\",\"Moderate\",\"High\",\"Low\",\"Moderate\",\"Low\",\"Low\",\"Moderate\",\"Low\",\"High\",\"High\",\"High\",\"Low\",\"Low\",\"High\",\"High\",\"Low\",\"Moderate\",\"Low\",\"Low\",\"Low\",\"Moderate\",\"High\",\"Moderate\",\"High\",\"High\",\"Moderate\",\"Moderate\",\"High\",\"High\",\"High\",\"Low\",\"Low\",\"Moderate\",\"High\",\"Moderate\",\"Moderate\",\"Moderate\",\"High\",\"Low\",\"High\",\"Moderate\",\"Moderate\",\"Moderate\",\"Low\",\"Low\",\"High\",\"High\",\"Low\",\"Moderate\",\"Low\",\"Moderate\",\"Moderate\",\"High\",\"High\",\"Low\",\"High\",\"High\",\"Moderate\",\"High\",\"Low\",\"Moderate\",\"Moderate\",\"Low\",\"Low\",\"Moderate\",\"Moderate\",\"Moderate\",\"High\",\"High\"],\"y0\":\" \",\"yaxis\":\"y\",\"type\":\"box\"}],                        {\"template\":{\"data\":{\"histogram2dcontour\":[{\"type\":\"histogram2dcontour\",\"colorbar\":{\"outlinewidth\":0,\"ticks\":\"\"},\"colorscale\":[[0.0,\"#0d0887\"],[0.1111111111111111,\"#46039f\"],[0.2222222222222222,\"#7201a8\"],[0.3333333333333333,\"#9c179e\"],[0.4444444444444444,\"#bd3786\"],[0.5555555555555556,\"#d8576b\"],[0.6666666666666666,\"#ed7953\"],[0.7777777777777778,\"#fb9f3a\"],[0.8888888888888888,\"#fdca26\"],[1.0,\"#f0f921\"]]}],\"choropleth\":[{\"type\":\"choropleth\",\"colorbar\":{\"outlinewidth\":0,\"ticks\":\"\"}}],\"histogram2d\":[{\"type\":\"histogram2d\",\"colorbar\":{\"outlinewidth\":0,\"ticks\":\"\"},\"colorscale\":[[0.0,\"#0d0887\"],[0.1111111111111111,\"#46039f\"],[0.2222222222222222,\"#7201a8\"],[0.3333333333333333,\"#9c179e\"],[0.4444444444444444,\"#bd3786\"],[0.5555555555555556,\"#d8576b\"],[0.6666666666666666,\"#ed7953\"],[0.7777777777777778,\"#fb9f3a\"],[0.8888888888888888,\"#fdca26\"],[1.0,\"#f0f921\"]]}],\"heatmap\":[{\"type\":\"heatmap\",\"colorbar\":{\"outlinewidth\":0,\"ticks\":\"\"},\"colorscale\":[[0.0,\"#0d0887\"],[0.1111111111111111,\"#46039f\"],[0.2222222222222222,\"#7201a8\"],[0.3333333333333333,\"#9c179e\"],[0.4444444444444444,\"#bd3786\"],[0.5555555555555556,\"#d8576b\"],[0.6666666666666666,\"#ed7953\"],[0.7777777777777778,\"#fb9f3a\"],[0.8888888888888888,\"#fdca26\"],[1.0,\"#f0f921\"]]}],\"heatmapgl\":[{\"type\":\"heatmapgl\",\"colorbar\":{\"outlinewidth\":0,\"ticks\":\"\"},\"colorscale\":[[0.0,\"#0d0887\"],[0.1111111111111111,\"#46039f\"],[0.2222222222222222,\"#7201a8\"],[0.3333333333333333,\"#9c179e\"],[0.4444444444444444,\"#bd3786\"],[0.5555555555555556,\"#d8576b\"],[0.6666666666666666,\"#ed7953\"],[0.7777777777777778,\"#fb9f3a\"],[0.8888888888888888,\"#fdca26\"],[1.0,\"#f0f921\"]]}],\"contourcarpet\":[{\"type\":\"contourcarpet\",\"colorbar\":{\"outlinewidth\":0,\"ticks\":\"\"}}],\"contour\":[{\"type\":\"contour\",\"colorbar\":{\"outlinewidth\":0,\"ticks\":\"\"},\"colorscale\":[[0.0,\"#0d0887\"],[0.1111111111111111,\"#46039f\"],[0.2222222222222222,\"#7201a8\"],[0.3333333333333333,\"#9c179e\"],[0.4444444444444444,\"#bd3786\"],[0.5555555555555556,\"#d8576b\"],[0.6666666666666666,\"#ed7953\"],[0.7777777777777778,\"#fb9f3a\"],[0.8888888888888888,\"#fdca26\"],[1.0,\"#f0f921\"]]}],\"surface\":[{\"type\":\"surface\",\"colorbar\":{\"outlinewidth\":0,\"ticks\":\"\"},\"colorscale\":[[0.0,\"#0d0887\"],[0.1111111111111111,\"#46039f\"],[0.2222222222222222,\"#7201a8\"],[0.3333333333333333,\"#9c179e\"],[0.4444444444444444,\"#bd3786\"],[0.5555555555555556,\"#d8576b\"],[0.6666666666666666,\"#ed7953\"],[0.7777777777777778,\"#fb9f3a\"],[0.8888888888888888,\"#fdca26\"],[1.0,\"#f0f921\"]]}],\"mesh3d\":[{\"type\":\"mesh3d\",\"colorbar\":{\"outlinewidth\":0,\"ticks\":\"\"}}],\"scatter\":[{\"fillpattern\":{\"fillmode\":\"overlay\",\"size\":10,\"solidity\":0.2},\"type\":\"scatter\"}],\"parcoords\":[{\"type\":\"parcoords\",\"line\":{\"colorbar\":{\"outlinewidth\":0,\"ticks\":\"\"}}}],\"scatterpolargl\":[{\"type\":\"scatterpolargl\",\"marker\":{\"colorbar\":{\"outlinewidth\":0,\"ticks\":\"\"}}}],\"bar\":[{\"error_x\":{\"color\":\"#2a3f5f\"},\"error_y\":{\"color\":\"#2a3f5f\"},\"marker\":{\"line\":{\"color\":\"#E5ECF6\",\"width\":0.5},\"pattern\":{\"fillmode\":\"overlay\",\"size\":10,\"solidity\":0.2}},\"type\":\"bar\"}],\"scattergeo\":[{\"type\":\"scattergeo\",\"marker\":{\"colorbar\":{\"outlinewidth\":0,\"ticks\":\"\"}}}],\"scatterpolar\":[{\"type\":\"scatterpolar\",\"marker\":{\"colorbar\":{\"outlinewidth\":0,\"ticks\":\"\"}}}],\"histogram\":[{\"marker\":{\"pattern\":{\"fillmode\":\"overlay\",\"size\":10,\"solidity\":0.2}},\"type\":\"histogram\"}],\"scattergl\":[{\"type\":\"scattergl\",\"marker\":{\"colorbar\":{\"outlinewidth\":0,\"ticks\":\"\"}}}],\"scatter3d\":[{\"type\":\"scatter3d\",\"line\":{\"colorbar\":{\"outlinewidth\":0,\"ticks\":\"\"}},\"marker\":{\"colorbar\":{\"outlinewidth\":0,\"ticks\":\"\"}}}],\"scattermapbox\":[{\"type\":\"scattermapbox\",\"marker\":{\"colorbar\":{\"outlinewidth\":0,\"ticks\":\"\"}}}],\"scatterternary\":[{\"type\":\"scatterternary\",\"marker\":{\"colorbar\":{\"outlinewidth\":0,\"ticks\":\"\"}}}],\"scattercarpet\":[{\"type\":\"scattercarpet\",\"marker\":{\"colorbar\":{\"outlinewidth\":0,\"ticks\":\"\"}}}],\"carpet\":[{\"aaxis\":{\"endlinecolor\":\"#2a3f5f\",\"gridcolor\":\"white\",\"linecolor\":\"white\",\"minorgridcolor\":\"white\",\"startlinecolor\":\"#2a3f5f\"},\"baxis\":{\"endlinecolor\":\"#2a3f5f\",\"gridcolor\":\"white\",\"linecolor\":\"white\",\"minorgridcolor\":\"white\",\"startlinecolor\":\"#2a3f5f\"},\"type\":\"carpet\"}],\"table\":[{\"cells\":{\"fill\":{\"color\":\"#EBF0F8\"},\"line\":{\"color\":\"white\"}},\"header\":{\"fill\":{\"color\":\"#C8D4E3\"},\"line\":{\"color\":\"white\"}},\"type\":\"table\"}],\"barpolar\":[{\"marker\":{\"line\":{\"color\":\"#E5ECF6\",\"width\":0.5},\"pattern\":{\"fillmode\":\"overlay\",\"size\":10,\"solidity\":0.2}},\"type\":\"barpolar\"}],\"pie\":[{\"automargin\":true,\"type\":\"pie\"}]},\"layout\":{\"autotypenumbers\":\"strict\",\"colorway\":[\"#636efa\",\"#EF553B\",\"#00cc96\",\"#ab63fa\",\"#FFA15A\",\"#19d3f3\",\"#FF6692\",\"#B6E880\",\"#FF97FF\",\"#FECB52\"],\"font\":{\"color\":\"#2a3f5f\"},\"hovermode\":\"closest\",\"hoverlabel\":{\"align\":\"left\"},\"paper_bgcolor\":\"white\",\"plot_bgcolor\":\"#E5ECF6\",\"polar\":{\"bgcolor\":\"#E5ECF6\",\"angularaxis\":{\"gridcolor\":\"white\",\"linecolor\":\"white\",\"ticks\":\"\"},\"radialaxis\":{\"gridcolor\":\"white\",\"linecolor\":\"white\",\"ticks\":\"\"}},\"ternary\":{\"bgcolor\":\"#E5ECF6\",\"aaxis\":{\"gridcolor\":\"white\",\"linecolor\":\"white\",\"ticks\":\"\"},\"baxis\":{\"gridcolor\":\"white\",\"linecolor\":\"white\",\"ticks\":\"\"},\"caxis\":{\"gridcolor\":\"white\",\"linecolor\":\"white\",\"ticks\":\"\"}},\"coloraxis\":{\"colorbar\":{\"outlinewidth\":0,\"ticks\":\"\"}},\"colorscale\":{\"sequential\":[[0.0,\"#0d0887\"],[0.1111111111111111,\"#46039f\"],[0.2222222222222222,\"#7201a8\"],[0.3333333333333333,\"#9c179e\"],[0.4444444444444444,\"#bd3786\"],[0.5555555555555556,\"#d8576b\"],[0.6666666666666666,\"#ed7953\"],[0.7777777777777778,\"#fb9f3a\"],[0.8888888888888888,\"#fdca26\"],[1.0,\"#f0f921\"]],\"sequentialminus\":[[0.0,\"#0d0887\"],[0.1111111111111111,\"#46039f\"],[0.2222222222222222,\"#7201a8\"],[0.3333333333333333,\"#9c179e\"],[0.4444444444444444,\"#bd3786\"],[0.5555555555555556,\"#d8576b\"],[0.6666666666666666,\"#ed7953\"],[0.7777777777777778,\"#fb9f3a\"],[0.8888888888888888,\"#fdca26\"],[1.0,\"#f0f921\"]],\"diverging\":[[0,\"#8e0152\"],[0.1,\"#c51b7d\"],[0.2,\"#de77ae\"],[0.3,\"#f1b6da\"],[0.4,\"#fde0ef\"],[0.5,\"#f7f7f7\"],[0.6,\"#e6f5d0\"],[0.7,\"#b8e186\"],[0.8,\"#7fbc41\"],[0.9,\"#4d9221\"],[1,\"#276419\"]]},\"xaxis\":{\"gridcolor\":\"white\",\"linecolor\":\"white\",\"ticks\":\"\",\"title\":{\"standoff\":15},\"zerolinecolor\":\"white\",\"automargin\":true,\"zerolinewidth\":2},\"yaxis\":{\"gridcolor\":\"white\",\"linecolor\":\"white\",\"ticks\":\"\",\"title\":{\"standoff\":15},\"zerolinecolor\":\"white\",\"automargin\":true,\"zerolinewidth\":2},\"scene\":{\"xaxis\":{\"backgroundcolor\":\"#E5ECF6\",\"gridcolor\":\"white\",\"linecolor\":\"white\",\"showbackground\":true,\"ticks\":\"\",\"zerolinecolor\":\"white\",\"gridwidth\":2},\"yaxis\":{\"backgroundcolor\":\"#E5ECF6\",\"gridcolor\":\"white\",\"linecolor\":\"white\",\"showbackground\":true,\"ticks\":\"\",\"zerolinecolor\":\"white\",\"gridwidth\":2},\"zaxis\":{\"backgroundcolor\":\"#E5ECF6\",\"gridcolor\":\"white\",\"linecolor\":\"white\",\"showbackground\":true,\"ticks\":\"\",\"zerolinecolor\":\"white\",\"gridwidth\":2}},\"shapedefaults\":{\"line\":{\"color\":\"#2a3f5f\"}},\"annotationdefaults\":{\"arrowcolor\":\"#2a3f5f\",\"arrowhead\":0,\"arrowwidth\":1},\"geo\":{\"bgcolor\":\"white\",\"landcolor\":\"#E5ECF6\",\"subunitcolor\":\"white\",\"showland\":true,\"showlakes\":true,\"lakecolor\":\"white\"},\"title\":{\"x\":0.05},\"mapbox\":{\"style\":\"light\"}}},\"xaxis\":{\"anchor\":\"y\",\"domain\":[0.0,1.0],\"title\":{\"text\":\"Condición de salud mental\"}},\"yaxis\":{\"anchor\":\"x\",\"domain\":[0.0,1.0],\"title\":{\"text\":\"Nivel de ejercicio\"}},\"legend\":{\"tracegroupgap\":0},\"title\":{\"text\":\"Nivel de ejercicio según condición de salud mental\"},\"boxmode\":\"group\"},                        {\"responsive\": true}                    ).then(function(){\n",
              "                            \n",
              "var gd = document.getElementById('500ef212-3467-4cd3-bd2a-9fff731570a0');\n",
              "var x = new MutationObserver(function (mutations, observer) {{\n",
              "        var display = window.getComputedStyle(gd).display;\n",
              "        if (!display || display === 'none') {{\n",
              "            console.log([gd, 'removed!']);\n",
              "            Plotly.purge(gd);\n",
              "            observer.disconnect();\n",
              "        }}\n",
              "}});\n",
              "\n",
              "// Listen for the removal of the full notebook cells\n",
              "var notebookContainer = gd.closest('#notebook-container');\n",
              "if (notebookContainer) {{\n",
              "    x.observe(notebookContainer, {childList: true});\n",
              "}}\n",
              "\n",
              "// Listen for the clearing of the current output cell\n",
              "var outputEl = gd.closest('.output');\n",
              "if (outputEl) {{\n",
              "    x.observe(outputEl, {childList: true});\n",
              "}}\n",
              "\n",
              "                        })                };                            </script>        </div>\n",
              "</body>\n",
              "</html>"
            ]
          },
          "metadata": {}
        }
      ]
    },
    {
      "cell_type": "markdown",
      "source": [
        "4. Dispersión: Relación nivel de ejercicio y nivel de estrés"
      ],
      "metadata": {
        "id": "hMRSfHlUYZuF"
      }
    },
    {
      "cell_type": "code",
      "source": [
        "fig4 = px.scatter(\n",
        "    df_clean,\n",
        "    x='Exercise Level',\n",
        "    y='Stress Level',\n",
        "    color='Gender',\n",
        "    title='Relación entre nivel de ejercicio y nivel de estrés',\n",
        "    labels={\n",
        "        'Exercise Level': 'Nivel de ejercicio',\n",
        "        'Stress Level': 'Nivel de estrés'\n",
        "    }\n",
        ")\n",
        "fig4.show()"
      ],
      "metadata": {
        "colab": {
          "base_uri": "https://localhost:8080/",
          "height": 542
        },
        "id": "DpUunZ04YrGW",
        "outputId": "ef1e3656-c8f5-49b7-9781-ce97f772ac34"
      },
      "execution_count": 59,
      "outputs": [
        {
          "output_type": "display_data",
          "data": {
            "text/html": [
              "<html>\n",
              "<head><meta charset=\"utf-8\" /></head>\n",
              "<body>\n",
              "    <div>            <script src=\"https://cdnjs.cloudflare.com/ajax/libs/mathjax/2.7.5/MathJax.js?config=TeX-AMS-MML_SVG\"></script><script type=\"text/javascript\">if (window.MathJax && window.MathJax.Hub && window.MathJax.Hub.Config) {window.MathJax.Hub.Config({SVG: {font: \"STIX-Web\"}});}</script>                <script type=\"text/javascript\">window.PlotlyConfig = {MathJaxConfig: 'local'};</script>\n",
              "        <script charset=\"utf-8\" src=\"https://cdn.plot.ly/plotly-2.35.2.min.js\"></script>                <div id=\"eb664e0a-2306-4ecd-bb99-8cb01fdd4acc\" class=\"plotly-graph-div\" style=\"height:525px; width:100%;\"></div>            <script type=\"text/javascript\">                                    window.PLOTLYENV=window.PLOTLYENV || {};                                    if (document.getElementById(\"eb664e0a-2306-4ecd-bb99-8cb01fdd4acc\")) {                    Plotly.newPlot(                        \"eb664e0a-2306-4ecd-bb99-8cb01fdd4acc\",                        [{\"hovertemplate\":\"Gender=Male\\u003cbr\\u003eNivel de ejercicio=%{x}\\u003cbr\\u003eNivel de estrés=%{y}\\u003cextra\\u003e\\u003c\\u002fextra\\u003e\",\"legendgroup\":\"Male\",\"marker\":{\"color\":\"#636efa\",\"symbol\":\"circle\"},\"mode\":\"markers\",\"name\":\"Male\",\"showlegend\":true,\"x\":[\"Moderate\",\"Low\",\"Low\",\"Moderate\",\"High\",\"Moderate\",\"High\",\"Moderate\",\"High\",\"Moderate\",\"Moderate\",\"Moderate\",\"Low\",\"Moderate\",\"Low\",\"Low\",\"High\",\"Low\",\"High\",\"Moderate\",\"Low\",\"Moderate\",\"High\",\"Moderate\",\"High\",\"High\",\"Moderate\",\"Moderate\",\"Moderate\",\"Moderate\",\"High\",\"Moderate\",\"High\",\"Low\",\"Moderate\",\"Low\",\"High\",\"High\",\"Moderate\",\"Low\",\"High\",\"Low\",\"Low\",\"High\",\"High\",\"Moderate\",\"Low\",\"High\",\"Low\",\"Low\",\"Moderate\",\"Moderate\",\"Moderate\",\"Low\",\"Low\",\"High\",\"Moderate\",\"High\",\"Low\",\"Moderate\",\"Low\",\"High\",\"Low\",\"Moderate\",\"High\",\"High\",\"High\",\"Low\",\"High\",\"High\",\"Moderate\",\"High\",\"Low\",\"High\",\"Low\",\"Low\",\"High\",\"Moderate\",\"High\",\"Low\",\"Moderate\",\"Moderate\",\"High\",\"High\",\"Low\",\"Low\",\"High\",\"Moderate\",\"Moderate\",\"Moderate\",\"Low\",\"Low\",\"Moderate\",\"Low\",\"High\",\"Low\",\"High\",\"High\",\"Low\",\"High\",\"Moderate\",\"Moderate\",\"Low\",\"Low\",\"Moderate\",\"Moderate\",\"Low\",\"Low\",\"Low\",\"High\",\"Moderate\",\"Low\",\"Low\",\"High\",\"Low\",\"High\",\"Low\",\"Moderate\",\"Low\",\"Low\",\"Moderate\",\"Moderate\",\"Moderate\",\"Low\",\"High\",\"High\",\"High\",\"Low\",\"Low\",\"Low\",\"Moderate\",\"High\",\"High\",\"High\",\"Moderate\",\"Moderate\",\"Low\",\"Low\",\"High\",\"High\",\"Moderate\",\"High\",\"Moderate\",\"Moderate\",\"Moderate\",\"Moderate\",\"Moderate\",\"High\",\"Moderate\",\"High\",\"Low\",\"Low\",\"High\",\"Low\",\"Low\",\"Low\",\"High\",\"High\",\"High\",\"High\",\"High\",\"Moderate\",\"Moderate\",\"High\",\"Low\",\"High\",\"Moderate\",\"Moderate\",\"High\",\"Low\",\"Moderate\",\"Moderate\",\"Low\",\"Moderate\",\"Low\",\"High\",\"High\",\"Low\",\"Moderate\",\"Low\",\"High\",\"High\",\"Moderate\",\"High\",\"Moderate\",\"Moderate\",\"Low\",\"Low\",\"High\",\"High\",\"High\",\"High\",\"High\",\"Low\",\"Low\",\"High\",\"Moderate\",\"High\",\"High\",\"Low\",\"Moderate\",\"Moderate\",\"High\",\"Moderate\",\"Low\",\"Moderate\",\"High\",\"High\",\"High\",\"Moderate\",\"Low\",\"Low\",\"Moderate\",\"Moderate\",\"Moderate\",\"Low\",\"Low\",\"Moderate\",\"Moderate\",\"High\",\"Low\",\"High\",\"High\",\"Low\",\"Moderate\",\"Low\",\"High\",\"Low\",\"Moderate\",\"Low\",\"High\",\"Low\",\"Low\",\"High\",\"High\",\"Low\",\"High\",\"Low\",\"High\",\"Low\",\"Moderate\",\"Low\",\"Low\",\"Moderate\",\"Low\",\"Low\",\"Moderate\",\"High\",\"High\",\"Moderate\",\"High\",\"Moderate\",\"Moderate\",\"High\",\"High\",\"Low\",\"Moderate\",\"Low\",\"Moderate\",\"Moderate\",\"Moderate\",\"Moderate\",\"Moderate\",\"Low\",\"Moderate\",\"Moderate\",\"High\",\"Moderate\",\"Moderate\",\"Low\",\"Moderate\",\"High\",\"High\",\"Moderate\",\"High\",\"High\",\"Low\",\"Moderate\",\"Moderate\",\"Low\",\"High\",\"Low\",\"High\",\"Moderate\",\"High\",\"Low\",\"Low\",\"High\",\"Low\",\"High\",\"High\",\"Moderate\",\"High\",\"Low\",\"Low\",\"High\",\"Moderate\",\"High\",\"Moderate\",\"Low\",\"Low\",\"Low\",\"High\",\"Moderate\",\"Moderate\",\"High\",\"Low\",\"Low\",\"High\",\"High\",\"Moderate\",\"Moderate\",\"High\",\"Moderate\",\"Moderate\",\"Low\",\"Low\",\"Moderate\",\"Low\",\"Low\",\"High\",\"Low\",\"High\",\"High\",\"Low\",\"Low\",\"Moderate\",\"Moderate\",\"Moderate\",\"Moderate\",\"Moderate\",\"Moderate\",\"High\",\"Moderate\",\"Moderate\",\"High\",\"Low\",\"High\",\"Low\",\"Moderate\",\"High\",\"Moderate\",\"Moderate\",\"High\",\"Moderate\",\"Low\",\"High\",\"Low\",\"High\",\"Low\",\"High\",\"High\",\"Moderate\",\"High\",\"High\",\"Low\",\"Low\",\"Moderate\",\"Low\",\"Moderate\",\"Moderate\",\"Moderate\",\"Low\",\"Moderate\",\"Moderate\",\"Low\",\"High\",\"Low\",\"Moderate\",\"Low\",\"High\",\"Moderate\",\"High\",\"High\",\"Low\",\"Low\",\"High\",\"Moderate\",\"High\",\"Low\",\"Low\",\"Low\",\"Low\",\"Low\",\"Low\",\"Low\",\"High\",\"Moderate\",\"Moderate\",\"Moderate\",\"Moderate\",\"Moderate\",\"Low\",\"High\",\"Low\",\"High\",\"Low\",\"Low\",\"Low\",\"High\",\"Low\",\"High\",\"Low\",\"Low\",\"Low\",\"Low\",\"Moderate\",\"High\",\"Low\",\"Moderate\",\"Low\",\"Moderate\",\"Moderate\",\"Moderate\",\"Moderate\",\"Low\",\"Low\",\"Low\",\"Moderate\",\"High\",\"Moderate\",\"Moderate\",\"Moderate\",\"Moderate\",\"Moderate\",\"Moderate\",\"High\",\"High\",\"Low\",\"Low\",\"High\",\"Moderate\",\"Moderate\",\"Low\",\"Low\",\"Low\",\"High\",\"High\",\"High\",\"Moderate\",\"Low\",\"Low\",\"High\",\"High\",\"Moderate\",\"Low\",\"Moderate\",\"Moderate\",\"Moderate\",\"Low\",\"High\",\"Low\",\"High\",\"High\",\"Moderate\",\"High\",\"Low\",\"Low\",\"Moderate\",\"Moderate\",\"Low\",\"Moderate\",\"Moderate\",\"Moderate\",\"Low\",\"High\",\"High\",\"Moderate\",\"Moderate\",\"High\",\"Moderate\",\"Low\",\"Moderate\",\"Moderate\",\"Low\",\"Low\",\"Low\",\"Low\",\"High\",\"Moderate\",\"Moderate\",\"Moderate\",\"Low\",\"High\",\"High\",\"Moderate\",\"Low\",\"High\",\"High\",\"Low\",\"Low\",\"High\",\"Low\",\"Low\",\"Moderate\",\"Moderate\",\"Low\",\"Low\",\"Moderate\",\"High\",\"Low\",\"Moderate\",\"High\",\"Low\",\"High\",\"Moderate\",\"Moderate\",\"Moderate\",\"Moderate\",\"Moderate\",\"High\",\"High\",\"Moderate\",\"Low\",\"Low\",\"High\",\"High\",\"Moderate\",\"High\",\"Low\",\"High\",\"High\",\"Moderate\",\"High\",\"High\",\"Moderate\",\"Low\",\"Moderate\",\"Low\",\"High\",\"High\",\"Moderate\",\"Low\",\"Moderate\",\"Moderate\",\"High\",\"Low\",\"Moderate\",\"High\",\"High\",\"Low\",\"Low\",\"Low\",\"Moderate\",\"Low\",\"Low\",\"Moderate\",\"Moderate\",\"High\",\"Moderate\",\"Low\",\"Moderate\",\"High\",\"Low\",\"Moderate\",\"Moderate\",\"High\",\"Moderate\",\"Moderate\",\"Low\",\"Low\",\"High\",\"Low\",\"Moderate\",\"Low\",\"High\",\"Moderate\",\"Low\",\"High\",\"Moderate\",\"Low\",\"High\",\"Low\",\"Moderate\",\"Moderate\",\"Moderate\",\"Low\",\"High\",\"Moderate\",\"High\",\"Moderate\",\"High\",\"High\",\"Low\",\"Moderate\",\"Moderate\",\"Low\",\"Low\",\"High\",\"Low\",\"Moderate\",\"Low\",\"High\",\"Moderate\",\"High\",\"High\",\"Moderate\",\"Moderate\",\"Low\",\"Low\",\"Low\",\"Low\",\"High\",\"Low\",\"Low\",\"Low\",\"Moderate\",\"Moderate\",\"High\",\"Low\",\"Moderate\",\"Low\",\"Moderate\",\"Low\",\"High\",\"Low\",\"Moderate\",\"Moderate\",\"Moderate\",\"High\",\"Low\",\"Low\",\"Low\",\"Low\",\"Moderate\",\"High\",\"High\",\"High\",\"Moderate\",\"High\",\"Moderate\",\"Low\",\"Low\",\"Moderate\",\"Low\",\"Moderate\",\"Moderate\",\"Low\",\"Low\",\"High\",\"Moderate\",\"Low\",\"High\",\"High\",\"High\",\"High\",\"Low\",\"Low\",\"Moderate\",\"Low\",\"Low\",\"High\",\"Low\",\"High\",\"Low\",\"Low\",\"Moderate\",\"Moderate\",\"Moderate\",\"High\",\"Moderate\",\"High\",\"Low\",\"Low\",\"High\",\"High\",\"High\",\"Low\",\"Moderate\",\"Moderate\",\"Low\",\"High\",\"Low\",\"Moderate\",\"High\",\"Low\",\"Moderate\",\"Low\",\"High\",\"Low\",\"Moderate\",\"Low\",\"High\",\"Low\",\"Low\",\"Low\",\"High\",\"Moderate\",\"Moderate\",\"Low\",\"High\",\"Moderate\",\"Moderate\",\"Moderate\",\"Low\",\"Moderate\",\"High\",\"Low\",\"Moderate\",\"High\",\"High\",\"Moderate\",\"Moderate\",\"High\",\"Low\",\"Low\",\"High\",\"Low\",\"High\",\"Moderate\",\"High\",\"Low\",\"Low\",\"Low\",\"Moderate\",\"High\",\"Moderate\",\"Low\",\"Moderate\",\"Low\",\"Low\",\"Moderate\",\"Low\",\"Moderate\",\"High\",\"Low\",\"Low\",\"Low\",\"Low\",\"High\",\"Low\",\"Low\",\"Low\",\"High\",\"Moderate\",\"High\",\"High\",\"Moderate\",\"High\",\"Moderate\",\"Low\",\"Low\",\"Moderate\",\"Low\",\"Moderate\",\"Low\",\"High\",\"Low\",\"High\",\"High\",\"Low\",\"Moderate\",\"Moderate\",\"Low\",\"High\",\"Moderate\",\"Low\",\"Low\",\"High\",\"Moderate\",\"Low\",\"Moderate\",\"Low\",\"Low\",\"Low\",\"Moderate\",\"Low\",\"Moderate\",\"High\",\"High\",\"Moderate\",\"Low\",\"Moderate\",\"High\",\"Moderate\",\"High\",\"Low\",\"Moderate\",\"Low\",\"High\",\"Moderate\",\"Moderate\",\"Moderate\",\"Moderate\",\"High\"],\"xaxis\":\"x\",\"y\":[\"Low\",\"Low\",\"Low\",\"Low\",\"Low\",\"Low\",\"Moderate\",\"Low\",\"High\",\"Low\",\"Low\",\"Moderate\",\"Low\",\"High\",\"Moderate\",\"High\",\"Moderate\",\"High\",\"Low\",\"High\",\"Low\",\"Low\",\"High\",\"Low\",\"High\",\"Moderate\",\"Moderate\",\"Low\",\"High\",\"High\",\"High\",\"Low\",\"Low\",\"Moderate\",\"Moderate\",\"High\",\"Moderate\",\"Low\",\"High\",\"Moderate\",\"High\",\"Low\",\"Low\",\"High\",\"Low\",\"Low\",\"Low\",\"Moderate\",\"Moderate\",\"Low\",\"Moderate\",\"High\",\"Low\",\"High\",\"High\",\"Low\",\"Moderate\",\"Moderate\",\"Moderate\",\"Low\",\"Low\",\"High\",\"Low\",\"Moderate\",\"Moderate\",\"High\",\"Low\",\"High\",\"Moderate\",\"Moderate\",\"Moderate\",\"High\",\"High\",\"High\",\"Low\",\"High\",\"High\",\"Moderate\",\"High\",\"High\",\"Low\",\"High\",\"High\",\"Moderate\",\"High\",\"Low\",\"Moderate\",\"High\",\"Low\",\"Low\",\"High\",\"Moderate\",\"High\",\"High\",\"Moderate\",\"Moderate\",\"High\",\"Low\",\"Moderate\",\"Low\",\"Moderate\",\"High\",\"High\",\"High\",\"High\",\"High\",\"Low\",\"High\",\"Moderate\",\"Low\",\"Moderate\",\"Moderate\",\"High\",\"Moderate\",\"Moderate\",\"High\",\"Low\",\"High\",\"Low\",\"High\",\"Moderate\",\"High\",\"Moderate\",\"High\",\"High\",\"High\",\"High\",\"High\",\"High\",\"High\",\"Moderate\",\"High\",\"Low\",\"High\",\"Low\",\"High\",\"Moderate\",\"High\",\"Low\",\"High\",\"High\",\"Moderate\",\"Moderate\",\"Low\",\"High\",\"High\",\"High\",\"Moderate\",\"Moderate\",\"Moderate\",\"Moderate\",\"Moderate\",\"Moderate\",\"High\",\"Low\",\"High\",\"High\",\"Moderate\",\"High\",\"Moderate\",\"Moderate\",\"Moderate\",\"Low\",\"Moderate\",\"Low\",\"High\",\"Low\",\"Low\",\"Moderate\",\"Low\",\"High\",\"Low\",\"Low\",\"High\",\"High\",\"Low\",\"Moderate\",\"High\",\"Low\",\"Moderate\",\"Moderate\",\"Moderate\",\"Low\",\"Moderate\",\"Low\",\"High\",\"High\",\"Moderate\",\"High\",\"High\",\"High\",\"Moderate\",\"Moderate\",\"High\",\"High\",\"Low\",\"Moderate\",\"Moderate\",\"High\",\"Moderate\",\"Moderate\",\"Moderate\",\"Moderate\",\"High\",\"High\",\"High\",\"High\",\"Low\",\"Low\",\"Low\",\"Moderate\",\"Low\",\"High\",\"Low\",\"High\",\"Moderate\",\"Moderate\",\"High\",\"Moderate\",\"Low\",\"Low\",\"Low\",\"High\",\"Moderate\",\"Low\",\"High\",\"High\",\"Moderate\",\"High\",\"Moderate\",\"Moderate\",\"Low\",\"Low\",\"Moderate\",\"Moderate\",\"High\",\"High\",\"Moderate\",\"Low\",\"High\",\"Low\",\"Low\",\"Moderate\",\"Moderate\",\"Low\",\"Moderate\",\"Moderate\",\"High\",\"High\",\"Moderate\",\"High\",\"Low\",\"High\",\"Low\",\"Moderate\",\"Low\",\"Low\",\"High\",\"Low\",\"Moderate\",\"Low\",\"Moderate\",\"Moderate\",\"Low\",\"Low\",\"High\",\"High\",\"High\",\"Moderate\",\"Low\",\"High\",\"Low\",\"Moderate\",\"High\",\"Moderate\",\"Moderate\",\"Moderate\",\"High\",\"Moderate\",\"Moderate\",\"High\",\"Moderate\",\"High\",\"Moderate\",\"High\",\"High\",\"Low\",\"High\",\"Moderate\",\"Moderate\",\"High\",\"Low\",\"High\",\"High\",\"Low\",\"Moderate\",\"Low\",\"High\",\"High\",\"Moderate\",\"Moderate\",\"Moderate\",\"High\",\"Low\",\"High\",\"Moderate\",\"Moderate\",\"Moderate\",\"High\",\"Moderate\",\"High\",\"Low\",\"Moderate\",\"Low\",\"Low\",\"Low\",\"High\",\"Moderate\",\"Moderate\",\"Low\",\"High\",\"Low\",\"Moderate\",\"Low\",\"Moderate\",\"Low\",\"High\",\"Moderate\",\"Low\",\"Low\",\"Moderate\",\"Moderate\",\"Moderate\",\"High\",\"High\",\"Moderate\",\"Moderate\",\"Low\",\"Moderate\",\"High\",\"Moderate\",\"High\",\"High\",\"Low\",\"Moderate\",\"Moderate\",\"Low\",\"Low\",\"High\",\"Low\",\"High\",\"Low\",\"High\",\"High\",\"High\",\"High\",\"Moderate\",\"Low\",\"Low\",\"Moderate\",\"Moderate\",\"Low\",\"Moderate\",\"Moderate\",\"Moderate\",\"Low\",\"Moderate\",\"Low\",\"High\",\"Moderate\",\"Low\",\"High\",\"Low\",\"Low\",\"Moderate\",\"High\",\"Low\",\"Moderate\",\"Moderate\",\"Moderate\",\"High\",\"Moderate\",\"High\",\"Moderate\",\"Low\",\"Low\",\"Low\",\"High\",\"Moderate\",\"Moderate\",\"Low\",\"High\",\"High\",\"Low\",\"Low\",\"High\",\"Low\",\"Moderate\",\"High\",\"High\",\"Moderate\",\"Moderate\",\"Moderate\",\"Moderate\",\"High\",\"Low\",\"Low\",\"High\",\"Low\",\"High\",\"Low\",\"High\",\"Moderate\",\"Moderate\",\"Low\",\"High\",\"Moderate\",\"Low\",\"High\",\"Moderate\",\"Low\",\"Moderate\",\"Low\",\"High\",\"High\",\"Low\",\"Low\",\"Low\",\"Low\",\"Moderate\",\"High\",\"Moderate\",\"Moderate\",\"Moderate\",\"Moderate\",\"High\",\"High\",\"High\",\"Moderate\",\"Low\",\"High\",\"High\",\"Low\",\"High\",\"Moderate\",\"Low\",\"Moderate\",\"Moderate\",\"Moderate\",\"Moderate\",\"Moderate\",\"Moderate\",\"Low\",\"Moderate\",\"Moderate\",\"Moderate\",\"High\",\"High\",\"Moderate\",\"High\",\"High\",\"High\",\"Moderate\",\"Moderate\",\"Moderate\",\"Low\",\"Moderate\",\"High\",\"Low\",\"Low\",\"Moderate\",\"High\",\"High\",\"Low\",\"Low\",\"High\",\"Moderate\",\"High\",\"Moderate\",\"Moderate\",\"Low\",\"Moderate\",\"Low\",\"High\",\"High\",\"Low\",\"High\",\"Low\",\"High\",\"Moderate\",\"Moderate\",\"High\",\"Moderate\",\"High\",\"High\",\"Low\",\"Moderate\",\"High\",\"Low\",\"Moderate\",\"Low\",\"Low\",\"Low\",\"High\",\"Low\",\"High\",\"Low\",\"Moderate\",\"Low\",\"High\",\"Moderate\",\"Moderate\",\"Low\",\"Low\",\"Moderate\",\"Low\",\"Moderate\",\"Low\",\"Low\",\"Moderate\",\"High\",\"High\",\"Low\",\"Low\",\"Low\",\"Low\",\"Moderate\",\"Moderate\",\"Low\",\"High\",\"High\",\"High\",\"Moderate\",\"Low\",\"Moderate\",\"Moderate\",\"Low\",\"Low\",\"High\",\"Moderate\",\"Moderate\",\"High\",\"Moderate\",\"High\",\"High\",\"Moderate\",\"Moderate\",\"Moderate\",\"Moderate\",\"Moderate\",\"High\",\"Moderate\",\"Low\",\"High\",\"Low\",\"Moderate\",\"High\",\"Moderate\",\"Low\",\"Low\",\"Low\",\"Moderate\",\"Low\",\"Low\",\"Low\",\"Moderate\",\"Low\",\"Moderate\",\"High\",\"High\",\"High\",\"High\",\"Low\",\"Moderate\",\"High\",\"Moderate\",\"Low\",\"High\",\"Low\",\"Moderate\",\"Low\",\"High\",\"Moderate\",\"Low\",\"High\",\"Moderate\",\"High\",\"High\",\"Low\",\"Moderate\",\"High\",\"Moderate\",\"Low\",\"High\",\"Low\",\"High\",\"Low\",\"Moderate\",\"Moderate\",\"Moderate\",\"High\",\"Low\",\"Moderate\",\"High\",\"Low\",\"Low\",\"Low\",\"Low\",\"Low\",\"Low\",\"High\",\"Moderate\",\"Moderate\",\"Low\",\"High\",\"Low\",\"High\",\"Moderate\",\"High\",\"Moderate\",\"Low\",\"High\",\"Moderate\",\"Moderate\",\"Moderate\",\"Low\",\"High\",\"Low\",\"Moderate\",\"Moderate\",\"Low\",\"High\",\"Low\",\"Low\",\"High\",\"High\",\"Moderate\",\"High\",\"Low\",\"Moderate\",\"Moderate\",\"Moderate\",\"Low\",\"Moderate\",\"High\",\"High\",\"Moderate\",\"Moderate\",\"High\",\"High\",\"Moderate\",\"Low\",\"Low\",\"High\",\"Moderate\",\"Low\",\"High\",\"Moderate\",\"Low\",\"High\",\"High\",\"Moderate\",\"Low\",\"Low\",\"High\",\"Moderate\",\"Moderate\",\"High\",\"Low\",\"High\",\"Moderate\",\"High\",\"Moderate\",\"Low\",\"High\",\"Moderate\",\"Low\",\"High\",\"High\",\"High\",\"Moderate\",\"Moderate\",\"High\",\"Low\",\"Moderate\",\"Moderate\",\"High\",\"Moderate\",\"High\",\"High\",\"High\",\"Moderate\",\"High\",\"Low\",\"Moderate\",\"Moderate\",\"Moderate\",\"High\",\"High\",\"High\",\"Moderate\",\"High\",\"Moderate\",\"High\",\"High\",\"High\",\"Low\",\"Moderate\",\"Moderate\",\"High\",\"Moderate\",\"High\",\"High\",\"High\",\"Low\",\"Moderate\",\"Low\",\"Moderate\",\"High\",\"Moderate\",\"Moderate\",\"Moderate\",\"Low\",\"Moderate\",\"Low\",\"Low\",\"High\",\"Moderate\",\"Low\",\"High\",\"Low\",\"High\",\"High\",\"High\",\"High\",\"Moderate\",\"Low\",\"Low\",\"High\",\"High\",\"Low\",\"Moderate\",\"High\",\"Low\",\"Low\",\"High\",\"Low\",\"Moderate\",\"Moderate\",\"High\",\"Moderate\",\"High\",\"Low\",\"Low\",\"High\",\"Moderate\",\"High\",\"High\",\"Low\",\"Low\",\"Moderate\",\"High\",\"Moderate\",\"Low\",\"Low\",\"Low\",\"Low\",\"Moderate\",\"High\",\"High\",\"Moderate\",\"Moderate\",\"Low\",\"Low\",\"Moderate\",\"High\",\"High\",\"Low\",\"High\",\"Low\",\"Moderate\",\"Moderate\",\"Low\",\"High\",\"Low\"],\"yaxis\":\"y\",\"type\":\"scattergl\"},{\"hovertemplate\":\"Gender=Other\\u003cbr\\u003eNivel de ejercicio=%{x}\\u003cbr\\u003eNivel de estrés=%{y}\\u003cextra\\u003e\\u003c\\u002fextra\\u003e\",\"legendgroup\":\"Other\",\"marker\":{\"color\":\"#EF553B\",\"symbol\":\"circle\"},\"mode\":\"markers\",\"name\":\"Other\",\"showlegend\":true,\"x\":[\"Moderate\",\"Low\",\"Low\",\"Low\",\"High\",\"High\",\"Moderate\",\"Moderate\",\"High\",\"Low\",\"Low\",\"Moderate\",\"Moderate\",\"Moderate\",\"High\",\"Moderate\",\"Low\",\"Low\",\"High\",\"High\",\"Moderate\",\"Low\",\"Moderate\",\"Low\",\"Moderate\",\"High\",\"High\",\"Moderate\",\"Moderate\",\"Low\",\"High\",\"Low\",\"Low\",\"Moderate\",\"High\",\"High\",\"Moderate\",\"Moderate\",\"High\",\"High\",\"Low\",\"High\",\"Moderate\",\"Low\",\"High\",\"Low\",\"Moderate\",\"Moderate\",\"Moderate\",\"Moderate\",\"High\",\"Moderate\",\"Moderate\",\"Moderate\",\"High\",\"High\",\"High\",\"Low\",\"Low\",\"Moderate\",\"Low\",\"Moderate\",\"Moderate\",\"High\",\"Moderate\",\"Low\",\"Low\",\"Low\",\"Low\",\"Moderate\",\"Moderate\",\"High\",\"High\",\"Low\",\"High\",\"Moderate\",\"Low\",\"High\",\"Moderate\",\"Low\",\"Low\",\"Low\",\"High\",\"Moderate\",\"High\",\"Low\",\"High\",\"Moderate\",\"Low\",\"Low\",\"High\",\"High\",\"Moderate\",\"High\",\"High\",\"Low\",\"High\",\"Low\",\"Moderate\",\"High\",\"Low\",\"Low\",\"Moderate\",\"Moderate\",\"Low\",\"High\",\"High\",\"Low\",\"Moderate\",\"High\",\"Low\",\"Moderate\",\"High\",\"High\",\"High\",\"Low\",\"Moderate\",\"High\",\"Moderate\",\"Low\",\"High\",\"Moderate\",\"High\",\"Moderate\",\"Low\",\"Moderate\",\"High\",\"Low\",\"Low\",\"High\",\"Moderate\",\"Low\",\"High\",\"High\",\"Moderate\",\"Low\",\"Moderate\",\"High\",\"Low\",\"Moderate\",\"Low\",\"Low\",\"Moderate\",\"Moderate\",\"High\",\"Moderate\",\"High\",\"Moderate\",\"High\",\"High\",\"High\",\"Moderate\",\"High\",\"Low\",\"Moderate\",\"High\",\"Moderate\",\"Moderate\",\"High\",\"High\",\"High\",\"Low\",\"Low\",\"High\",\"Moderate\",\"High\",\"Low\",\"Low\",\"Moderate\",\"Low\",\"Low\",\"Low\",\"Low\",\"Low\",\"Moderate\",\"Moderate\",\"Moderate\",\"Moderate\",\"High\",\"Low\",\"Moderate\",\"Low\",\"Low\",\"Moderate\",\"Moderate\",\"Moderate\",\"Low\",\"Moderate\",\"High\",\"High\",\"High\",\"High\",\"Moderate\",\"Moderate\",\"High\",\"Low\",\"High\",\"High\",\"High\",\"High\",\"Moderate\",\"High\",\"Moderate\",\"High\",\"High\",\"Moderate\",\"High\",\"High\",\"Moderate\",\"Moderate\",\"High\",\"Moderate\",\"Moderate\",\"Moderate\",\"High\",\"High\",\"Moderate\",\"High\",\"Moderate\",\"High\",\"High\",\"High\",\"Moderate\",\"High\",\"Low\",\"Low\",\"Low\",\"Low\",\"Low\",\"Low\",\"High\",\"Low\",\"Low\",\"High\",\"Moderate\",\"Low\",\"High\",\"High\",\"Low\",\"High\",\"Low\",\"Moderate\",\"High\",\"High\",\"High\",\"Low\",\"Low\",\"High\",\"High\",\"Moderate\",\"Moderate\",\"Low\",\"Low\",\"High\",\"Low\",\"High\",\"Moderate\",\"Low\",\"High\",\"High\",\"High\",\"Moderate\",\"Low\",\"Moderate\",\"Low\",\"Moderate\",\"Low\",\"Moderate\",\"Low\",\"High\",\"Moderate\",\"Low\",\"High\",\"Moderate\",\"Low\",\"Moderate\",\"Moderate\",\"Moderate\",\"Moderate\",\"High\",\"Moderate\",\"Low\",\"Low\",\"High\",\"Low\",\"High\",\"High\",\"Moderate\",\"High\",\"Moderate\",\"Low\",\"Moderate\",\"Moderate\",\"Moderate\",\"Low\",\"High\",\"High\",\"Moderate\",\"High\",\"Moderate\",\"Low\",\"Low\",\"High\",\"High\",\"Low\",\"High\",\"High\",\"Low\",\"Low\",\"Low\",\"Low\",\"Moderate\",\"Low\",\"High\",\"Low\",\"Low\",\"Low\",\"Low\",\"Moderate\",\"Moderate\",\"High\",\"High\",\"High\",\"Moderate\",\"High\",\"Low\",\"High\",\"Low\",\"Low\",\"Moderate\",\"High\",\"Low\",\"Low\",\"Low\",\"Low\",\"Low\",\"Moderate\",\"Moderate\",\"High\",\"Moderate\",\"High\",\"Moderate\",\"Moderate\",\"Low\",\"High\",\"High\",\"High\",\"Moderate\",\"Moderate\",\"High\",\"Low\",\"Moderate\",\"Low\",\"Moderate\",\"Moderate\",\"Low\",\"High\",\"Moderate\",\"Moderate\",\"High\",\"High\",\"Low\",\"Low\",\"Low\",\"High\",\"Moderate\",\"Low\",\"Low\",\"Moderate\",\"High\",\"High\",\"High\",\"Low\",\"Moderate\",\"Moderate\",\"Moderate\",\"High\",\"High\",\"High\",\"Moderate\",\"Moderate\",\"High\",\"Moderate\",\"High\",\"High\",\"Moderate\",\"Moderate\",\"Low\",\"High\",\"Moderate\",\"Low\",\"Low\",\"Moderate\",\"High\",\"Moderate\",\"Moderate\",\"Moderate\",\"Low\",\"Moderate\",\"High\",\"Low\",\"High\",\"Low\",\"Moderate\",\"Low\",\"Moderate\",\"Low\",\"Low\",\"Moderate\",\"Low\",\"Moderate\",\"High\",\"High\",\"Low\",\"High\",\"Moderate\",\"Low\",\"Low\",\"High\",\"Low\",\"Low\",\"Low\",\"Low\",\"Moderate\",\"High\",\"Moderate\",\"High\",\"High\",\"Low\",\"Moderate\",\"Moderate\",\"Low\",\"Low\",\"High\",\"Moderate\",\"High\",\"Moderate\",\"High\",\"High\",\"Low\",\"Low\",\"High\",\"Moderate\",\"Moderate\",\"Moderate\",\"Moderate\",\"Moderate\",\"Low\",\"Moderate\",\"High\",\"High\",\"Low\",\"Moderate\",\"Low\",\"Moderate\",\"High\",\"Moderate\",\"Low\",\"Low\",\"Low\",\"High\",\"High\",\"Moderate\",\"Low\",\"High\",\"Moderate\",\"High\",\"Moderate\",\"Low\",\"Low\",\"Moderate\",\"Low\",\"Moderate\",\"Low\",\"High\",\"High\",\"High\",\"High\",\"Moderate\",\"Moderate\",\"Low\",\"Moderate\",\"Low\",\"Low\",\"Low\",\"Moderate\",\"Moderate\",\"High\",\"Low\",\"Low\",\"Low\",\"Moderate\",\"High\",\"High\",\"High\",\"High\",\"Moderate\",\"Low\",\"High\",\"Moderate\",\"Moderate\",\"Low\",\"Low\",\"Low\",\"Low\",\"High\",\"High\",\"Low\",\"Low\",\"Low\",\"Moderate\",\"Moderate\",\"Moderate\",\"High\",\"Low\",\"High\",\"Moderate\",\"Low\",\"Low\",\"High\",\"Low\",\"Moderate\",\"Moderate\",\"High\",\"High\",\"Moderate\",\"Low\",\"High\",\"Low\",\"Moderate\",\"High\",\"Low\",\"High\",\"High\",\"Moderate\",\"Low\",\"Low\",\"Low\",\"High\",\"High\",\"Low\",\"High\",\"Moderate\",\"Low\",\"Moderate\",\"High\",\"High\",\"Moderate\",\"Low\",\"Low\",\"High\",\"Moderate\",\"High\",\"High\",\"Low\",\"Low\",\"High\",\"Moderate\",\"High\",\"High\",\"Moderate\",\"Low\",\"High\",\"Low\",\"Low\",\"Moderate\",\"Moderate\",\"High\",\"High\",\"High\",\"High\",\"Moderate\",\"Low\",\"High\",\"High\",\"Low\",\"Low\",\"Moderate\",\"Low\",\"High\",\"Low\",\"High\",\"Moderate\",\"Low\",\"Moderate\",\"Low\",\"High\",\"Low\",\"High\",\"Moderate\",\"Moderate\",\"Moderate\",\"High\",\"Moderate\",\"Low\",\"Moderate\",\"Low\",\"High\",\"Moderate\",\"Low\",\"Moderate\",\"Low\",\"High\",\"Moderate\",\"High\",\"Low\",\"Low\",\"Low\",\"Moderate\",\"Low\",\"Low\",\"High\",\"Low\",\"Low\",\"Moderate\",\"Low\",\"Moderate\",\"Moderate\",\"Low\",\"Low\",\"Moderate\",\"High\",\"Low\",\"High\",\"High\",\"Moderate\",\"Low\",\"Low\",\"High\",\"Low\",\"Moderate\",\"High\",\"High\",\"Low\",\"Low\",\"Low\",\"Moderate\",\"Low\",\"Low\",\"Moderate\",\"Low\",\"Low\",\"Moderate\",\"High\",\"Moderate\",\"High\",\"High\",\"Low\",\"Moderate\",\"High\",\"Moderate\",\"High\",\"High\",\"Moderate\",\"Low\",\"Moderate\",\"Low\",\"High\",\"Low\",\"Low\",\"High\",\"High\",\"Moderate\",\"Low\",\"Moderate\",\"High\",\"High\",\"Low\",\"Low\",\"Moderate\",\"Low\",\"Low\",\"High\",\"High\",\"Low\",\"Moderate\",\"Moderate\",\"Low\",\"Low\",\"Moderate\",\"High\",\"Moderate\",\"High\",\"Low\",\"Moderate\",\"High\",\"High\",\"Low\",\"Moderate\",\"Low\",\"Low\",\"Low\",\"High\",\"Low\",\"Low\",\"Moderate\",\"Low\",\"High\",\"High\",\"Moderate\",\"Moderate\",\"High\",\"High\",\"Low\",\"Moderate\",\"High\",\"Low\",\"Low\",\"Moderate\",\"Low\",\"Low\",\"Moderate\",\"Moderate\",\"Low\",\"Low\",\"Low\",\"Moderate\",\"High\",\"Moderate\",\"Low\",\"High\",\"Low\",\"Low\",\"High\",\"High\",\"Low\",\"Low\",\"High\",\"Low\",\"High\",\"Moderate\",\"Low\",\"High\",\"Moderate\",\"Low\",\"High\",\"Low\",\"High\",\"Low\",\"Moderate\",\"Low\",\"Moderate\",\"Moderate\",\"Low\",\"Moderate\",\"High\",\"Low\",\"High\",\"Low\",\"Low\",\"Moderate\",\"Low\",\"Low\",\"High\",\"Low\",\"High\",\"Moderate\",\"Low\",\"High\",\"High\",\"High\",\"High\",\"High\",\"High\",\"Moderate\",\"Low\",\"High\",\"Low\",\"High\",\"Low\",\"Low\",\"High\",\"High\",\"High\",\"Moderate\",\"Moderate\",\"High\",\"Low\",\"Low\",\"Moderate\",\"Moderate\",\"High\",\"High\",\"High\",\"Low\",\"Low\"],\"xaxis\":\"x\",\"y\":[\"Moderate\",\"High\",\"High\",\"Low\",\"Low\",\"Moderate\",\"High\",\"Moderate\",\"High\",\"High\",\"Low\",\"High\",\"High\",\"Low\",\"Low\",\"Moderate\",\"Moderate\",\"Moderate\",\"Moderate\",\"Moderate\",\"Moderate\",\"Moderate\",\"Moderate\",\"Moderate\",\"Low\",\"Low\",\"Low\",\"High\",\"Low\",\"Moderate\",\"Moderate\",\"Moderate\",\"Low\",\"Moderate\",\"Moderate\",\"Low\",\"Low\",\"Moderate\",\"Moderate\",\"High\",\"Low\",\"Moderate\",\"Low\",\"High\",\"Low\",\"Low\",\"High\",\"Low\",\"High\",\"Moderate\",\"Low\",\"Moderate\",\"Moderate\",\"High\",\"High\",\"Moderate\",\"Low\",\"Low\",\"Moderate\",\"High\",\"Low\",\"Low\",\"Moderate\",\"Moderate\",\"Moderate\",\"High\",\"Low\",\"Low\",\"Moderate\",\"High\",\"High\",\"Moderate\",\"Low\",\"Moderate\",\"Low\",\"Moderate\",\"Moderate\",\"Moderate\",\"Moderate\",\"High\",\"Moderate\",\"Moderate\",\"Moderate\",\"Moderate\",\"Moderate\",\"High\",\"High\",\"Moderate\",\"Moderate\",\"High\",\"Low\",\"Moderate\",\"Low\",\"Moderate\",\"Moderate\",\"Low\",\"High\",\"Moderate\",\"Moderate\",\"Low\",\"High\",\"Low\",\"Moderate\",\"Low\",\"Low\",\"High\",\"Moderate\",\"High\",\"Low\",\"High\",\"Moderate\",\"Low\",\"Moderate\",\"High\",\"Moderate\",\"Low\",\"Low\",\"High\",\"High\",\"Low\",\"High\",\"Moderate\",\"Moderate\",\"Low\",\"High\",\"Moderate\",\"Low\",\"Moderate\",\"Low\",\"Low\",\"High\",\"High\",\"Low\",\"High\",\"Low\",\"Low\",\"Moderate\",\"High\",\"High\",\"Moderate\",\"High\",\"Moderate\",\"Low\",\"Low\",\"Moderate\",\"Low\",\"Moderate\",\"Low\",\"Moderate\",\"Low\",\"Moderate\",\"Moderate\",\"Low\",\"Moderate\",\"High\",\"Moderate\",\"Low\",\"Moderate\",\"Low\",\"Moderate\",\"High\",\"Low\",\"Moderate\",\"High\",\"Moderate\",\"High\",\"Moderate\",\"High\",\"Low\",\"Moderate\",\"High\",\"High\",\"Low\",\"High\",\"High\",\"Low\",\"High\",\"Low\",\"Moderate\",\"Moderate\",\"Low\",\"High\",\"High\",\"Moderate\",\"Low\",\"Low\",\"Moderate\",\"High\",\"High\",\"Low\",\"Low\",\"Low\",\"High\",\"Low\",\"High\",\"Low\",\"Moderate\",\"Moderate\",\"High\",\"Low\",\"Low\",\"Moderate\",\"Low\",\"Moderate\",\"High\",\"Low\",\"Moderate\",\"High\",\"Low\",\"High\",\"High\",\"Low\",\"Moderate\",\"High\",\"High\",\"High\",\"Moderate\",\"Moderate\",\"High\",\"Low\",\"Moderate\",\"Moderate\",\"Moderate\",\"Low\",\"Low\",\"High\",\"High\",\"Moderate\",\"Low\",\"Low\",\"High\",\"High\",\"Low\",\"Moderate\",\"Low\",\"Moderate\",\"Low\",\"Low\",\"Low\",\"Low\",\"Moderate\",\"High\",\"Low\",\"High\",\"Low\",\"High\",\"Moderate\",\"Low\",\"Moderate\",\"Low\",\"Low\",\"Low\",\"Low\",\"Moderate\",\"High\",\"High\",\"High\",\"Moderate\",\"Moderate\",\"Moderate\",\"Moderate\",\"High\",\"Low\",\"Moderate\",\"Moderate\",\"Moderate\",\"High\",\"Moderate\",\"Moderate\",\"High\",\"Low\",\"Low\",\"Low\",\"High\",\"High\",\"Moderate\",\"High\",\"Moderate\",\"High\",\"Moderate\",\"High\",\"High\",\"High\",\"High\",\"Low\",\"Low\",\"Low\",\"Low\",\"Low\",\"High\",\"Moderate\",\"Moderate\",\"High\",\"Low\",\"High\",\"High\",\"Moderate\",\"Low\",\"Moderate\",\"High\",\"Low\",\"Low\",\"Moderate\",\"Low\",\"Moderate\",\"High\",\"Moderate\",\"Moderate\",\"Low\",\"High\",\"High\",\"High\",\"Low\",\"Moderate\",\"High\",\"Moderate\",\"Moderate\",\"Moderate\",\"Moderate\",\"Low\",\"High\",\"Moderate\",\"Low\",\"Low\",\"Low\",\"High\",\"Moderate\",\"Low\",\"Moderate\",\"Moderate\",\"High\",\"Low\",\"High\",\"Low\",\"Moderate\",\"High\",\"Moderate\",\"Low\",\"Low\",\"Moderate\",\"High\",\"Low\",\"High\",\"Moderate\",\"High\",\"Moderate\",\"Low\",\"Low\",\"High\",\"Low\",\"Low\",\"High\",\"Low\",\"High\",\"Moderate\",\"Low\",\"Low\",\"High\",\"High\",\"High\",\"Low\",\"Moderate\",\"High\",\"Moderate\",\"Low\",\"Moderate\",\"Low\",\"High\",\"Moderate\",\"High\",\"Low\",\"Low\",\"Moderate\",\"Moderate\",\"Low\",\"Low\",\"High\",\"Low\",\"High\",\"High\",\"Low\",\"Low\",\"High\",\"High\",\"High\",\"Low\",\"Moderate\",\"Low\",\"Low\",\"High\",\"Moderate\",\"Moderate\",\"Low\",\"High\",\"Moderate\",\"Moderate\",\"Low\",\"Moderate\",\"High\",\"Low\",\"Low\",\"Moderate\",\"High\",\"Moderate\",\"Moderate\",\"Moderate\",\"Moderate\",\"Moderate\",\"Low\",\"High\",\"Low\",\"High\",\"Low\",\"High\",\"Moderate\",\"Moderate\",\"Low\",\"Moderate\",\"High\",\"Low\",\"Moderate\",\"Low\",\"Moderate\",\"Low\",\"High\",\"Moderate\",\"Moderate\",\"High\",\"Low\",\"High\",\"Low\",\"Low\",\"Moderate\",\"Moderate\",\"Low\",\"High\",\"Moderate\",\"High\",\"Moderate\",\"High\",\"Low\",\"Low\",\"High\",\"Moderate\",\"High\",\"Low\",\"Low\",\"High\",\"Moderate\",\"Low\",\"High\",\"High\",\"Low\",\"Low\",\"High\",\"Moderate\",\"High\",\"High\",\"High\",\"High\",\"High\",\"Low\",\"Low\",\"Moderate\",\"Low\",\"Low\",\"Low\",\"Moderate\",\"Moderate\",\"High\",\"Low\",\"Low\",\"Moderate\",\"High\",\"High\",\"Low\",\"Moderate\",\"Moderate\",\"Moderate\",\"Low\",\"Moderate\",\"Low\",\"Low\",\"High\",\"Low\",\"Moderate\",\"Moderate\",\"Moderate\",\"Low\",\"Low\",\"High\",\"Low\",\"Low\",\"Low\",\"Low\",\"Low\",\"Moderate\",\"Low\",\"High\",\"Low\",\"Moderate\",\"High\",\"Low\",\"Low\",\"High\",\"Moderate\",\"High\",\"Low\",\"Low\",\"High\",\"Low\",\"Moderate\",\"High\",\"High\",\"High\",\"High\",\"Low\",\"Moderate\",\"High\",\"High\",\"Moderate\",\"High\",\"High\",\"High\",\"Moderate\",\"High\",\"High\",\"Low\",\"High\",\"Moderate\",\"Low\",\"Moderate\",\"Moderate\",\"Moderate\",\"Low\",\"High\",\"Low\",\"Moderate\",\"Low\",\"Moderate\",\"Low\",\"Moderate\",\"High\",\"High\",\"Low\",\"Low\",\"Low\",\"High\",\"Moderate\",\"High\",\"High\",\"High\",\"Moderate\",\"Low\",\"High\",\"Moderate\",\"Moderate\",\"Moderate\",\"Low\",\"Moderate\",\"High\",\"Low\",\"Moderate\",\"Low\",\"Low\",\"High\",\"Low\",\"Moderate\",\"Moderate\",\"High\",\"Moderate\",\"Moderate\",\"High\",\"High\",\"Moderate\",\"Moderate\",\"High\",\"Low\",\"Low\",\"High\",\"High\",\"Moderate\",\"Moderate\",\"High\",\"High\",\"Low\",\"High\",\"Low\",\"Low\",\"High\",\"Moderate\",\"Moderate\",\"Low\",\"Moderate\",\"Moderate\",\"Low\",\"Low\",\"High\",\"Moderate\",\"Moderate\",\"Low\",\"Low\",\"Low\",\"High\",\"Moderate\",\"High\",\"Low\",\"Low\",\"Moderate\",\"High\",\"Low\",\"High\",\"Moderate\",\"Low\",\"Moderate\",\"Moderate\",\"Low\",\"Low\",\"Low\",\"Moderate\",\"High\",\"Low\",\"High\",\"Low\",\"Moderate\",\"High\",\"Low\",\"Moderate\",\"High\",\"Moderate\",\"Low\",\"High\",\"Low\",\"Moderate\",\"Low\",\"Moderate\",\"Low\",\"Moderate\",\"Moderate\",\"High\",\"Low\",\"High\",\"High\",\"Low\",\"Low\",\"High\",\"Moderate\",\"Low\",\"Low\",\"Low\",\"Moderate\",\"High\",\"High\",\"High\",\"Low\",\"Moderate\",\"Moderate\",\"Low\",\"Low\",\"High\",\"Low\",\"High\",\"High\",\"Moderate\",\"High\",\"Moderate\",\"High\",\"High\",\"High\",\"Moderate\",\"Low\",\"High\",\"Moderate\",\"Moderate\",\"High\",\"Low\",\"Low\",\"Moderate\",\"High\",\"Low\",\"Low\",\"High\",\"High\",\"Moderate\",\"High\",\"High\",\"Moderate\",\"High\",\"High\",\"Low\",\"Moderate\",\"High\",\"High\",\"High\",\"Low\",\"Low\",\"Moderate\",\"Low\",\"Moderate\",\"High\",\"Low\",\"High\",\"Moderate\",\"Moderate\",\"Moderate\",\"Moderate\",\"Low\",\"Moderate\",\"High\",\"Low\",\"Low\",\"Low\",\"Low\",\"High\",\"High\",\"Low\",\"High\",\"High\",\"High\",\"Low\",\"Moderate\",\"Moderate\",\"Moderate\",\"High\",\"Low\",\"High\",\"High\",\"Low\",\"Moderate\",\"High\",\"High\",\"Low\",\"High\",\"High\",\"Low\",\"Low\",\"Moderate\",\"Moderate\",\"Low\",\"Low\",\"Low\",\"Low\",\"High\",\"Moderate\",\"Moderate\",\"Moderate\",\"Moderate\",\"Low\",\"Moderate\",\"Moderate\",\"Moderate\",\"Moderate\",\"Moderate\",\"Low\",\"High\",\"High\",\"Low\",\"High\",\"Low\",\"Low\",\"High\",\"High\",\"Moderate\",\"Moderate\",\"High\",\"Moderate\",\"Moderate\",\"Low\",\"High\",\"Moderate\",\"Low\",\"Low\",\"Low\",\"High\",\"Low\",\"Low\",\"High\",\"Moderate\",\"Moderate\",\"Low\",\"Low\",\"Moderate\",\"High\",\"Moderate\",\"Moderate\",\"Moderate\"],\"yaxis\":\"y\",\"type\":\"scattergl\"},{\"hovertemplate\":\"Gender=Female\\u003cbr\\u003eNivel de ejercicio=%{x}\\u003cbr\\u003eNivel de estrés=%{y}\\u003cextra\\u003e\\u003c\\u002fextra\\u003e\",\"legendgroup\":\"Female\",\"marker\":{\"color\":\"#00cc96\",\"symbol\":\"circle\"},\"mode\":\"markers\",\"name\":\"Female\",\"showlegend\":true,\"x\":[\"Moderate\",\"Moderate\",\"Low\",\"Moderate\",\"Moderate\",\"Low\",\"Moderate\",\"Moderate\",\"Moderate\",\"Moderate\",\"Low\",\"Moderate\",\"High\",\"Low\",\"Moderate\",\"Moderate\",\"Low\",\"Low\",\"Low\",\"Low\",\"Moderate\",\"Moderate\",\"High\",\"Low\",\"Moderate\",\"Moderate\",\"Moderate\",\"High\",\"Low\",\"High\",\"Moderate\",\"Low\",\"High\",\"Moderate\",\"High\",\"High\",\"High\",\"Moderate\",\"Low\",\"Low\",\"Low\",\"Moderate\",\"Low\",\"Low\",\"High\",\"Low\",\"High\",\"Moderate\",\"Moderate\",\"Moderate\",\"High\",\"Low\",\"Moderate\",\"Low\",\"Moderate\",\"Moderate\",\"Moderate\",\"Moderate\",\"Moderate\",\"Low\",\"High\",\"Moderate\",\"High\",\"Moderate\",\"High\",\"Low\",\"High\",\"Low\",\"High\",\"Low\",\"Low\",\"Low\",\"Low\",\"High\",\"High\",\"Moderate\",\"Low\",\"High\",\"High\",\"High\",\"High\",\"Moderate\",\"Moderate\",\"Moderate\",\"High\",\"High\",\"Moderate\",\"High\",\"Low\",\"Moderate\",\"High\",\"High\",\"High\",\"Low\",\"Low\",\"Low\",\"Moderate\",\"Moderate\",\"Moderate\",\"Low\",\"Low\",\"Low\",\"High\",\"Moderate\",\"High\",\"Moderate\",\"Low\",\"Moderate\",\"Low\",\"Moderate\",\"Low\",\"Moderate\",\"Moderate\",\"Low\",\"High\",\"Low\",\"Low\",\"Low\",\"Low\",\"Moderate\",\"Moderate\",\"Moderate\",\"High\",\"Low\",\"Low\",\"High\",\"High\",\"High\",\"Moderate\",\"High\",\"Low\",\"High\",\"High\",\"Low\",\"Low\",\"Low\",\"Low\",\"Low\",\"Low\",\"Moderate\",\"Moderate\",\"Low\",\"Moderate\",\"High\",\"Moderate\",\"Moderate\",\"Moderate\",\"High\",\"High\",\"Low\",\"High\",\"High\",\"High\",\"High\",\"High\",\"Low\",\"Moderate\",\"High\",\"High\",\"High\",\"High\",\"Moderate\",\"High\",\"Moderate\",\"Moderate\",\"High\",\"High\",\"High\",\"Moderate\",\"Low\",\"Moderate\",\"Moderate\",\"Moderate\",\"Moderate\",\"Low\",\"Moderate\",\"Low\",\"Moderate\",\"Moderate\",\"High\",\"Moderate\",\"Low\",\"Low\",\"Low\",\"Low\",\"Moderate\",\"High\",\"Moderate\",\"Moderate\",\"Moderate\",\"Moderate\",\"High\",\"High\",\"High\",\"High\",\"High\",\"Low\",\"Moderate\",\"Moderate\",\"Low\",\"High\",\"Moderate\",\"High\",\"Moderate\",\"High\",\"Low\",\"High\",\"Low\",\"Moderate\",\"Moderate\",\"Low\",\"Low\",\"Moderate\",\"High\",\"Low\",\"Low\",\"Moderate\",\"Low\",\"Moderate\",\"Low\",\"High\",\"High\",\"Moderate\",\"High\",\"Moderate\",\"Moderate\",\"Low\",\"Moderate\",\"Moderate\",\"High\",\"Moderate\",\"Low\",\"Low\",\"Low\",\"Moderate\",\"High\",\"Moderate\",\"Moderate\",\"Moderate\",\"Moderate\",\"Moderate\",\"Low\",\"High\",\"High\",\"High\",\"Low\",\"Moderate\",\"Low\",\"Low\",\"High\",\"Low\",\"Low\",\"High\",\"High\",\"Moderate\",\"High\",\"Moderate\",\"Moderate\",\"Moderate\",\"High\",\"High\",\"Moderate\",\"Low\",\"High\",\"Low\",\"High\",\"Moderate\",\"Moderate\",\"High\",\"Low\",\"Low\",\"Moderate\",\"High\",\"Moderate\",\"Moderate\",\"Moderate\",\"High\",\"Moderate\",\"High\",\"High\",\"High\",\"Low\",\"High\",\"High\",\"High\",\"High\",\"Moderate\",\"High\",\"High\",\"Moderate\",\"Low\",\"Low\",\"Moderate\",\"High\",\"High\",\"Moderate\",\"High\",\"High\",\"Low\",\"High\",\"High\",\"Moderate\",\"High\",\"Moderate\",\"High\",\"High\",\"Low\",\"High\",\"Moderate\",\"Low\",\"High\",\"Moderate\",\"Low\",\"Low\",\"Low\",\"Low\",\"High\",\"Moderate\",\"Low\",\"Low\",\"Low\",\"Low\",\"Low\",\"Low\",\"Low\",\"Moderate\",\"Low\",\"Moderate\",\"Low\",\"Low\",\"High\",\"High\",\"Low\",\"Low\",\"Low\",\"High\",\"Low\",\"High\",\"High\",\"High\",\"Moderate\",\"Low\",\"Low\",\"Moderate\",\"Low\",\"Low\",\"High\",\"Moderate\",\"Low\",\"High\",\"Low\",\"High\",\"Low\",\"Moderate\",\"Moderate\",\"Low\",\"Moderate\",\"Moderate\",\"Moderate\",\"Moderate\",\"Moderate\",\"Moderate\",\"Low\",\"High\",\"Moderate\",\"Low\",\"Low\",\"High\",\"High\",\"High\",\"Moderate\",\"Moderate\",\"High\",\"Low\",\"Moderate\",\"Moderate\",\"Low\",\"High\",\"Low\",\"Moderate\",\"Moderate\",\"High\",\"Low\",\"High\",\"Low\",\"Low\",\"Moderate\",\"Moderate\",\"Low\",\"Moderate\",\"Moderate\",\"Moderate\",\"High\",\"Low\",\"Moderate\",\"High\",\"Low\",\"High\",\"Low\",\"Low\",\"Moderate\",\"Low\",\"High\",\"High\",\"Moderate\",\"Moderate\",\"High\",\"Low\",\"High\",\"High\",\"Moderate\",\"Moderate\",\"Low\",\"Moderate\",\"Moderate\",\"High\",\"Low\",\"Moderate\",\"Moderate\",\"High\",\"Low\",\"Low\",\"Moderate\",\"High\",\"Low\",\"Low\",\"Moderate\",\"Moderate\",\"Low\",\"Moderate\",\"High\",\"Low\",\"Low\",\"Low\",\"High\",\"Moderate\",\"High\",\"Moderate\",\"Moderate\",\"Low\",\"High\",\"High\",\"Low\",\"Moderate\",\"High\",\"High\",\"High\",\"High\",\"High\",\"Low\",\"Low\",\"Moderate\",\"Moderate\",\"High\",\"Low\",\"Low\",\"Moderate\",\"Low\",\"Moderate\",\"Moderate\",\"Moderate\",\"High\",\"Moderate\",\"Moderate\",\"High\",\"Low\",\"Moderate\",\"High\",\"Moderate\",\"Moderate\",\"Low\",\"High\",\"Low\",\"Moderate\",\"High\",\"Moderate\",\"Low\",\"Low\",\"High\",\"Low\",\"Moderate\",\"Moderate\",\"Low\",\"Moderate\",\"Moderate\",\"Moderate\",\"High\",\"Moderate\",\"Low\",\"Low\",\"High\",\"High\",\"Low\",\"Moderate\",\"High\",\"Moderate\",\"High\",\"High\",\"High\",\"Moderate\",\"Moderate\",\"Moderate\",\"Low\",\"High\",\"Low\",\"Moderate\",\"High\",\"Moderate\",\"Low\",\"High\",\"Low\",\"Low\",\"High\",\"Low\",\"High\",\"High\",\"Low\",\"High\",\"Low\",\"High\",\"Low\",\"Moderate\",\"High\",\"High\",\"Low\",\"High\",\"Moderate\",\"Moderate\",\"Low\",\"High\",\"High\",\"Moderate\",\"Low\",\"Low\",\"High\",\"Low\",\"High\",\"Low\",\"Moderate\",\"Low\",\"Low\",\"Low\",\"High\",\"Low\",\"Moderate\",\"Moderate\",\"Low\",\"Moderate\",\"High\",\"Moderate\",\"High\",\"Low\",\"Moderate\",\"High\",\"Low\",\"Moderate\",\"High\",\"Low\",\"High\",\"High\",\"Low\",\"Low\",\"Low\",\"Moderate\",\"Moderate\",\"Moderate\",\"Moderate\",\"High\",\"Moderate\",\"Moderate\",\"High\",\"Moderate\",\"High\",\"Low\",\"Low\",\"Moderate\",\"Moderate\",\"Moderate\",\"Moderate\",\"High\",\"High\",\"High\",\"Moderate\",\"High\",\"High\",\"Moderate\",\"Low\",\"Moderate\",\"Moderate\",\"Low\",\"High\",\"High\",\"Moderate\",\"Moderate\",\"Low\",\"Low\",\"High\",\"Low\",\"Moderate\",\"High\",\"Low\",\"High\",\"Low\",\"Low\",\"Moderate\",\"High\",\"Moderate\",\"Moderate\",\"High\",\"Moderate\",\"High\",\"High\",\"High\",\"Low\",\"High\",\"Low\",\"High\",\"Low\",\"Low\",\"Low\",\"Moderate\",\"High\",\"Low\",\"High\",\"Moderate\",\"Low\",\"Low\",\"Moderate\",\"High\",\"Moderate\",\"Low\",\"High\",\"Moderate\",\"Moderate\",\"Low\",\"High\",\"High\",\"Low\",\"Low\",\"Low\",\"Low\",\"Low\",\"High\",\"Moderate\",\"Low\",\"Low\",\"Moderate\",\"Low\",\"Moderate\",\"High\",\"Moderate\",\"Low\",\"Low\",\"High\",\"High\",\"Moderate\",\"High\",\"Moderate\",\"High\",\"Low\",\"High\",\"Moderate\",\"High\",\"High\",\"High\",\"Moderate\",\"High\",\"Moderate\",\"High\",\"Low\",\"Low\",\"Low\",\"High\",\"High\",\"Moderate\",\"Low\",\"High\",\"High\",\"Low\",\"Moderate\",\"Moderate\",\"Moderate\",\"Moderate\",\"Moderate\",\"High\",\"Moderate\",\"Low\",\"High\",\"Low\",\"Moderate\",\"Moderate\",\"Moderate\",\"Moderate\",\"Low\",\"Moderate\",\"High\",\"Low\",\"High\",\"Moderate\",\"High\",\"Low\",\"Moderate\",\"Low\",\"High\",\"Moderate\",\"High\",\"Low\",\"Moderate\",\"Low\",\"High\",\"High\",\"Low\",\"High\",\"Low\",\"High\",\"Moderate\",\"Low\",\"Low\",\"Low\",\"Low\",\"Moderate\",\"Low\",\"Moderate\",\"High\",\"High\",\"Low\",\"High\",\"High\",\"High\",\"Moderate\",\"Moderate\",\"Low\",\"Low\",\"Moderate\",\"Low\",\"Moderate\",\"Moderate\",\"Moderate\",\"Low\",\"High\",\"Moderate\",\"Moderate\",\"Low\",\"Low\",\"Low\",\"High\",\"Low\",\"High\",\"High\",\"Low\",\"Low\",\"Low\",\"Moderate\",\"High\",\"Moderate\",\"Moderate\",\"Low\",\"Low\",\"Low\",\"Moderate\",\"Low\",\"High\",\"High\",\"Low\",\"Moderate\",\"Moderate\",\"Moderate\",\"Moderate\",\"Low\",\"Low\",\"Moderate\",\"Low\",\"Low\",\"High\",\"Moderate\",\"Low\",\"High\",\"High\",\"Low\",\"High\",\"High\",\"Moderate\",\"High\",\"High\",\"High\",\"Low\",\"High\",\"Moderate\",\"High\",\"Low\",\"Moderate\",\"Low\",\"High\",\"Moderate\",\"High\",\"Low\",\"Moderate\",\"Low\",\"High\",\"Low\",\"Low\",\"Low\",\"Low\",\"Moderate\",\"Low\",\"High\",\"Low\",\"Low\",\"Moderate\",\"Low\",\"Low\",\"High\",\"Moderate\",\"High\",\"Low\",\"High\",\"High\",\"High\",\"Moderate\",\"High\",\"Moderate\",\"Low\",\"Low\",\"Moderate\",\"Moderate\",\"Moderate\",\"High\",\"High\",\"Low\",\"High\",\"Moderate\",\"Low\",\"Moderate\",\"High\"],\"xaxis\":\"x\",\"y\":[\"Low\",\"High\",\"Moderate\",\"High\",\"Moderate\",\"High\",\"High\",\"Moderate\",\"Moderate\",\"High\",\"Moderate\",\"High\",\"High\",\"Low\",\"Moderate\",\"High\",\"High\",\"Low\",\"Moderate\",\"High\",\"High\",\"Low\",\"Low\",\"Low\",\"High\",\"Low\",\"Moderate\",\"Low\",\"High\",\"Low\",\"High\",\"High\",\"High\",\"Low\",\"Low\",\"Low\",\"Moderate\",\"Low\",\"Moderate\",\"High\",\"High\",\"Low\",\"Moderate\",\"High\",\"Low\",\"High\",\"High\",\"Low\",\"Moderate\",\"Low\",\"Moderate\",\"Moderate\",\"Moderate\",\"High\",\"Low\",\"High\",\"Low\",\"High\",\"Moderate\",\"Low\",\"High\",\"Low\",\"Moderate\",\"High\",\"Low\",\"Moderate\",\"High\",\"Low\",\"Moderate\",\"Low\",\"Low\",\"Low\",\"High\",\"Low\",\"High\",\"Low\",\"Low\",\"Moderate\",\"Moderate\",\"Moderate\",\"Low\",\"Moderate\",\"Low\",\"High\",\"Low\",\"Moderate\",\"High\",\"Moderate\",\"High\",\"High\",\"Low\",\"Moderate\",\"High\",\"High\",\"Low\",\"Moderate\",\"Moderate\",\"Low\",\"High\",\"High\",\"Low\",\"Moderate\",\"High\",\"High\",\"Moderate\",\"Moderate\",\"High\",\"High\",\"Low\",\"High\",\"Moderate\",\"Low\",\"Low\",\"High\",\"Moderate\",\"Low\",\"Moderate\",\"Low\",\"High\",\"Low\",\"High\",\"High\",\"Moderate\",\"High\",\"High\",\"High\",\"Moderate\",\"Moderate\",\"High\",\"High\",\"Moderate\",\"Low\",\"High\",\"High\",\"High\",\"Low\",\"Low\",\"Moderate\",\"Low\",\"Low\",\"Low\",\"Moderate\",\"Low\",\"High\",\"Low\",\"High\",\"High\",\"Low\",\"High\",\"Moderate\",\"Moderate\",\"High\",\"Low\",\"Low\",\"Moderate\",\"High\",\"Low\",\"Moderate\",\"Low\",\"High\",\"High\",\"High\",\"Moderate\",\"Low\",\"High\",\"Moderate\",\"High\",\"High\",\"High\",\"High\",\"Low\",\"High\",\"Moderate\",\"High\",\"High\",\"High\",\"High\",\"High\",\"High\",\"Moderate\",\"High\",\"High\",\"Low\",\"Low\",\"Low\",\"High\",\"High\",\"Low\",\"Low\",\"High\",\"Low\",\"Moderate\",\"High\",\"High\",\"Low\",\"Moderate\",\"Low\",\"Low\",\"High\",\"Moderate\",\"Moderate\",\"Moderate\",\"High\",\"High\",\"Low\",\"High\",\"High\",\"Moderate\",\"Low\",\"Low\",\"Low\",\"High\",\"Moderate\",\"Low\",\"Low\",\"High\",\"Moderate\",\"Moderate\",\"Low\",\"Moderate\",\"High\",\"Low\",\"Low\",\"Low\",\"Low\",\"High\",\"Low\",\"Moderate\",\"Moderate\",\"Low\",\"Low\",\"Low\",\"High\",\"High\",\"Low\",\"Low\",\"High\",\"Moderate\",\"High\",\"Low\",\"Low\",\"Moderate\",\"Moderate\",\"High\",\"High\",\"Low\",\"Moderate\",\"Moderate\",\"Moderate\",\"Low\",\"Low\",\"Low\",\"High\",\"Low\",\"Moderate\",\"High\",\"Moderate\",\"Moderate\",\"Moderate\",\"High\",\"Low\",\"Moderate\",\"Low\",\"Low\",\"Low\",\"High\",\"Low\",\"Low\",\"Low\",\"Moderate\",\"High\",\"Low\",\"Low\",\"Low\",\"High\",\"Moderate\",\"Moderate\",\"Moderate\",\"High\",\"High\",\"Low\",\"Moderate\",\"Moderate\",\"Low\",\"High\",\"Low\",\"High\",\"Moderate\",\"Moderate\",\"Low\",\"Low\",\"Moderate\",\"Low\",\"High\",\"High\",\"High\",\"High\",\"Moderate\",\"Moderate\",\"Moderate\",\"Moderate\",\"Moderate\",\"Moderate\",\"Low\",\"Low\",\"Moderate\",\"Moderate\",\"Low\",\"Moderate\",\"Low\",\"Low\",\"Moderate\",\"Moderate\",\"Low\",\"Low\",\"Moderate\",\"Low\",\"Low\",\"High\",\"Moderate\",\"High\",\"High\",\"Low\",\"Moderate\",\"High\",\"Low\",\"Low\",\"High\",\"Moderate\",\"Moderate\",\"High\",\"Low\",\"Low\",\"High\",\"Low\",\"High\",\"Low\",\"High\",\"Low\",\"High\",\"High\",\"High\",\"Low\",\"High\",\"High\",\"Low\",\"High\",\"Moderate\",\"Moderate\",\"Low\",\"Moderate\",\"High\",\"Moderate\",\"Low\",\"Low\",\"Low\",\"High\",\"High\",\"Low\",\"Low\",\"High\",\"Low\",\"Moderate\",\"High\",\"High\",\"Low\",\"Low\",\"Low\",\"Low\",\"High\",\"High\",\"Low\",\"Low\",\"High\",\"High\",\"Moderate\",\"Moderate\",\"Low\",\"Moderate\",\"High\",\"Moderate\",\"High\",\"Low\",\"High\",\"Low\",\"Low\",\"Moderate\",\"Moderate\",\"Moderate\",\"Moderate\",\"Low\",\"Moderate\",\"Low\",\"High\",\"High\",\"High\",\"High\",\"Moderate\",\"Low\",\"Low\",\"Moderate\",\"Low\",\"High\",\"Moderate\",\"High\",\"Low\",\"High\",\"Moderate\",\"Moderate\",\"High\",\"High\",\"Low\",\"Low\",\"High\",\"Moderate\",\"Low\",\"Low\",\"Moderate\",\"Moderate\",\"Low\",\"Low\",\"High\",\"Moderate\",\"High\",\"Low\",\"Low\",\"Low\",\"High\",\"Moderate\",\"High\",\"High\",\"Low\",\"Low\",\"Low\",\"High\",\"Moderate\",\"Moderate\",\"Low\",\"High\",\"Low\",\"Low\",\"High\",\"High\",\"High\",\"Low\",\"High\",\"High\",\"Moderate\",\"High\",\"High\",\"High\",\"Moderate\",\"Moderate\",\"Low\",\"High\",\"High\",\"Low\",\"Low\",\"Low\",\"Moderate\",\"Moderate\",\"Moderate\",\"Low\",\"High\",\"Moderate\",\"High\",\"High\",\"High\",\"Low\",\"Low\",\"Moderate\",\"Low\",\"Moderate\",\"High\",\"Moderate\",\"Low\",\"Moderate\",\"High\",\"Low\",\"Low\",\"Moderate\",\"Low\",\"High\",\"High\",\"Moderate\",\"Moderate\",\"Low\",\"High\",\"High\",\"Moderate\",\"Low\",\"Low\",\"Moderate\",\"Low\",\"High\",\"Moderate\",\"Low\",\"High\",\"Moderate\",\"High\",\"Low\",\"High\",\"High\",\"Moderate\",\"Moderate\",\"High\",\"High\",\"High\",\"Moderate\",\"High\",\"Low\",\"Moderate\",\"Moderate\",\"Low\",\"Low\",\"Low\",\"Low\",\"Low\",\"Low\",\"Low\",\"Low\",\"Moderate\",\"High\",\"Moderate\",\"Low\",\"Low\",\"High\",\"Moderate\",\"Moderate\",\"High\",\"Low\",\"High\",\"Moderate\",\"High\",\"High\",\"Moderate\",\"Low\",\"High\",\"High\",\"Moderate\",\"Low\",\"Low\",\"Moderate\",\"Moderate\",\"High\",\"High\",\"Low\",\"High\",\"Moderate\",\"High\",\"High\",\"Moderate\",\"Low\",\"High\",\"High\",\"High\",\"High\",\"Low\",\"Moderate\",\"Moderate\",\"High\",\"Low\",\"Low\",\"Moderate\",\"High\",\"High\",\"High\",\"Low\",\"Low\",\"Low\",\"Low\",\"High\",\"Low\",\"Low\",\"High\",\"Low\",\"Low\",\"Moderate\",\"Low\",\"Low\",\"High\",\"High\",\"Low\",\"Moderate\",\"Moderate\",\"Low\",\"High\",\"Low\",\"High\",\"High\",\"High\",\"Low\",\"High\",\"High\",\"Moderate\",\"Moderate\",\"High\",\"Moderate\",\"Low\",\"Low\",\"Low\",\"Moderate\",\"Low\",\"High\",\"Low\",\"High\",\"High\",\"Low\",\"Moderate\",\"High\",\"Low\",\"Moderate\",\"High\",\"Moderate\",\"High\",\"Moderate\",\"Moderate\",\"Moderate\",\"Low\",\"Moderate\",\"Moderate\",\"Low\",\"Moderate\",\"Moderate\",\"Moderate\",\"High\",\"Moderate\",\"Low\",\"Low\",\"Low\",\"High\",\"Moderate\",\"Low\",\"High\",\"Low\",\"Moderate\",\"High\",\"Low\",\"Low\",\"High\",\"Moderate\",\"Low\",\"High\",\"Low\",\"Low\",\"High\",\"High\",\"High\",\"High\",\"Low\",\"High\",\"Moderate\",\"High\",\"Moderate\",\"Low\",\"High\",\"Moderate\",\"High\",\"Moderate\",\"Moderate\",\"Moderate\",\"Low\",\"Low\",\"High\",\"High\",\"Moderate\",\"High\",\"Moderate\",\"Moderate\",\"High\",\"Moderate\",\"Moderate\",\"High\",\"Low\",\"High\",\"Low\",\"Moderate\",\"Low\",\"Low\",\"Moderate\",\"High\",\"Low\",\"High\",\"High\",\"Low\",\"Low\",\"Moderate\",\"Moderate\",\"Moderate\",\"Moderate\",\"Low\",\"High\",\"High\",\"Low\",\"Moderate\",\"Low\",\"Moderate\",\"Moderate\",\"Low\",\"Moderate\",\"Moderate\",\"Low\",\"Low\",\"Low\",\"Low\",\"Low\",\"High\",\"High\",\"Low\",\"Low\",\"High\",\"Low\",\"Moderate\",\"Moderate\",\"High\",\"Low\",\"Low\",\"Moderate\",\"Moderate\",\"High\",\"High\",\"Low\",\"Low\",\"Moderate\",\"Moderate\",\"Moderate\",\"Low\",\"High\",\"Moderate\",\"High\",\"Moderate\",\"Low\",\"Moderate\",\"High\",\"Low\",\"Low\",\"Moderate\",\"Low\",\"Moderate\",\"Moderate\",\"High\",\"High\",\"High\",\"High\",\"Moderate\",\"Low\",\"Low\",\"High\",\"High\",\"High\",\"High\",\"High\",\"Moderate\",\"High\",\"Low\",\"Moderate\",\"Low\",\"Moderate\",\"Moderate\",\"Low\",\"Moderate\",\"High\",\"Moderate\",\"Low\",\"High\",\"Moderate\",\"Moderate\",\"Moderate\",\"High\",\"Low\",\"Low\",\"Low\",\"High\",\"Moderate\",\"High\",\"Low\",\"Low\",\"Moderate\",\"High\",\"Moderate\",\"Low\",\"Low\",\"High\",\"Moderate\",\"High\",\"Moderate\",\"High\",\"Moderate\",\"High\",\"High\",\"High\",\"Low\",\"High\",\"Moderate\",\"Low\",\"Low\",\"Moderate\",\"Moderate\",\"High\",\"High\",\"Moderate\",\"High\",\"Moderate\",\"Low\",\"Moderate\",\"Moderate\",\"Low\",\"Low\",\"Low\",\"Moderate\",\"Moderate\",\"Low\",\"Low\",\"Moderate\",\"Low\",\"Moderate\",\"Moderate\",\"Moderate\",\"Low\",\"High\",\"Low\",\"High\",\"High\",\"Low\",\"High\",\"Moderate\",\"Low\",\"Low\",\"Low\",\"Low\",\"Moderate\",\"Moderate\",\"High\",\"High\"],\"yaxis\":\"y\",\"type\":\"scattergl\"}],                        {\"template\":{\"data\":{\"histogram2dcontour\":[{\"type\":\"histogram2dcontour\",\"colorbar\":{\"outlinewidth\":0,\"ticks\":\"\"},\"colorscale\":[[0.0,\"#0d0887\"],[0.1111111111111111,\"#46039f\"],[0.2222222222222222,\"#7201a8\"],[0.3333333333333333,\"#9c179e\"],[0.4444444444444444,\"#bd3786\"],[0.5555555555555556,\"#d8576b\"],[0.6666666666666666,\"#ed7953\"],[0.7777777777777778,\"#fb9f3a\"],[0.8888888888888888,\"#fdca26\"],[1.0,\"#f0f921\"]]}],\"choropleth\":[{\"type\":\"choropleth\",\"colorbar\":{\"outlinewidth\":0,\"ticks\":\"\"}}],\"histogram2d\":[{\"type\":\"histogram2d\",\"colorbar\":{\"outlinewidth\":0,\"ticks\":\"\"},\"colorscale\":[[0.0,\"#0d0887\"],[0.1111111111111111,\"#46039f\"],[0.2222222222222222,\"#7201a8\"],[0.3333333333333333,\"#9c179e\"],[0.4444444444444444,\"#bd3786\"],[0.5555555555555556,\"#d8576b\"],[0.6666666666666666,\"#ed7953\"],[0.7777777777777778,\"#fb9f3a\"],[0.8888888888888888,\"#fdca26\"],[1.0,\"#f0f921\"]]}],\"heatmap\":[{\"type\":\"heatmap\",\"colorbar\":{\"outlinewidth\":0,\"ticks\":\"\"},\"colorscale\":[[0.0,\"#0d0887\"],[0.1111111111111111,\"#46039f\"],[0.2222222222222222,\"#7201a8\"],[0.3333333333333333,\"#9c179e\"],[0.4444444444444444,\"#bd3786\"],[0.5555555555555556,\"#d8576b\"],[0.6666666666666666,\"#ed7953\"],[0.7777777777777778,\"#fb9f3a\"],[0.8888888888888888,\"#fdca26\"],[1.0,\"#f0f921\"]]}],\"heatmapgl\":[{\"type\":\"heatmapgl\",\"colorbar\":{\"outlinewidth\":0,\"ticks\":\"\"},\"colorscale\":[[0.0,\"#0d0887\"],[0.1111111111111111,\"#46039f\"],[0.2222222222222222,\"#7201a8\"],[0.3333333333333333,\"#9c179e\"],[0.4444444444444444,\"#bd3786\"],[0.5555555555555556,\"#d8576b\"],[0.6666666666666666,\"#ed7953\"],[0.7777777777777778,\"#fb9f3a\"],[0.8888888888888888,\"#fdca26\"],[1.0,\"#f0f921\"]]}],\"contourcarpet\":[{\"type\":\"contourcarpet\",\"colorbar\":{\"outlinewidth\":0,\"ticks\":\"\"}}],\"contour\":[{\"type\":\"contour\",\"colorbar\":{\"outlinewidth\":0,\"ticks\":\"\"},\"colorscale\":[[0.0,\"#0d0887\"],[0.1111111111111111,\"#46039f\"],[0.2222222222222222,\"#7201a8\"],[0.3333333333333333,\"#9c179e\"],[0.4444444444444444,\"#bd3786\"],[0.5555555555555556,\"#d8576b\"],[0.6666666666666666,\"#ed7953\"],[0.7777777777777778,\"#fb9f3a\"],[0.8888888888888888,\"#fdca26\"],[1.0,\"#f0f921\"]]}],\"surface\":[{\"type\":\"surface\",\"colorbar\":{\"outlinewidth\":0,\"ticks\":\"\"},\"colorscale\":[[0.0,\"#0d0887\"],[0.1111111111111111,\"#46039f\"],[0.2222222222222222,\"#7201a8\"],[0.3333333333333333,\"#9c179e\"],[0.4444444444444444,\"#bd3786\"],[0.5555555555555556,\"#d8576b\"],[0.6666666666666666,\"#ed7953\"],[0.7777777777777778,\"#fb9f3a\"],[0.8888888888888888,\"#fdca26\"],[1.0,\"#f0f921\"]]}],\"mesh3d\":[{\"type\":\"mesh3d\",\"colorbar\":{\"outlinewidth\":0,\"ticks\":\"\"}}],\"scatter\":[{\"fillpattern\":{\"fillmode\":\"overlay\",\"size\":10,\"solidity\":0.2},\"type\":\"scatter\"}],\"parcoords\":[{\"type\":\"parcoords\",\"line\":{\"colorbar\":{\"outlinewidth\":0,\"ticks\":\"\"}}}],\"scatterpolargl\":[{\"type\":\"scatterpolargl\",\"marker\":{\"colorbar\":{\"outlinewidth\":0,\"ticks\":\"\"}}}],\"bar\":[{\"error_x\":{\"color\":\"#2a3f5f\"},\"error_y\":{\"color\":\"#2a3f5f\"},\"marker\":{\"line\":{\"color\":\"#E5ECF6\",\"width\":0.5},\"pattern\":{\"fillmode\":\"overlay\",\"size\":10,\"solidity\":0.2}},\"type\":\"bar\"}],\"scattergeo\":[{\"type\":\"scattergeo\",\"marker\":{\"colorbar\":{\"outlinewidth\":0,\"ticks\":\"\"}}}],\"scatterpolar\":[{\"type\":\"scatterpolar\",\"marker\":{\"colorbar\":{\"outlinewidth\":0,\"ticks\":\"\"}}}],\"histogram\":[{\"marker\":{\"pattern\":{\"fillmode\":\"overlay\",\"size\":10,\"solidity\":0.2}},\"type\":\"histogram\"}],\"scattergl\":[{\"type\":\"scattergl\",\"marker\":{\"colorbar\":{\"outlinewidth\":0,\"ticks\":\"\"}}}],\"scatter3d\":[{\"type\":\"scatter3d\",\"line\":{\"colorbar\":{\"outlinewidth\":0,\"ticks\":\"\"}},\"marker\":{\"colorbar\":{\"outlinewidth\":0,\"ticks\":\"\"}}}],\"scattermapbox\":[{\"type\":\"scattermapbox\",\"marker\":{\"colorbar\":{\"outlinewidth\":0,\"ticks\":\"\"}}}],\"scatterternary\":[{\"type\":\"scatterternary\",\"marker\":{\"colorbar\":{\"outlinewidth\":0,\"ticks\":\"\"}}}],\"scattercarpet\":[{\"type\":\"scattercarpet\",\"marker\":{\"colorbar\":{\"outlinewidth\":0,\"ticks\":\"\"}}}],\"carpet\":[{\"aaxis\":{\"endlinecolor\":\"#2a3f5f\",\"gridcolor\":\"white\",\"linecolor\":\"white\",\"minorgridcolor\":\"white\",\"startlinecolor\":\"#2a3f5f\"},\"baxis\":{\"endlinecolor\":\"#2a3f5f\",\"gridcolor\":\"white\",\"linecolor\":\"white\",\"minorgridcolor\":\"white\",\"startlinecolor\":\"#2a3f5f\"},\"type\":\"carpet\"}],\"table\":[{\"cells\":{\"fill\":{\"color\":\"#EBF0F8\"},\"line\":{\"color\":\"white\"}},\"header\":{\"fill\":{\"color\":\"#C8D4E3\"},\"line\":{\"color\":\"white\"}},\"type\":\"table\"}],\"barpolar\":[{\"marker\":{\"line\":{\"color\":\"#E5ECF6\",\"width\":0.5},\"pattern\":{\"fillmode\":\"overlay\",\"size\":10,\"solidity\":0.2}},\"type\":\"barpolar\"}],\"pie\":[{\"automargin\":true,\"type\":\"pie\"}]},\"layout\":{\"autotypenumbers\":\"strict\",\"colorway\":[\"#636efa\",\"#EF553B\",\"#00cc96\",\"#ab63fa\",\"#FFA15A\",\"#19d3f3\",\"#FF6692\",\"#B6E880\",\"#FF97FF\",\"#FECB52\"],\"font\":{\"color\":\"#2a3f5f\"},\"hovermode\":\"closest\",\"hoverlabel\":{\"align\":\"left\"},\"paper_bgcolor\":\"white\",\"plot_bgcolor\":\"#E5ECF6\",\"polar\":{\"bgcolor\":\"#E5ECF6\",\"angularaxis\":{\"gridcolor\":\"white\",\"linecolor\":\"white\",\"ticks\":\"\"},\"radialaxis\":{\"gridcolor\":\"white\",\"linecolor\":\"white\",\"ticks\":\"\"}},\"ternary\":{\"bgcolor\":\"#E5ECF6\",\"aaxis\":{\"gridcolor\":\"white\",\"linecolor\":\"white\",\"ticks\":\"\"},\"baxis\":{\"gridcolor\":\"white\",\"linecolor\":\"white\",\"ticks\":\"\"},\"caxis\":{\"gridcolor\":\"white\",\"linecolor\":\"white\",\"ticks\":\"\"}},\"coloraxis\":{\"colorbar\":{\"outlinewidth\":0,\"ticks\":\"\"}},\"colorscale\":{\"sequential\":[[0.0,\"#0d0887\"],[0.1111111111111111,\"#46039f\"],[0.2222222222222222,\"#7201a8\"],[0.3333333333333333,\"#9c179e\"],[0.4444444444444444,\"#bd3786\"],[0.5555555555555556,\"#d8576b\"],[0.6666666666666666,\"#ed7953\"],[0.7777777777777778,\"#fb9f3a\"],[0.8888888888888888,\"#fdca26\"],[1.0,\"#f0f921\"]],\"sequentialminus\":[[0.0,\"#0d0887\"],[0.1111111111111111,\"#46039f\"],[0.2222222222222222,\"#7201a8\"],[0.3333333333333333,\"#9c179e\"],[0.4444444444444444,\"#bd3786\"],[0.5555555555555556,\"#d8576b\"],[0.6666666666666666,\"#ed7953\"],[0.7777777777777778,\"#fb9f3a\"],[0.8888888888888888,\"#fdca26\"],[1.0,\"#f0f921\"]],\"diverging\":[[0,\"#8e0152\"],[0.1,\"#c51b7d\"],[0.2,\"#de77ae\"],[0.3,\"#f1b6da\"],[0.4,\"#fde0ef\"],[0.5,\"#f7f7f7\"],[0.6,\"#e6f5d0\"],[0.7,\"#b8e186\"],[0.8,\"#7fbc41\"],[0.9,\"#4d9221\"],[1,\"#276419\"]]},\"xaxis\":{\"gridcolor\":\"white\",\"linecolor\":\"white\",\"ticks\":\"\",\"title\":{\"standoff\":15},\"zerolinecolor\":\"white\",\"automargin\":true,\"zerolinewidth\":2},\"yaxis\":{\"gridcolor\":\"white\",\"linecolor\":\"white\",\"ticks\":\"\",\"title\":{\"standoff\":15},\"zerolinecolor\":\"white\",\"automargin\":true,\"zerolinewidth\":2},\"scene\":{\"xaxis\":{\"backgroundcolor\":\"#E5ECF6\",\"gridcolor\":\"white\",\"linecolor\":\"white\",\"showbackground\":true,\"ticks\":\"\",\"zerolinecolor\":\"white\",\"gridwidth\":2},\"yaxis\":{\"backgroundcolor\":\"#E5ECF6\",\"gridcolor\":\"white\",\"linecolor\":\"white\",\"showbackground\":true,\"ticks\":\"\",\"zerolinecolor\":\"white\",\"gridwidth\":2},\"zaxis\":{\"backgroundcolor\":\"#E5ECF6\",\"gridcolor\":\"white\",\"linecolor\":\"white\",\"showbackground\":true,\"ticks\":\"\",\"zerolinecolor\":\"white\",\"gridwidth\":2}},\"shapedefaults\":{\"line\":{\"color\":\"#2a3f5f\"}},\"annotationdefaults\":{\"arrowcolor\":\"#2a3f5f\",\"arrowhead\":0,\"arrowwidth\":1},\"geo\":{\"bgcolor\":\"white\",\"landcolor\":\"#E5ECF6\",\"subunitcolor\":\"white\",\"showland\":true,\"showlakes\":true,\"lakecolor\":\"white\"},\"title\":{\"x\":0.05},\"mapbox\":{\"style\":\"light\"}}},\"xaxis\":{\"anchor\":\"y\",\"domain\":[0.0,1.0],\"title\":{\"text\":\"Nivel de ejercicio\"}},\"yaxis\":{\"anchor\":\"x\",\"domain\":[0.0,1.0],\"title\":{\"text\":\"Nivel de estrés\"}},\"legend\":{\"title\":{\"text\":\"Gender\"},\"tracegroupgap\":0},\"title\":{\"text\":\"Relación entre nivel de ejercicio y nivel de estrés\"}},                        {\"responsive\": true}                    ).then(function(){\n",
              "                            \n",
              "var gd = document.getElementById('eb664e0a-2306-4ecd-bb99-8cb01fdd4acc');\n",
              "var x = new MutationObserver(function (mutations, observer) {{\n",
              "        var display = window.getComputedStyle(gd).display;\n",
              "        if (!display || display === 'none') {{\n",
              "            console.log([gd, 'removed!']);\n",
              "            Plotly.purge(gd);\n",
              "            observer.disconnect();\n",
              "        }}\n",
              "}});\n",
              "\n",
              "// Listen for the removal of the full notebook cells\n",
              "var notebookContainer = gd.closest('#notebook-container');\n",
              "if (notebookContainer) {{\n",
              "    x.observe(notebookContainer, {childList: true});\n",
              "}}\n",
              "\n",
              "// Listen for the clearing of the current output cell\n",
              "var outputEl = gd.closest('.output');\n",
              "if (outputEl) {{\n",
              "    x.observe(outputEl, {childList: true});\n",
              "}}\n",
              "\n",
              "                        })                };                            </script>        </div>\n",
              "</body>\n",
              "</html>"
            ]
          },
          "metadata": {}
        }
      ]
    },
    {
      "cell_type": "code",
      "source": [
        "# Volver a verificar que no existan espacios:\n",
        "df.columns = df.columns.str.strip()"
      ],
      "metadata": {
        "id": "tq_Lho1KZnJF"
      },
      "execution_count": 60,
      "outputs": []
    },
    {
      "cell_type": "markdown",
      "source": [
        "5. Gráfico de pastel. Distribución de las condiciones de salud mental."
      ],
      "metadata": {
        "id": "ITma-5MlY_b5"
      }
    },
    {
      "cell_type": "code",
      "source": [
        "fig5 = px.pie(\n",
        "    df_clean,\n",
        "    names='Mental Health Condition',\n",
        "    title='Distribución de condiciones de salud mental'\n",
        ")\n",
        "fig5.show()"
      ],
      "metadata": {
        "colab": {
          "base_uri": "https://localhost:8080/",
          "height": 542
        },
        "id": "c_5XZ4RHaLny",
        "outputId": "a9cb3e88-b1dc-4369-b707-94ebc6f1d102"
      },
      "execution_count": 61,
      "outputs": [
        {
          "output_type": "display_data",
          "data": {
            "text/html": [
              "<html>\n",
              "<head><meta charset=\"utf-8\" /></head>\n",
              "<body>\n",
              "    <div>            <script src=\"https://cdnjs.cloudflare.com/ajax/libs/mathjax/2.7.5/MathJax.js?config=TeX-AMS-MML_SVG\"></script><script type=\"text/javascript\">if (window.MathJax && window.MathJax.Hub && window.MathJax.Hub.Config) {window.MathJax.Hub.Config({SVG: {font: \"STIX-Web\"}});}</script>                <script type=\"text/javascript\">window.PlotlyConfig = {MathJaxConfig: 'local'};</script>\n",
              "        <script charset=\"utf-8\" src=\"https://cdn.plot.ly/plotly-2.35.2.min.js\"></script>                <div id=\"cc9abd3a-d79f-4763-98f9-44fa7be40fd3\" class=\"plotly-graph-div\" style=\"height:525px; width:100%;\"></div>            <script type=\"text/javascript\">                                    window.PLOTLYENV=window.PLOTLYENV || {};                                    if (document.getElementById(\"cc9abd3a-d79f-4763-98f9-44fa7be40fd3\")) {                    Plotly.newPlot(                        \"cc9abd3a-d79f-4763-98f9-44fa7be40fd3\",                        [{\"domain\":{\"x\":[0.0,1.0],\"y\":[0.0,1.0]},\"hovertemplate\":\"Mental Health Condition=%{label}\\u003cextra\\u003e\\u003c\\u002fextra\\u003e\",\"labels\":[\"PTSD\",\"Depression\",\"Anxiety\",\"Anxiety\",\"Anxiety\",\"PTSD\",\"Anxiety\",\"PTSD\",\"PTSD\",\"Anxiety\",\"Bipolar\",\"Anxiety\",\"Anxiety\",\"Anxiety\",\"Bipolar\",\"Bipolar\",\"PTSD\",\"Bipolar\",\"PTSD\",\"PTSD\",\"Anxiety\",\"Depression\",\"Depression\",\"Anxiety\",\"PTSD\",\"Anxiety\",\"Bipolar\",\"PTSD\",\"Anxiety\",\"Bipolar\",\"Bipolar\",\"PTSD\",\"Bipolar\",\"Bipolar\",\"Bipolar\",\"Bipolar\",\"Bipolar\",\"Bipolar\",\"Depression\",\"Bipolar\",\"Anxiety\",\"PTSD\",\"Anxiety\",\"Anxiety\",\"Depression\",\"Depression\",\"Bipolar\",\"Depression\",\"PTSD\",\"Depression\",\"PTSD\",\"Anxiety\",\"Bipolar\",\"Bipolar\",\"Anxiety\",\"Depression\",\"Anxiety\",\"PTSD\",\"Depression\",\"Anxiety\",\"Bipolar\",\"Bipolar\",\"Bipolar\",\"Bipolar\",\"Anxiety\",\"Anxiety\",\"Depression\",\"Anxiety\",\"Anxiety\",\"Depression\",\"Depression\",\"Bipolar\",\"Anxiety\",\"PTSD\",\"PTSD\",\"Anxiety\",\"PTSD\",\"Anxiety\",\"Anxiety\",\"PTSD\",\"Anxiety\",\"Depression\",\"Bipolar\",\"PTSD\",\"Bipolar\",\"Depression\",\"Depression\",\"Depression\",\"Depression\",\"PTSD\",\"PTSD\",\"Anxiety\",\"Anxiety\",\"Anxiety\",\"Depression\",\"Bipolar\",\"Bipolar\",\"PTSD\",\"Depression\",\"Anxiety\",\"Anxiety\",\"PTSD\",\"PTSD\",\"Anxiety\",\"Anxiety\",\"Anxiety\",\"Anxiety\",\"Bipolar\",\"Anxiety\",\"Depression\",\"Anxiety\",\"PTSD\",\"Depression\",\"PTSD\",\"Depression\",\"PTSD\",\"Anxiety\",\"Anxiety\",\"Depression\",\"PTSD\",\"Bipolar\",\"Depression\",\"Depression\",\"Depression\",\"Bipolar\",\"Anxiety\",\"PTSD\",\"PTSD\",\"Anxiety\",\"Depression\",\"Bipolar\",\"Bipolar\",\"Bipolar\",\"Bipolar\",\"Bipolar\",\"Anxiety\",\"Bipolar\",\"Bipolar\",\"Anxiety\",\"PTSD\",\"Anxiety\",\"Depression\",\"Anxiety\",\"PTSD\",\"Depression\",\"Depression\",\"Bipolar\",\"Depression\",\"Depression\",\"PTSD\",\"Depression\",\"PTSD\",\"Bipolar\",\"Bipolar\",\"Bipolar\",\"Anxiety\",\"Depression\",\"Depression\",\"Depression\",\"PTSD\",\"Anxiety\",\"Depression\",\"PTSD\",\"PTSD\",\"PTSD\",\"Bipolar\",\"PTSD\",\"Bipolar\",\"Bipolar\",\"PTSD\",\"Depression\",\"PTSD\",\"PTSD\",\"PTSD\",\"Bipolar\",\"Anxiety\",\"Anxiety\",\"Anxiety\",\"Depression\",\"Bipolar\",\"Bipolar\",\"Anxiety\",\"Depression\",\"Depression\",\"Anxiety\",\"Anxiety\",\"Depression\",\"Bipolar\",\"Anxiety\",\"Bipolar\",\"Depression\",\"Anxiety\",\"Anxiety\",\"Depression\",\"Anxiety\",\"Anxiety\",\"Depression\",\"Anxiety\",\"Bipolar\",\"Anxiety\",\"PTSD\",\"PTSD\",\"Depression\",\"Depression\",\"Depression\",\"Bipolar\",\"Bipolar\",\"Anxiety\",\"PTSD\",\"PTSD\",\"PTSD\",\"Anxiety\",\"Anxiety\",\"Depression\",\"Depression\",\"Anxiety\",\"Bipolar\",\"Depression\",\"Anxiety\",\"Anxiety\",\"Bipolar\",\"Bipolar\",\"Bipolar\",\"Anxiety\",\"Bipolar\",\"PTSD\",\"PTSD\",\"PTSD\",\"Anxiety\",\"PTSD\",\"Depression\",\"PTSD\",\"Anxiety\",\"PTSD\",\"PTSD\",\"PTSD\",\"Bipolar\",\"Bipolar\",\"Depression\",\"Anxiety\",\"Anxiety\",\"Anxiety\",\"Depression\",\"Bipolar\",\"Bipolar\",\"Depression\",\"PTSD\",\"Anxiety\",\"Depression\",\"Bipolar\",\"PTSD\",\"Depression\",\"Depression\",\"Depression\",\"Bipolar\",\"Anxiety\",\"PTSD\",\"Anxiety\",\"Bipolar\",\"Anxiety\",\"Depression\",\"Depression\",\"PTSD\",\"Bipolar\",\"PTSD\",\"Depression\",\"PTSD\",\"Anxiety\",\"PTSD\",\"PTSD\",\"Bipolar\",\"Bipolar\",\"Bipolar\",\"Anxiety\",\"Anxiety\",\"Depression\",\"Anxiety\",\"PTSD\",\"Depression\",\"Anxiety\",\"PTSD\",\"Anxiety\",\"PTSD\",\"PTSD\",\"PTSD\",\"PTSD\",\"Anxiety\",\"PTSD\",\"Anxiety\",\"PTSD\",\"Bipolar\",\"Depression\",\"Anxiety\",\"Anxiety\",\"Bipolar\",\"Bipolar\",\"Bipolar\",\"PTSD\",\"Depression\",\"Bipolar\",\"Bipolar\",\"Anxiety\",\"PTSD\",\"Depression\",\"Bipolar\",\"Anxiety\",\"Bipolar\",\"Anxiety\",\"PTSD\",\"Bipolar\",\"Depression\",\"Depression\",\"Depression\",\"PTSD\",\"Anxiety\",\"Depression\",\"Bipolar\",\"Depression\",\"Bipolar\",\"Anxiety\",\"Anxiety\",\"Anxiety\",\"Depression\",\"Bipolar\",\"Anxiety\",\"Anxiety\",\"Bipolar\",\"Depression\",\"Depression\",\"Bipolar\",\"PTSD\",\"Depression\",\"Bipolar\",\"Bipolar\",\"Anxiety\",\"Bipolar\",\"Anxiety\",\"Anxiety\",\"Depression\",\"PTSD\",\"Depression\",\"Anxiety\",\"Anxiety\",\"Bipolar\",\"PTSD\",\"PTSD\",\"Bipolar\",\"PTSD\",\"Anxiety\",\"Depression\",\"Depression\",\"Anxiety\",\"Depression\",\"Anxiety\",\"Bipolar\",\"PTSD\",\"PTSD\",\"Bipolar\",\"Depression\",\"Anxiety\",\"Anxiety\",\"Bipolar\",\"PTSD\",\"Depression\",\"Bipolar\",\"Bipolar\",\"Anxiety\",\"Depression\",\"Anxiety\",\"Depression\",\"PTSD\",\"PTSD\",\"Anxiety\",\"Depression\",\"PTSD\",\"PTSD\",\"Anxiety\",\"Bipolar\",\"Depression\",\"PTSD\",\"Bipolar\",\"Anxiety\",\"Depression\",\"Anxiety\",\"PTSD\",\"PTSD\",\"Bipolar\",\"PTSD\",\"Anxiety\",\"Bipolar\",\"Depression\",\"PTSD\",\"Anxiety\",\"Anxiety\",\"Bipolar\",\"PTSD\",\"PTSD\",\"Bipolar\",\"Anxiety\",\"Anxiety\",\"Bipolar\",\"Depression\",\"PTSD\",\"PTSD\",\"PTSD\",\"Anxiety\",\"Anxiety\",\"Anxiety\",\"PTSD\",\"PTSD\",\"Anxiety\",\"Depression\",\"Anxiety\",\"Bipolar\",\"Depression\",\"Anxiety\",\"Depression\",\"PTSD\",\"Bipolar\",\"PTSD\",\"Depression\",\"Anxiety\",\"Bipolar\",\"Anxiety\",\"Bipolar\",\"Depression\",\"Bipolar\",\"Bipolar\",\"Anxiety\",\"Bipolar\",\"Anxiety\",\"Anxiety\",\"PTSD\",\"Bipolar\",\"Depression\",\"Anxiety\",\"PTSD\",\"Anxiety\",\"PTSD\",\"PTSD\",\"Depression\",\"PTSD\",\"Depression\",\"Anxiety\",\"Depression\",\"Anxiety\",\"Bipolar\",\"Bipolar\",\"Bipolar\",\"PTSD\",\"PTSD\",\"Bipolar\",\"PTSD\",\"Anxiety\",\"PTSD\",\"Bipolar\",\"PTSD\",\"PTSD\",\"Depression\",\"Depression\",\"Bipolar\",\"Anxiety\",\"Bipolar\",\"Anxiety\",\"Anxiety\",\"Anxiety\",\"Depression\",\"Bipolar\",\"Anxiety\",\"Bipolar\",\"Depression\",\"PTSD\",\"PTSD\",\"Anxiety\",\"PTSD\",\"Depression\",\"Depression\",\"Bipolar\",\"Depression\",\"PTSD\",\"Bipolar\",\"Anxiety\",\"Bipolar\",\"PTSD\",\"Bipolar\",\"Bipolar\",\"Depression\",\"Anxiety\",\"Anxiety\",\"PTSD\",\"Bipolar\",\"PTSD\",\"PTSD\",\"Anxiety\",\"Anxiety\",\"Anxiety\",\"Bipolar\",\"PTSD\",\"Bipolar\",\"PTSD\",\"PTSD\",\"PTSD\",\"PTSD\",\"Depression\",\"Depression\",\"Anxiety\",\"PTSD\",\"Bipolar\",\"Depression\",\"Anxiety\",\"Anxiety\",\"PTSD\",\"Anxiety\",\"PTSD\",\"Depression\",\"Depression\",\"PTSD\",\"Bipolar\",\"Depression\",\"Bipolar\",\"PTSD\",\"PTSD\",\"Depression\",\"Bipolar\",\"PTSD\",\"Depression\",\"PTSD\",\"Anxiety\",\"Anxiety\",\"Depression\",\"PTSD\",\"Depression\",\"Depression\",\"Depression\",\"Anxiety\",\"Anxiety\",\"PTSD\",\"Depression\",\"Depression\",\"PTSD\",\"Bipolar\",\"PTSD\",\"Anxiety\",\"Anxiety\",\"Depression\",\"Anxiety\",\"PTSD\",\"Depression\",\"PTSD\",\"PTSD\",\"Depression\",\"Bipolar\",\"Anxiety\",\"Anxiety\",\"Bipolar\",\"PTSD\",\"Depression\",\"Bipolar\",\"Anxiety\",\"Anxiety\",\"Depression\",\"PTSD\",\"Bipolar\",\"Bipolar\",\"Bipolar\",\"PTSD\",\"PTSD\",\"PTSD\",\"Depression\",\"Anxiety\",\"PTSD\",\"Anxiety\",\"PTSD\",\"PTSD\",\"Anxiety\",\"Depression\",\"Anxiety\",\"Bipolar\",\"Bipolar\",\"Bipolar\",\"Depression\",\"PTSD\",\"PTSD\",\"PTSD\",\"Depression\",\"Bipolar\",\"PTSD\",\"Depression\",\"Depression\",\"Anxiety\",\"PTSD\",\"Bipolar\",\"Depression\",\"Anxiety\",\"Depression\",\"Anxiety\",\"PTSD\",\"Anxiety\",\"Depression\",\"PTSD\",\"Bipolar\",\"Anxiety\",\"PTSD\",\"PTSD\",\"Bipolar\",\"Anxiety\",\"Bipolar\",\"Anxiety\",\"Depression\",\"Anxiety\",\"Bipolar\",\"Bipolar\",\"Depression\",\"Anxiety\",\"Depression\",\"PTSD\",\"Anxiety\",\"Depression\",\"Bipolar\",\"Depression\",\"PTSD\",\"Anxiety\",\"Depression\",\"Anxiety\",\"Depression\",\"Depression\",\"Anxiety\",\"Bipolar\",\"Anxiety\",\"Anxiety\",\"Depression\",\"Bipolar\",\"Depression\",\"Anxiety\",\"Bipolar\",\"Anxiety\",\"Depression\",\"PTSD\",\"Depression\",\"Bipolar\",\"Depression\",\"PTSD\",\"Bipolar\",\"PTSD\",\"Bipolar\",\"Depression\",\"PTSD\",\"Depression\",\"PTSD\",\"Depression\",\"Bipolar\",\"Depression\",\"Bipolar\",\"Bipolar\",\"Anxiety\",\"Depression\",\"Depression\",\"Anxiety\",\"Depression\",\"Bipolar\",\"PTSD\",\"Depression\",\"Anxiety\",\"PTSD\",\"PTSD\",\"Depression\",\"Anxiety\",\"PTSD\",\"Bipolar\",\"PTSD\",\"Anxiety\",\"Depression\",\"PTSD\",\"Bipolar\",\"Bipolar\",\"Depression\",\"Depression\",\"PTSD\",\"Depression\",\"PTSD\",\"PTSD\",\"Depression\",\"PTSD\",\"Anxiety\",\"Anxiety\",\"Depression\",\"Bipolar\",\"PTSD\",\"PTSD\",\"Anxiety\",\"PTSD\",\"Depression\",\"PTSD\",\"Bipolar\",\"Anxiety\",\"Depression\",\"PTSD\",\"PTSD\",\"PTSD\",\"Bipolar\",\"Bipolar\",\"Bipolar\",\"Bipolar\",\"Depression\",\"Bipolar\",\"Anxiety\",\"Anxiety\",\"Anxiety\",\"PTSD\",\"Depression\",\"PTSD\",\"Depression\",\"Depression\",\"Depression\",\"Anxiety\",\"Anxiety\",\"Anxiety\",\"Depression\",\"Depression\",\"Anxiety\",\"Depression\",\"Anxiety\",\"Anxiety\",\"Anxiety\",\"PTSD\",\"Depression\",\"Anxiety\",\"PTSD\",\"Depression\",\"Anxiety\",\"Anxiety\",\"Anxiety\",\"PTSD\",\"Depression\",\"PTSD\",\"Anxiety\",\"PTSD\",\"Bipolar\",\"Bipolar\",\"Depression\",\"Depression\",\"PTSD\",\"Depression\",\"Anxiety\",\"Anxiety\",\"PTSD\",\"Anxiety\",\"PTSD\",\"Depression\",\"Depression\",\"Anxiety\",\"Bipolar\",\"PTSD\",\"PTSD\",\"Depression\",\"Bipolar\",\"Depression\",\"Anxiety\",\"PTSD\",\"Anxiety\",\"Anxiety\",\"Bipolar\",\"Depression\",\"PTSD\",\"Anxiety\",\"PTSD\",\"Depression\",\"Anxiety\",\"Depression\",\"PTSD\",\"Depression\",\"Depression\",\"PTSD\",\"Anxiety\",\"Anxiety\",\"Bipolar\",\"PTSD\",\"Bipolar\",\"Bipolar\",\"PTSD\",\"Anxiety\",\"PTSD\",\"PTSD\",\"PTSD\",\"Bipolar\",\"PTSD\",\"Bipolar\",\"Bipolar\",\"Depression\",\"Bipolar\",\"PTSD\",\"Bipolar\",\"Bipolar\",\"Bipolar\",\"Anxiety\",\"Anxiety\",\"Anxiety\",\"Anxiety\",\"Depression\",\"Bipolar\",\"Depression\",\"PTSD\",\"Depression\",\"Anxiety\",\"Anxiety\",\"PTSD\",\"Bipolar\",\"Depression\",\"Bipolar\",\"Bipolar\",\"Depression\",\"Depression\",\"Depression\",\"Depression\",\"Anxiety\",\"Bipolar\",\"Bipolar\",\"Anxiety\",\"Bipolar\",\"Depression\",\"Bipolar\",\"Anxiety\",\"PTSD\",\"Bipolar\",\"Anxiety\",\"Anxiety\",\"Bipolar\",\"Anxiety\",\"Depression\",\"Anxiety\",\"Depression\",\"PTSD\",\"Depression\",\"Depression\",\"Anxiety\",\"PTSD\",\"Anxiety\",\"Depression\",\"Depression\",\"Anxiety\",\"PTSD\",\"PTSD\",\"Depression\",\"Depression\",\"Anxiety\",\"Depression\",\"Anxiety\",\"PTSD\",\"Bipolar\",\"Depression\",\"PTSD\",\"PTSD\",\"PTSD\",\"PTSD\",\"Bipolar\",\"Anxiety\",\"Anxiety\",\"Bipolar\",\"Anxiety\",\"PTSD\",\"Anxiety\",\"Anxiety\",\"Depression\",\"PTSD\",\"PTSD\",\"PTSD\",\"Bipolar\",\"PTSD\",\"PTSD\",\"Depression\",\"Depression\",\"Anxiety\",\"Depression\",\"PTSD\",\"Bipolar\",\"Anxiety\",\"Bipolar\",\"Bipolar\",\"PTSD\",\"Depression\",\"PTSD\",\"Depression\",\"Bipolar\",\"PTSD\",\"PTSD\",\"Anxiety\",\"PTSD\",\"Bipolar\",\"PTSD\",\"Anxiety\",\"PTSD\",\"PTSD\",\"Anxiety\",\"PTSD\",\"Depression\",\"PTSD\",\"Depression\",\"PTSD\",\"Bipolar\",\"PTSD\",\"Anxiety\",\"Depression\",\"Anxiety\",\"Bipolar\",\"PTSD\",\"Bipolar\",\"Anxiety\",\"PTSD\",\"Bipolar\",\"Depression\",\"Anxiety\",\"Anxiety\",\"Depression\",\"Depression\",\"Anxiety\",\"Bipolar\",\"Anxiety\",\"Anxiety\",\"Depression\",\"Anxiety\",\"Depression\",\"Bipolar\",\"Depression\",\"PTSD\",\"Depression\",\"Anxiety\",\"Depression\",\"Depression\",\"PTSD\",\"PTSD\",\"Anxiety\",\"PTSD\",\"Depression\",\"PTSD\",\"Bipolar\",\"Depression\",\"Depression\",\"Bipolar\",\"PTSD\",\"Anxiety\",\"Anxiety\",\"Anxiety\",\"PTSD\",\"Anxiety\",\"Bipolar\",\"PTSD\",\"Anxiety\",\"PTSD\",\"PTSD\",\"Depression\",\"Anxiety\",\"Bipolar\",\"PTSD\",\"Bipolar\",\"Bipolar\",\"Bipolar\",\"Depression\",\"Bipolar\",\"Anxiety\",\"Anxiety\",\"Bipolar\",\"Bipolar\",\"Depression\",\"Bipolar\",\"Bipolar\",\"Bipolar\",\"PTSD\",\"PTSD\",\"Depression\",\"Depression\",\"Anxiety\",\"Depression\",\"Anxiety\",\"Bipolar\",\"Depression\",\"Depression\",\"Depression\",\"Anxiety\",\"Anxiety\",\"Anxiety\",\"Anxiety\",\"PTSD\",\"Depression\",\"Anxiety\",\"Depression\",\"Depression\",\"PTSD\",\"Depression\",\"Anxiety\",\"Depression\",\"PTSD\",\"Anxiety\",\"PTSD\",\"Anxiety\",\"Depression\",\"Anxiety\",\"Bipolar\",\"Anxiety\",\"Depression\",\"Bipolar\",\"PTSD\",\"Anxiety\",\"PTSD\",\"Anxiety\",\"Depression\",\"Bipolar\",\"Bipolar\",\"Anxiety\",\"PTSD\",\"Bipolar\",\"Anxiety\",\"PTSD\",\"Anxiety\",\"PTSD\",\"Depression\",\"Depression\",\"Bipolar\",\"PTSD\",\"Depression\",\"Bipolar\",\"Anxiety\",\"Anxiety\",\"PTSD\",\"PTSD\",\"PTSD\",\"PTSD\",\"Depression\",\"Depression\",\"Bipolar\",\"Depression\",\"Anxiety\",\"Bipolar\",\"Depression\",\"PTSD\",\"Depression\",\"Bipolar\",\"Depression\",\"Depression\",\"Anxiety\",\"PTSD\",\"PTSD\",\"Anxiety\",\"Anxiety\",\"Bipolar\",\"PTSD\",\"Anxiety\",\"Anxiety\",\"Bipolar\",\"Anxiety\",\"Bipolar\",\"Depression\",\"PTSD\",\"Anxiety\",\"Bipolar\",\"PTSD\",\"PTSD\",\"Anxiety\",\"PTSD\",\"Anxiety\",\"Depression\",\"Anxiety\",\"PTSD\",\"PTSD\",\"PTSD\",\"Anxiety\",\"Bipolar\",\"Anxiety\",\"Anxiety\",\"PTSD\",\"Depression\",\"Depression\",\"PTSD\",\"Anxiety\",\"PTSD\",\"PTSD\",\"PTSD\",\"Depression\",\"Bipolar\",\"Anxiety\",\"PTSD\",\"Anxiety\",\"Bipolar\",\"Bipolar\",\"PTSD\",\"Bipolar\",\"Bipolar\",\"Anxiety\",\"Anxiety\",\"PTSD\",\"PTSD\",\"Depression\",\"Bipolar\",\"Anxiety\",\"Depression\",\"Depression\",\"Bipolar\",\"Anxiety\",\"Anxiety\",\"Bipolar\",\"Depression\",\"Bipolar\",\"PTSD\",\"Depression\",\"Bipolar\",\"PTSD\",\"Anxiety\",\"PTSD\",\"PTSD\",\"Anxiety\",\"Bipolar\",\"Bipolar\",\"Anxiety\",\"Bipolar\",\"PTSD\",\"PTSD\",\"Anxiety\",\"Depression\",\"PTSD\",\"Depression\",\"Bipolar\",\"PTSD\",\"Bipolar\",\"Anxiety\",\"Depression\",\"PTSD\",\"Depression\",\"Bipolar\",\"Bipolar\",\"PTSD\",\"PTSD\",\"Bipolar\",\"PTSD\",\"Bipolar\",\"Depression\",\"PTSD\",\"Bipolar\",\"PTSD\",\"Anxiety\",\"Bipolar\",\"Anxiety\",\"Bipolar\",\"PTSD\",\"Bipolar\",\"PTSD\",\"PTSD\",\"Bipolar\",\"Bipolar\",\"Depression\",\"Bipolar\",\"Depression\",\"PTSD\",\"Depression\",\"Anxiety\",\"Anxiety\",\"Anxiety\",\"Bipolar\",\"Depression\",\"Anxiety\",\"Bipolar\",\"Anxiety\",\"PTSD\",\"Bipolar\",\"PTSD\",\"Depression\",\"PTSD\",\"PTSD\",\"Depression\",\"Depression\",\"PTSD\",\"Anxiety\",\"Anxiety\",\"PTSD\",\"Anxiety\",\"Depression\",\"Depression\",\"Anxiety\",\"Depression\",\"Depression\",\"PTSD\",\"Bipolar\",\"Anxiety\",\"Anxiety\",\"Depression\",\"Depression\",\"Bipolar\",\"Bipolar\",\"PTSD\",\"PTSD\",\"Anxiety\",\"Depression\",\"PTSD\",\"Depression\",\"Depression\",\"PTSD\",\"PTSD\",\"Bipolar\",\"Bipolar\",\"PTSD\",\"Anxiety\",\"Bipolar\",\"Bipolar\",\"Bipolar\",\"Depression\",\"Depression\",\"PTSD\",\"PTSD\",\"Depression\",\"Bipolar\",\"Depression\",\"Bipolar\",\"Depression\",\"PTSD\",\"Depression\",\"Anxiety\",\"Depression\",\"Bipolar\",\"Depression\",\"PTSD\",\"Anxiety\",\"Bipolar\",\"PTSD\",\"Anxiety\",\"Depression\",\"Anxiety\",\"Anxiety\",\"Anxiety\",\"Depression\",\"Depression\",\"Bipolar\",\"Depression\",\"Anxiety\",\"Depression\",\"Bipolar\",\"Bipolar\",\"Anxiety\",\"Depression\",\"Depression\",\"Bipolar\",\"Depression\",\"Anxiety\",\"Anxiety\",\"Depression\",\"Anxiety\",\"PTSD\",\"PTSD\",\"Depression\",\"Depression\",\"Anxiety\",\"Depression\",\"Depression\",\"Bipolar\",\"Depression\",\"PTSD\",\"Bipolar\",\"Anxiety\",\"Bipolar\",\"Anxiety\",\"PTSD\",\"Anxiety\",\"Anxiety\",\"Anxiety\",\"Bipolar\",\"PTSD\",\"Anxiety\",\"Bipolar\",\"PTSD\",\"PTSD\",\"Depression\",\"Bipolar\",\"Bipolar\",\"PTSD\",\"Anxiety\",\"Bipolar\",\"PTSD\",\"Depression\",\"Depression\",\"Anxiety\",\"Anxiety\",\"PTSD\",\"Anxiety\",\"Depression\",\"PTSD\",\"PTSD\",\"PTSD\",\"Anxiety\",\"Bipolar\",\"Depression\",\"Anxiety\",\"Depression\",\"Anxiety\",\"Bipolar\",\"Depression\",\"Bipolar\",\"Depression\",\"Depression\",\"Depression\",\"Bipolar\",\"PTSD\",\"Depression\",\"Anxiety\",\"Anxiety\",\"Anxiety\",\"Bipolar\",\"Anxiety\",\"Depression\",\"Anxiety\",\"Depression\",\"Bipolar\",\"PTSD\",\"Depression\",\"Anxiety\",\"Anxiety\",\"Anxiety\",\"Depression\",\"Bipolar\",\"Depression\",\"Anxiety\",\"Depression\",\"Anxiety\",\"PTSD\",\"PTSD\",\"PTSD\",\"Anxiety\",\"Depression\",\"Anxiety\",\"Bipolar\",\"Depression\",\"PTSD\",\"Depression\",\"Depression\",\"PTSD\",\"Anxiety\",\"Anxiety\",\"Depression\",\"PTSD\",\"Bipolar\",\"Anxiety\",\"PTSD\",\"PTSD\",\"PTSD\",\"Depression\",\"PTSD\",\"Depression\",\"Anxiety\",\"Anxiety\",\"Anxiety\",\"Anxiety\",\"Anxiety\",\"PTSD\",\"Bipolar\",\"PTSD\",\"Bipolar\",\"PTSD\",\"Anxiety\",\"Bipolar\",\"Anxiety\",\"Bipolar\",\"PTSD\",\"Anxiety\",\"PTSD\",\"PTSD\",\"Anxiety\",\"Bipolar\",\"Depression\",\"Depression\",\"Anxiety\",\"Depression\",\"Bipolar\",\"PTSD\",\"PTSD\",\"Anxiety\",\"PTSD\",\"Anxiety\",\"PTSD\",\"Depression\",\"Depression\",\"Bipolar\",\"Anxiety\",\"Bipolar\",\"Depression\",\"Depression\",\"Depression\",\"Bipolar\",\"Anxiety\",\"Depression\",\"Anxiety\",\"Anxiety\",\"PTSD\",\"PTSD\",\"Bipolar\",\"PTSD\",\"Bipolar\",\"Depression\",\"Anxiety\",\"Bipolar\",\"Depression\",\"Bipolar\",\"Anxiety\",\"PTSD\",\"Bipolar\",\"PTSD\",\"PTSD\",\"Depression\",\"Anxiety\",\"PTSD\",\"Anxiety\",\"Bipolar\",\"PTSD\",\"Depression\",\"Bipolar\",\"Anxiety\",\"Bipolar\",\"Depression\",\"Bipolar\",\"Anxiety\",\"Bipolar\",\"Bipolar\",\"Anxiety\",\"Depression\",\"Depression\",\"PTSD\",\"Bipolar\",\"Anxiety\",\"Bipolar\",\"PTSD\",\"Anxiety\",\"Bipolar\",\"Anxiety\",\"PTSD\",\"Anxiety\",\"Depression\",\"Anxiety\",\"PTSD\",\"Anxiety\",\"Anxiety\",\"Bipolar\",\"Bipolar\",\"Anxiety\",\"PTSD\",\"PTSD\",\"Anxiety\",\"Anxiety\",\"Bipolar\",\"Depression\",\"PTSD\",\"PTSD\",\"Anxiety\",\"Depression\",\"PTSD\",\"Depression\",\"Anxiety\",\"Bipolar\",\"PTSD\",\"PTSD\",\"Depression\",\"Bipolar\",\"Anxiety\",\"Depression\",\"PTSD\",\"PTSD\",\"Anxiety\",\"Depression\",\"Anxiety\",\"Depression\",\"Anxiety\",\"Bipolar\",\"Depression\",\"PTSD\",\"PTSD\",\"Anxiety\",\"PTSD\",\"Bipolar\",\"Depression\",\"Anxiety\",\"Depression\",\"Depression\",\"PTSD\",\"Depression\",\"Bipolar\",\"Bipolar\",\"PTSD\",\"PTSD\",\"Anxiety\",\"Anxiety\",\"Anxiety\",\"PTSD\",\"Depression\",\"Anxiety\",\"Bipolar\",\"PTSD\",\"Bipolar\",\"Anxiety\",\"Depression\",\"Anxiety\",\"Anxiety\",\"Depression\",\"Depression\",\"PTSD\",\"PTSD\",\"Depression\",\"Depression\",\"Anxiety\",\"PTSD\",\"Anxiety\",\"PTSD\",\"Bipolar\",\"Bipolar\",\"PTSD\",\"Anxiety\",\"Anxiety\",\"Bipolar\",\"Bipolar\",\"Bipolar\",\"Anxiety\",\"PTSD\",\"Depression\",\"Bipolar\",\"PTSD\",\"PTSD\",\"Depression\",\"Depression\",\"Bipolar\",\"Depression\",\"Bipolar\",\"Anxiety\",\"Bipolar\",\"Depression\",\"Depression\",\"PTSD\",\"Depression\",\"Anxiety\",\"Bipolar\",\"PTSD\",\"Bipolar\",\"Bipolar\",\"Depression\",\"PTSD\",\"Anxiety\",\"Anxiety\",\"Depression\",\"Anxiety\",\"PTSD\",\"PTSD\",\"Anxiety\",\"PTSD\",\"PTSD\",\"Depression\",\"Anxiety\",\"Depression\",\"Depression\",\"Bipolar\",\"Anxiety\",\"Anxiety\",\"Anxiety\",\"Anxiety\",\"PTSD\",\"PTSD\",\"Anxiety\",\"Bipolar\",\"Bipolar\",\"Bipolar\",\"PTSD\",\"Bipolar\",\"Anxiety\",\"Anxiety\",\"Bipolar\",\"Depression\",\"Bipolar\",\"Depression\",\"Anxiety\",\"PTSD\",\"Anxiety\",\"Anxiety\",\"PTSD\",\"Anxiety\",\"PTSD\",\"Anxiety\",\"Depression\",\"Anxiety\",\"Depression\",\"Bipolar\",\"Anxiety\",\"PTSD\",\"Depression\",\"PTSD\",\"PTSD\",\"Depression\",\"Bipolar\",\"PTSD\",\"Bipolar\",\"Depression\",\"Bipolar\",\"Anxiety\",\"PTSD\",\"Bipolar\",\"Bipolar\",\"Depression\",\"Bipolar\",\"Bipolar\",\"Anxiety\",\"Anxiety\",\"Bipolar\",\"Anxiety\",\"Bipolar\",\"PTSD\",\"Depression\",\"Anxiety\",\"Bipolar\",\"Anxiety\",\"Depression\",\"PTSD\",\"Anxiety\",\"Bipolar\",\"Depression\",\"PTSD\",\"PTSD\",\"PTSD\",\"Depression\",\"Anxiety\",\"PTSD\",\"Depression\",\"PTSD\",\"PTSD\",\"Depression\",\"Depression\",\"Anxiety\",\"PTSD\",\"Anxiety\",\"Anxiety\",\"Anxiety\",\"Anxiety\",\"Anxiety\",\"Depression\",\"Anxiety\",\"Bipolar\",\"Bipolar\",\"Bipolar\",\"PTSD\",\"Depression\",\"Bipolar\",\"PTSD\",\"Bipolar\",\"Anxiety\",\"Bipolar\",\"PTSD\",\"PTSD\",\"Anxiety\",\"PTSD\",\"Bipolar\",\"PTSD\",\"Anxiety\",\"Depression\",\"Bipolar\",\"Anxiety\",\"Anxiety\",\"Anxiety\",\"PTSD\",\"PTSD\",\"Depression\",\"Bipolar\",\"Depression\",\"Depression\",\"Depression\",\"Bipolar\",\"Anxiety\",\"Depression\",\"Bipolar\",\"Depression\",\"Anxiety\",\"PTSD\",\"Anxiety\",\"Bipolar\",\"Anxiety\",\"Anxiety\",\"Bipolar\",\"Bipolar\",\"Depression\",\"PTSD\",\"PTSD\",\"PTSD\",\"Anxiety\",\"Bipolar\",\"Bipolar\",\"Bipolar\",\"Bipolar\",\"Bipolar\",\"Anxiety\",\"Depression\",\"PTSD\",\"Anxiety\",\"Anxiety\",\"Anxiety\",\"PTSD\",\"Anxiety\",\"Depression\",\"Bipolar\",\"Depression\",\"Bipolar\",\"Bipolar\",\"Anxiety\",\"Anxiety\",\"PTSD\",\"Depression\",\"PTSD\",\"PTSD\",\"Depression\",\"Depression\",\"Bipolar\",\"Anxiety\",\"Anxiety\",\"PTSD\",\"PTSD\",\"Anxiety\",\"Anxiety\",\"Depression\",\"Depression\",\"Anxiety\",\"Bipolar\",\"PTSD\",\"Depression\",\"Bipolar\",\"PTSD\",\"Anxiety\",\"Bipolar\",\"Bipolar\",\"PTSD\",\"PTSD\",\"Bipolar\",\"Depression\",\"Depression\",\"Anxiety\",\"Depression\",\"Bipolar\",\"Depression\",\"Anxiety\",\"Depression\",\"Bipolar\",\"Bipolar\",\"Anxiety\",\"Anxiety\",\"PTSD\",\"PTSD\",\"PTSD\",\"Bipolar\",\"PTSD\",\"Bipolar\",\"Anxiety\",\"Anxiety\",\"Bipolar\",\"PTSD\",\"Anxiety\",\"Depression\",\"Bipolar\",\"PTSD\",\"Anxiety\",\"PTSD\",\"Anxiety\",\"Bipolar\",\"Depression\",\"Depression\",\"Bipolar\",\"Bipolar\",\"Anxiety\",\"Depression\",\"Anxiety\",\"PTSD\",\"PTSD\",\"PTSD\",\"Depression\",\"Bipolar\",\"Depression\",\"Anxiety\",\"Anxiety\",\"PTSD\",\"PTSD\",\"Anxiety\",\"Anxiety\",\"Bipolar\",\"Bipolar\",\"Bipolar\",\"PTSD\",\"Bipolar\",\"Depression\",\"Bipolar\",\"PTSD\",\"Bipolar\",\"Depression\",\"Anxiety\",\"Bipolar\",\"PTSD\",\"PTSD\",\"PTSD\",\"PTSD\",\"PTSD\",\"Anxiety\",\"Depression\",\"PTSD\",\"PTSD\",\"PTSD\",\"PTSD\",\"PTSD\",\"PTSD\",\"PTSD\",\"Bipolar\",\"Bipolar\",\"Bipolar\",\"Depression\",\"Bipolar\",\"Depression\",\"PTSD\",\"Anxiety\",\"Bipolar\",\"Bipolar\",\"Depression\",\"PTSD\",\"PTSD\",\"Anxiety\",\"PTSD\",\"Depression\",\"PTSD\",\"Depression\",\"Bipolar\",\"Bipolar\",\"Bipolar\",\"Bipolar\",\"Depression\",\"Anxiety\",\"PTSD\",\"Bipolar\",\"Depression\",\"Anxiety\",\"Bipolar\",\"Bipolar\",\"Depression\",\"Anxiety\",\"Depression\",\"Anxiety\",\"Depression\",\"Bipolar\",\"PTSD\",\"PTSD\",\"Depression\",\"PTSD\",\"Bipolar\",\"Bipolar\",\"PTSD\",\"Depression\",\"Depression\",\"PTSD\",\"Bipolar\",\"Bipolar\",\"Depression\",\"Anxiety\",\"Depression\",\"Anxiety\",\"Depression\",\"Anxiety\",\"Anxiety\",\"Anxiety\",\"Anxiety\",\"Anxiety\",\"Anxiety\",\"Bipolar\",\"Anxiety\",\"PTSD\",\"Bipolar\",\"Depression\",\"Bipolar\",\"Bipolar\",\"PTSD\",\"PTSD\",\"Depression\",\"Bipolar\",\"PTSD\",\"PTSD\",\"Anxiety\",\"Depression\",\"Depression\",\"PTSD\",\"Anxiety\",\"PTSD\",\"Bipolar\",\"Depression\",\"PTSD\",\"Bipolar\",\"Anxiety\",\"Depression\",\"Bipolar\",\"PTSD\",\"Anxiety\",\"Bipolar\",\"Anxiety\",\"Anxiety\",\"Anxiety\",\"Depression\",\"Bipolar\",\"Depression\",\"PTSD\",\"PTSD\",\"PTSD\",\"Anxiety\",\"Anxiety\",\"Bipolar\",\"PTSD\",\"PTSD\",\"Anxiety\",\"Anxiety\",\"Depression\",\"Depression\",\"Bipolar\",\"PTSD\",\"Depression\",\"Depression\",\"PTSD\",\"Anxiety\",\"Bipolar\",\"Bipolar\",\"Bipolar\",\"Depression\",\"Anxiety\",\"Bipolar\",\"PTSD\",\"Bipolar\",\"Anxiety\",\"Anxiety\",\"PTSD\",\"Depression\",\"Depression\",\"Anxiety\",\"Bipolar\",\"PTSD\",\"Bipolar\",\"Depression\",\"Bipolar\",\"Depression\",\"Anxiety\",\"PTSD\",\"PTSD\",\"Depression\",\"Anxiety\",\"PTSD\",\"Depression\",\"PTSD\",\"Anxiety\",\"Anxiety\",\"Bipolar\",\"Anxiety\",\"Anxiety\",\"PTSD\",\"Anxiety\",\"Depression\",\"PTSD\",\"PTSD\",\"Bipolar\",\"Depression\",\"Anxiety\",\"Bipolar\",\"Depression\",\"Bipolar\",\"Anxiety\",\"Bipolar\",\"Anxiety\",\"Bipolar\",\"Bipolar\",\"Bipolar\",\"Bipolar\",\"PTSD\",\"Bipolar\",\"PTSD\",\"PTSD\",\"Anxiety\",\"PTSD\",\"Depression\",\"PTSD\",\"Depression\",\"Depression\",\"Depression\",\"Depression\",\"Anxiety\",\"Bipolar\",\"Anxiety\",\"Anxiety\",\"Anxiety\",\"Bipolar\",\"Anxiety\",\"Anxiety\",\"Depression\",\"Depression\",\"PTSD\",\"Bipolar\",\"Depression\",\"Bipolar\",\"Anxiety\",\"Bipolar\",\"Depression\",\"PTSD\",\"Depression\",\"Bipolar\",\"Depression\",\"Anxiety\",\"Anxiety\",\"PTSD\",\"Bipolar\",\"PTSD\",\"Anxiety\",\"PTSD\",\"PTSD\",\"Bipolar\",\"PTSD\",\"PTSD\",\"Bipolar\",\"Anxiety\",\"Depression\",\"Anxiety\",\"Bipolar\",\"PTSD\",\"PTSD\",\"PTSD\",\"PTSD\",\"Anxiety\",\"PTSD\",\"PTSD\",\"Bipolar\",\"Anxiety\",\"Depression\",\"Depression\",\"Depression\",\"Depression\",\"Bipolar\",\"Depression\",\"Anxiety\",\"Anxiety\",\"Depression\",\"Bipolar\",\"PTSD\",\"Depression\",\"Depression\",\"Depression\",\"Bipolar\",\"PTSD\",\"Depression\",\"Depression\",\"Depression\",\"Depression\",\"Depression\",\"Anxiety\",\"Anxiety\",\"PTSD\",\"Bipolar\",\"Bipolar\",\"Bipolar\",\"Anxiety\",\"PTSD\",\"Bipolar\",\"Bipolar\",\"Depression\",\"PTSD\",\"Anxiety\",\"Bipolar\",\"Bipolar\",\"Anxiety\",\"Depression\",\"Depression\",\"Bipolar\",\"Bipolar\",\"PTSD\",\"Bipolar\",\"Anxiety\",\"PTSD\",\"Depression\",\"PTSD\",\"Depression\",\"Anxiety\",\"Depression\",\"Depression\",\"Anxiety\",\"Bipolar\",\"Bipolar\",\"Depression\",\"Depression\",\"PTSD\",\"Bipolar\",\"Anxiety\",\"Depression\",\"Depression\",\"PTSD\",\"PTSD\",\"PTSD\",\"Anxiety\",\"Depression\",\"PTSD\",\"PTSD\",\"PTSD\",\"Bipolar\",\"Anxiety\",\"Anxiety\",\"PTSD\",\"Depression\",\"Bipolar\",\"Anxiety\",\"Depression\",\"PTSD\",\"PTSD\",\"PTSD\",\"PTSD\",\"Bipolar\",\"Bipolar\",\"Anxiety\",\"PTSD\",\"Bipolar\",\"Depression\",\"Bipolar\",\"Bipolar\",\"Anxiety\",\"Bipolar\",\"Depression\",\"PTSD\",\"Anxiety\",\"Depression\",\"Anxiety\",\"PTSD\",\"Bipolar\",\"Bipolar\",\"Depression\",\"PTSD\",\"Bipolar\",\"PTSD\",\"PTSD\",\"Depression\",\"Depression\",\"Anxiety\",\"PTSD\",\"Depression\",\"Bipolar\",\"Anxiety\",\"Depression\",\"Bipolar\",\"Anxiety\",\"Bipolar\",\"PTSD\",\"PTSD\",\"PTSD\",\"Depression\",\"Depression\",\"PTSD\",\"Depression\",\"Bipolar\",\"Bipolar\",\"Bipolar\",\"Bipolar\",\"PTSD\",\"Bipolar\",\"PTSD\",\"Bipolar\",\"Bipolar\",\"Bipolar\",\"Depression\",\"Bipolar\",\"Depression\",\"Depression\",\"Anxiety\",\"PTSD\",\"Bipolar\",\"PTSD\",\"Anxiety\",\"PTSD\",\"Bipolar\",\"Anxiety\",\"PTSD\",\"Depression\",\"Anxiety\",\"Bipolar\",\"Depression\",\"Anxiety\",\"Depression\",\"Anxiety\",\"Anxiety\",\"PTSD\",\"Depression\",\"Depression\",\"Bipolar\",\"PTSD\",\"Anxiety\",\"PTSD\",\"PTSD\",\"Anxiety\",\"Bipolar\",\"PTSD\",\"Bipolar\",\"Anxiety\",\"Anxiety\",\"Depression\",\"Bipolar\",\"Anxiety\",\"PTSD\",\"Depression\",\"Anxiety\",\"PTSD\",\"Bipolar\",\"Bipolar\",\"Bipolar\",\"Bipolar\",\"Bipolar\",\"PTSD\",\"Anxiety\",\"Depression\",\"Bipolar\",\"Bipolar\",\"Bipolar\",\"Depression\",\"Anxiety\",\"Bipolar\",\"PTSD\",\"Bipolar\",\"Bipolar\",\"Bipolar\",\"Bipolar\",\"Anxiety\",\"PTSD\",\"PTSD\",\"Bipolar\",\"PTSD\",\"Bipolar\",\"PTSD\",\"Depression\",\"PTSD\",\"PTSD\",\"PTSD\",\"Anxiety\",\"PTSD\",\"Depression\",\"Anxiety\",\"PTSD\",\"Depression\",\"Depression\",\"Bipolar\",\"Bipolar\",\"Depression\",\"PTSD\",\"PTSD\",\"PTSD\",\"Bipolar\",\"PTSD\",\"Anxiety\",\"Depression\",\"Bipolar\",\"Bipolar\",\"Depression\",\"PTSD\",\"Depression\",\"Anxiety\",\"PTSD\",\"PTSD\",\"PTSD\",\"Depression\",\"Anxiety\",\"Bipolar\",\"Depression\",\"Depression\",\"Bipolar\",\"Bipolar\",\"PTSD\",\"Depression\",\"PTSD\",\"Bipolar\",\"PTSD\",\"Anxiety\",\"PTSD\",\"Anxiety\",\"Anxiety\",\"Depression\",\"Bipolar\",\"PTSD\",\"Bipolar\",\"Depression\",\"Depression\",\"PTSD\",\"PTSD\",\"Bipolar\",\"Bipolar\",\"Depression\",\"Depression\",\"Bipolar\",\"Anxiety\",\"Bipolar\",\"PTSD\",\"Bipolar\",\"Bipolar\",\"PTSD\",\"PTSD\",\"PTSD\",\"Depression\",\"Bipolar\",\"PTSD\",\"PTSD\",\"Bipolar\",\"Anxiety\",\"PTSD\",\"Depression\",\"Bipolar\",\"Bipolar\",\"Anxiety\",\"Anxiety\",\"Anxiety\",\"Depression\",\"PTSD\",\"Depression\",\"Depression\",\"Depression\",\"PTSD\",\"PTSD\",\"Depression\",\"Depression\",\"Anxiety\",\"Anxiety\",\"Bipolar\",\"Anxiety\",\"PTSD\",\"Depression\",\"Bipolar\",\"Anxiety\",\"Bipolar\",\"Bipolar\",\"Bipolar\",\"Bipolar\",\"Depression\",\"PTSD\",\"Anxiety\",\"Anxiety\",\"Anxiety\",\"Bipolar\",\"Bipolar\",\"Bipolar\",\"Depression\",\"Depression\",\"Depression\",\"Depression\",\"Depression\",\"Depression\",\"Depression\",\"Anxiety\",\"Anxiety\",\"Anxiety\",\"PTSD\",\"Bipolar\",\"Depression\",\"Anxiety\",\"Depression\",\"PTSD\",\"Bipolar\",\"Depression\",\"Bipolar\",\"Depression\",\"PTSD\",\"Bipolar\",\"Bipolar\",\"Bipolar\",\"Anxiety\",\"PTSD\",\"Depression\",\"Depression\",\"Anxiety\",\"PTSD\",\"Depression\",\"Depression\",\"Anxiety\",\"Bipolar\",\"Anxiety\",\"Anxiety\",\"Anxiety\",\"Anxiety\",\"Bipolar\",\"PTSD\",\"Anxiety\",\"Anxiety\",\"Depression\",\"Bipolar\",\"Anxiety\",\"PTSD\",\"PTSD\",\"PTSD\",\"PTSD\",\"Bipolar\",\"PTSD\",\"Depression\",\"Anxiety\",\"Bipolar\",\"Depression\",\"Bipolar\",\"PTSD\",\"Bipolar\",\"Bipolar\",\"Bipolar\",\"Depression\",\"PTSD\",\"Anxiety\",\"PTSD\",\"PTSD\",\"Bipolar\",\"PTSD\",\"Depression\",\"Depression\",\"Depression\",\"Anxiety\",\"Depression\"],\"legendgroup\":\"\",\"name\":\"\",\"showlegend\":true,\"type\":\"pie\"}],                        {\"template\":{\"data\":{\"histogram2dcontour\":[{\"type\":\"histogram2dcontour\",\"colorbar\":{\"outlinewidth\":0,\"ticks\":\"\"},\"colorscale\":[[0.0,\"#0d0887\"],[0.1111111111111111,\"#46039f\"],[0.2222222222222222,\"#7201a8\"],[0.3333333333333333,\"#9c179e\"],[0.4444444444444444,\"#bd3786\"],[0.5555555555555556,\"#d8576b\"],[0.6666666666666666,\"#ed7953\"],[0.7777777777777778,\"#fb9f3a\"],[0.8888888888888888,\"#fdca26\"],[1.0,\"#f0f921\"]]}],\"choropleth\":[{\"type\":\"choropleth\",\"colorbar\":{\"outlinewidth\":0,\"ticks\":\"\"}}],\"histogram2d\":[{\"type\":\"histogram2d\",\"colorbar\":{\"outlinewidth\":0,\"ticks\":\"\"},\"colorscale\":[[0.0,\"#0d0887\"],[0.1111111111111111,\"#46039f\"],[0.2222222222222222,\"#7201a8\"],[0.3333333333333333,\"#9c179e\"],[0.4444444444444444,\"#bd3786\"],[0.5555555555555556,\"#d8576b\"],[0.6666666666666666,\"#ed7953\"],[0.7777777777777778,\"#fb9f3a\"],[0.8888888888888888,\"#fdca26\"],[1.0,\"#f0f921\"]]}],\"heatmap\":[{\"type\":\"heatmap\",\"colorbar\":{\"outlinewidth\":0,\"ticks\":\"\"},\"colorscale\":[[0.0,\"#0d0887\"],[0.1111111111111111,\"#46039f\"],[0.2222222222222222,\"#7201a8\"],[0.3333333333333333,\"#9c179e\"],[0.4444444444444444,\"#bd3786\"],[0.5555555555555556,\"#d8576b\"],[0.6666666666666666,\"#ed7953\"],[0.7777777777777778,\"#fb9f3a\"],[0.8888888888888888,\"#fdca26\"],[1.0,\"#f0f921\"]]}],\"heatmapgl\":[{\"type\":\"heatmapgl\",\"colorbar\":{\"outlinewidth\":0,\"ticks\":\"\"},\"colorscale\":[[0.0,\"#0d0887\"],[0.1111111111111111,\"#46039f\"],[0.2222222222222222,\"#7201a8\"],[0.3333333333333333,\"#9c179e\"],[0.4444444444444444,\"#bd3786\"],[0.5555555555555556,\"#d8576b\"],[0.6666666666666666,\"#ed7953\"],[0.7777777777777778,\"#fb9f3a\"],[0.8888888888888888,\"#fdca26\"],[1.0,\"#f0f921\"]]}],\"contourcarpet\":[{\"type\":\"contourcarpet\",\"colorbar\":{\"outlinewidth\":0,\"ticks\":\"\"}}],\"contour\":[{\"type\":\"contour\",\"colorbar\":{\"outlinewidth\":0,\"ticks\":\"\"},\"colorscale\":[[0.0,\"#0d0887\"],[0.1111111111111111,\"#46039f\"],[0.2222222222222222,\"#7201a8\"],[0.3333333333333333,\"#9c179e\"],[0.4444444444444444,\"#bd3786\"],[0.5555555555555556,\"#d8576b\"],[0.6666666666666666,\"#ed7953\"],[0.7777777777777778,\"#fb9f3a\"],[0.8888888888888888,\"#fdca26\"],[1.0,\"#f0f921\"]]}],\"surface\":[{\"type\":\"surface\",\"colorbar\":{\"outlinewidth\":0,\"ticks\":\"\"},\"colorscale\":[[0.0,\"#0d0887\"],[0.1111111111111111,\"#46039f\"],[0.2222222222222222,\"#7201a8\"],[0.3333333333333333,\"#9c179e\"],[0.4444444444444444,\"#bd3786\"],[0.5555555555555556,\"#d8576b\"],[0.6666666666666666,\"#ed7953\"],[0.7777777777777778,\"#fb9f3a\"],[0.8888888888888888,\"#fdca26\"],[1.0,\"#f0f921\"]]}],\"mesh3d\":[{\"type\":\"mesh3d\",\"colorbar\":{\"outlinewidth\":0,\"ticks\":\"\"}}],\"scatter\":[{\"fillpattern\":{\"fillmode\":\"overlay\",\"size\":10,\"solidity\":0.2},\"type\":\"scatter\"}],\"parcoords\":[{\"type\":\"parcoords\",\"line\":{\"colorbar\":{\"outlinewidth\":0,\"ticks\":\"\"}}}],\"scatterpolargl\":[{\"type\":\"scatterpolargl\",\"marker\":{\"colorbar\":{\"outlinewidth\":0,\"ticks\":\"\"}}}],\"bar\":[{\"error_x\":{\"color\":\"#2a3f5f\"},\"error_y\":{\"color\":\"#2a3f5f\"},\"marker\":{\"line\":{\"color\":\"#E5ECF6\",\"width\":0.5},\"pattern\":{\"fillmode\":\"overlay\",\"size\":10,\"solidity\":0.2}},\"type\":\"bar\"}],\"scattergeo\":[{\"type\":\"scattergeo\",\"marker\":{\"colorbar\":{\"outlinewidth\":0,\"ticks\":\"\"}}}],\"scatterpolar\":[{\"type\":\"scatterpolar\",\"marker\":{\"colorbar\":{\"outlinewidth\":0,\"ticks\":\"\"}}}],\"histogram\":[{\"marker\":{\"pattern\":{\"fillmode\":\"overlay\",\"size\":10,\"solidity\":0.2}},\"type\":\"histogram\"}],\"scattergl\":[{\"type\":\"scattergl\",\"marker\":{\"colorbar\":{\"outlinewidth\":0,\"ticks\":\"\"}}}],\"scatter3d\":[{\"type\":\"scatter3d\",\"line\":{\"colorbar\":{\"outlinewidth\":0,\"ticks\":\"\"}},\"marker\":{\"colorbar\":{\"outlinewidth\":0,\"ticks\":\"\"}}}],\"scattermapbox\":[{\"type\":\"scattermapbox\",\"marker\":{\"colorbar\":{\"outlinewidth\":0,\"ticks\":\"\"}}}],\"scatterternary\":[{\"type\":\"scatterternary\",\"marker\":{\"colorbar\":{\"outlinewidth\":0,\"ticks\":\"\"}}}],\"scattercarpet\":[{\"type\":\"scattercarpet\",\"marker\":{\"colorbar\":{\"outlinewidth\":0,\"ticks\":\"\"}}}],\"carpet\":[{\"aaxis\":{\"endlinecolor\":\"#2a3f5f\",\"gridcolor\":\"white\",\"linecolor\":\"white\",\"minorgridcolor\":\"white\",\"startlinecolor\":\"#2a3f5f\"},\"baxis\":{\"endlinecolor\":\"#2a3f5f\",\"gridcolor\":\"white\",\"linecolor\":\"white\",\"minorgridcolor\":\"white\",\"startlinecolor\":\"#2a3f5f\"},\"type\":\"carpet\"}],\"table\":[{\"cells\":{\"fill\":{\"color\":\"#EBF0F8\"},\"line\":{\"color\":\"white\"}},\"header\":{\"fill\":{\"color\":\"#C8D4E3\"},\"line\":{\"color\":\"white\"}},\"type\":\"table\"}],\"barpolar\":[{\"marker\":{\"line\":{\"color\":\"#E5ECF6\",\"width\":0.5},\"pattern\":{\"fillmode\":\"overlay\",\"size\":10,\"solidity\":0.2}},\"type\":\"barpolar\"}],\"pie\":[{\"automargin\":true,\"type\":\"pie\"}]},\"layout\":{\"autotypenumbers\":\"strict\",\"colorway\":[\"#636efa\",\"#EF553B\",\"#00cc96\",\"#ab63fa\",\"#FFA15A\",\"#19d3f3\",\"#FF6692\",\"#B6E880\",\"#FF97FF\",\"#FECB52\"],\"font\":{\"color\":\"#2a3f5f\"},\"hovermode\":\"closest\",\"hoverlabel\":{\"align\":\"left\"},\"paper_bgcolor\":\"white\",\"plot_bgcolor\":\"#E5ECF6\",\"polar\":{\"bgcolor\":\"#E5ECF6\",\"angularaxis\":{\"gridcolor\":\"white\",\"linecolor\":\"white\",\"ticks\":\"\"},\"radialaxis\":{\"gridcolor\":\"white\",\"linecolor\":\"white\",\"ticks\":\"\"}},\"ternary\":{\"bgcolor\":\"#E5ECF6\",\"aaxis\":{\"gridcolor\":\"white\",\"linecolor\":\"white\",\"ticks\":\"\"},\"baxis\":{\"gridcolor\":\"white\",\"linecolor\":\"white\",\"ticks\":\"\"},\"caxis\":{\"gridcolor\":\"white\",\"linecolor\":\"white\",\"ticks\":\"\"}},\"coloraxis\":{\"colorbar\":{\"outlinewidth\":0,\"ticks\":\"\"}},\"colorscale\":{\"sequential\":[[0.0,\"#0d0887\"],[0.1111111111111111,\"#46039f\"],[0.2222222222222222,\"#7201a8\"],[0.3333333333333333,\"#9c179e\"],[0.4444444444444444,\"#bd3786\"],[0.5555555555555556,\"#d8576b\"],[0.6666666666666666,\"#ed7953\"],[0.7777777777777778,\"#fb9f3a\"],[0.8888888888888888,\"#fdca26\"],[1.0,\"#f0f921\"]],\"sequentialminus\":[[0.0,\"#0d0887\"],[0.1111111111111111,\"#46039f\"],[0.2222222222222222,\"#7201a8\"],[0.3333333333333333,\"#9c179e\"],[0.4444444444444444,\"#bd3786\"],[0.5555555555555556,\"#d8576b\"],[0.6666666666666666,\"#ed7953\"],[0.7777777777777778,\"#fb9f3a\"],[0.8888888888888888,\"#fdca26\"],[1.0,\"#f0f921\"]],\"diverging\":[[0,\"#8e0152\"],[0.1,\"#c51b7d\"],[0.2,\"#de77ae\"],[0.3,\"#f1b6da\"],[0.4,\"#fde0ef\"],[0.5,\"#f7f7f7\"],[0.6,\"#e6f5d0\"],[0.7,\"#b8e186\"],[0.8,\"#7fbc41\"],[0.9,\"#4d9221\"],[1,\"#276419\"]]},\"xaxis\":{\"gridcolor\":\"white\",\"linecolor\":\"white\",\"ticks\":\"\",\"title\":{\"standoff\":15},\"zerolinecolor\":\"white\",\"automargin\":true,\"zerolinewidth\":2},\"yaxis\":{\"gridcolor\":\"white\",\"linecolor\":\"white\",\"ticks\":\"\",\"title\":{\"standoff\":15},\"zerolinecolor\":\"white\",\"automargin\":true,\"zerolinewidth\":2},\"scene\":{\"xaxis\":{\"backgroundcolor\":\"#E5ECF6\",\"gridcolor\":\"white\",\"linecolor\":\"white\",\"showbackground\":true,\"ticks\":\"\",\"zerolinecolor\":\"white\",\"gridwidth\":2},\"yaxis\":{\"backgroundcolor\":\"#E5ECF6\",\"gridcolor\":\"white\",\"linecolor\":\"white\",\"showbackground\":true,\"ticks\":\"\",\"zerolinecolor\":\"white\",\"gridwidth\":2},\"zaxis\":{\"backgroundcolor\":\"#E5ECF6\",\"gridcolor\":\"white\",\"linecolor\":\"white\",\"showbackground\":true,\"ticks\":\"\",\"zerolinecolor\":\"white\",\"gridwidth\":2}},\"shapedefaults\":{\"line\":{\"color\":\"#2a3f5f\"}},\"annotationdefaults\":{\"arrowcolor\":\"#2a3f5f\",\"arrowhead\":0,\"arrowwidth\":1},\"geo\":{\"bgcolor\":\"white\",\"landcolor\":\"#E5ECF6\",\"subunitcolor\":\"white\",\"showland\":true,\"showlakes\":true,\"lakecolor\":\"white\"},\"title\":{\"x\":0.05},\"mapbox\":{\"style\":\"light\"}}},\"legend\":{\"tracegroupgap\":0},\"title\":{\"text\":\"Distribución de condiciones de salud mental\"}},                        {\"responsive\": true}                    ).then(function(){\n",
              "                            \n",
              "var gd = document.getElementById('cc9abd3a-d79f-4763-98f9-44fa7be40fd3');\n",
              "var x = new MutationObserver(function (mutations, observer) {{\n",
              "        var display = window.getComputedStyle(gd).display;\n",
              "        if (!display || display === 'none') {{\n",
              "            console.log([gd, 'removed!']);\n",
              "            Plotly.purge(gd);\n",
              "            observer.disconnect();\n",
              "        }}\n",
              "}});\n",
              "\n",
              "// Listen for the removal of the full notebook cells\n",
              "var notebookContainer = gd.closest('#notebook-container');\n",
              "if (notebookContainer) {{\n",
              "    x.observe(notebookContainer, {childList: true});\n",
              "}}\n",
              "\n",
              "// Listen for the clearing of the current output cell\n",
              "var outputEl = gd.closest('.output');\n",
              "if (outputEl) {{\n",
              "    x.observe(outputEl, {childList: true});\n",
              "}}\n",
              "\n",
              "                        })                };                            </script>        </div>\n",
              "</body>\n",
              "</html>"
            ]
          },
          "metadata": {}
        }
      ]
    },
    {
      "cell_type": "markdown",
      "source": [
        "Agrupare algunos datos para para calcular el promedio del puntaje de felicidad por cada tipo de dieta:"
      ],
      "metadata": {
        "id": "2LP_Ee0OaxTx"
      }
    },
    {
      "cell_type": "code",
      "source": [
        "# Agrupación: Dieta vs Puntaje de felicidad\n",
        "df_grouped = df_clean.groupby('Diet Type')['Happiness Score'].mean().reset_index()\n",
        "\n",
        "# Vista previa\n",
        "print(df_grouped)"
      ],
      "metadata": {
        "colab": {
          "base_uri": "https://localhost:8080/"
        },
        "id": "pDEvvvtPawbE",
        "outputId": "3ed7ef27-913d-4e64-9f9a-258e7e055afb"
      },
      "execution_count": 62,
      "outputs": [
        {
          "output_type": "stream",
          "name": "stdout",
          "text": [
            "    Diet Type  Happiness Score\n",
            "0    Balanced         5.221569\n",
            "1   Junk Food         5.469841\n",
            "2        Keto         5.333408\n",
            "3       Vegan         5.269717\n",
            "4  Vegetarian         5.606004\n"
          ]
        },
        {
          "output_type": "stream",
          "name": "stderr",
          "text": [
            "/tmp/ipython-input-62-2135609480.py:2: FutureWarning:\n",
            "\n",
            "The default of observed=False is deprecated and will be changed to True in a future version of pandas. Pass observed=False to retain current behavior or observed=True to adopt the future default and silence this warning.\n",
            "\n"
          ]
        }
      ]
    },
    {
      "cell_type": "code",
      "source": [
        "import plotly.express as px\n",
        "\n",
        "# Gráfico de barras\n",
        "fig6 = px.bar(\n",
        "    df_grouped,\n",
        "    x='Diet Type',\n",
        "    y='Happiness Score',\n",
        "    title='Puntaje promedio de felicidad por tipo de dieta',\n",
        "    labels={\n",
        "        'Diet Type': 'Tipo de dieta',\n",
        "        'Happiness Score': 'Puntaje de felicidad promedio'\n",
        "    },\n",
        "    color='Diet Type',\n",
        "    text_auto='.2s'\n",
        ")\n",
        "\n",
        "fig6.update_layout(\n",
        "    xaxis_title='Tipo de dieta',\n",
        "    yaxis_title='Felicidad promedio',\n",
        "    uniformtext_minsize=8,\n",
        "    uniformtext_mode='hide'\n",
        ")\n",
        "\n",
        "fig6.show()"
      ],
      "metadata": {
        "colab": {
          "base_uri": "https://localhost:8080/",
          "height": 542
        },
        "id": "c7eA4oEta9_x",
        "outputId": "f2fa6f6f-da72-45a5-c3f9-6588583fe73a"
      },
      "execution_count": 63,
      "outputs": [
        {
          "output_type": "display_data",
          "data": {
            "text/html": [
              "<html>\n",
              "<head><meta charset=\"utf-8\" /></head>\n",
              "<body>\n",
              "    <div>            <script src=\"https://cdnjs.cloudflare.com/ajax/libs/mathjax/2.7.5/MathJax.js?config=TeX-AMS-MML_SVG\"></script><script type=\"text/javascript\">if (window.MathJax && window.MathJax.Hub && window.MathJax.Hub.Config) {window.MathJax.Hub.Config({SVG: {font: \"STIX-Web\"}});}</script>                <script type=\"text/javascript\">window.PlotlyConfig = {MathJaxConfig: 'local'};</script>\n",
              "        <script charset=\"utf-8\" src=\"https://cdn.plot.ly/plotly-2.35.2.min.js\"></script>                <div id=\"22c750a0-8ebb-4bce-b925-2480851a5240\" class=\"plotly-graph-div\" style=\"height:525px; width:100%;\"></div>            <script type=\"text/javascript\">                                    window.PLOTLYENV=window.PLOTLYENV || {};                                    if (document.getElementById(\"22c750a0-8ebb-4bce-b925-2480851a5240\")) {                    Plotly.newPlot(                        \"22c750a0-8ebb-4bce-b925-2480851a5240\",                        [{\"alignmentgroup\":\"True\",\"hovertemplate\":\"Tipo de dieta=%{x}\\u003cbr\\u003ePuntaje de felicidad promedio=%{y}\\u003cextra\\u003e\\u003c\\u002fextra\\u003e\",\"legendgroup\":\"Balanced\",\"marker\":{\"color\":\"#636efa\",\"pattern\":{\"shape\":\"\"}},\"name\":\"Balanced\",\"offsetgroup\":\"Balanced\",\"orientation\":\"v\",\"showlegend\":true,\"textposition\":\"auto\",\"texttemplate\":\"%{y:.2s}\",\"x\":[\"Balanced\"],\"xaxis\":\"x\",\"y\":[5.2215686274509805],\"yaxis\":\"y\",\"type\":\"bar\"},{\"alignmentgroup\":\"True\",\"hovertemplate\":\"Tipo de dieta=%{x}\\u003cbr\\u003ePuntaje de felicidad promedio=%{y}\\u003cextra\\u003e\\u003c\\u002fextra\\u003e\",\"legendgroup\":\"Junk Food\",\"marker\":{\"color\":\"#EF553B\",\"pattern\":{\"shape\":\"\"}},\"name\":\"Junk Food\",\"offsetgroup\":\"Junk Food\",\"orientation\":\"v\",\"showlegend\":true,\"textposition\":\"auto\",\"texttemplate\":\"%{y:.2s}\",\"x\":[\"Junk Food\"],\"xaxis\":\"x\",\"y\":[5.46984126984127],\"yaxis\":\"y\",\"type\":\"bar\"},{\"alignmentgroup\":\"True\",\"hovertemplate\":\"Tipo de dieta=%{x}\\u003cbr\\u003ePuntaje de felicidad promedio=%{y}\\u003cextra\\u003e\\u003c\\u002fextra\\u003e\",\"legendgroup\":\"Keto\",\"marker\":{\"color\":\"#00cc96\",\"pattern\":{\"shape\":\"\"}},\"name\":\"Keto\",\"offsetgroup\":\"Keto\",\"orientation\":\"v\",\"showlegend\":true,\"textposition\":\"auto\",\"texttemplate\":\"%{y:.2s}\",\"x\":[\"Keto\"],\"xaxis\":\"x\",\"y\":[5.333407572383073],\"yaxis\":\"y\",\"type\":\"bar\"},{\"alignmentgroup\":\"True\",\"hovertemplate\":\"Tipo de dieta=%{x}\\u003cbr\\u003ePuntaje de felicidad promedio=%{y}\\u003cextra\\u003e\\u003c\\u002fextra\\u003e\",\"legendgroup\":\"Vegan\",\"marker\":{\"color\":\"#ab63fa\",\"pattern\":{\"shape\":\"\"}},\"name\":\"Vegan\",\"offsetgroup\":\"Vegan\",\"orientation\":\"v\",\"showlegend\":true,\"textposition\":\"auto\",\"texttemplate\":\"%{y:.2s}\",\"x\":[\"Vegan\"],\"xaxis\":\"x\",\"y\":[5.269716775599129],\"yaxis\":\"y\",\"type\":\"bar\"},{\"alignmentgroup\":\"True\",\"hovertemplate\":\"Tipo de dieta=%{x}\\u003cbr\\u003ePuntaje de felicidad promedio=%{y}\\u003cextra\\u003e\\u003c\\u002fextra\\u003e\",\"legendgroup\":\"Vegetarian\",\"marker\":{\"color\":\"#FFA15A\",\"pattern\":{\"shape\":\"\"}},\"name\":\"Vegetarian\",\"offsetgroup\":\"Vegetarian\",\"orientation\":\"v\",\"showlegend\":true,\"textposition\":\"auto\",\"texttemplate\":\"%{y:.2s}\",\"x\":[\"Vegetarian\"],\"xaxis\":\"x\",\"y\":[5.606004140786749],\"yaxis\":\"y\",\"type\":\"bar\"}],                        {\"template\":{\"data\":{\"histogram2dcontour\":[{\"type\":\"histogram2dcontour\",\"colorbar\":{\"outlinewidth\":0,\"ticks\":\"\"},\"colorscale\":[[0.0,\"#0d0887\"],[0.1111111111111111,\"#46039f\"],[0.2222222222222222,\"#7201a8\"],[0.3333333333333333,\"#9c179e\"],[0.4444444444444444,\"#bd3786\"],[0.5555555555555556,\"#d8576b\"],[0.6666666666666666,\"#ed7953\"],[0.7777777777777778,\"#fb9f3a\"],[0.8888888888888888,\"#fdca26\"],[1.0,\"#f0f921\"]]}],\"choropleth\":[{\"type\":\"choropleth\",\"colorbar\":{\"outlinewidth\":0,\"ticks\":\"\"}}],\"histogram2d\":[{\"type\":\"histogram2d\",\"colorbar\":{\"outlinewidth\":0,\"ticks\":\"\"},\"colorscale\":[[0.0,\"#0d0887\"],[0.1111111111111111,\"#46039f\"],[0.2222222222222222,\"#7201a8\"],[0.3333333333333333,\"#9c179e\"],[0.4444444444444444,\"#bd3786\"],[0.5555555555555556,\"#d8576b\"],[0.6666666666666666,\"#ed7953\"],[0.7777777777777778,\"#fb9f3a\"],[0.8888888888888888,\"#fdca26\"],[1.0,\"#f0f921\"]]}],\"heatmap\":[{\"type\":\"heatmap\",\"colorbar\":{\"outlinewidth\":0,\"ticks\":\"\"},\"colorscale\":[[0.0,\"#0d0887\"],[0.1111111111111111,\"#46039f\"],[0.2222222222222222,\"#7201a8\"],[0.3333333333333333,\"#9c179e\"],[0.4444444444444444,\"#bd3786\"],[0.5555555555555556,\"#d8576b\"],[0.6666666666666666,\"#ed7953\"],[0.7777777777777778,\"#fb9f3a\"],[0.8888888888888888,\"#fdca26\"],[1.0,\"#f0f921\"]]}],\"heatmapgl\":[{\"type\":\"heatmapgl\",\"colorbar\":{\"outlinewidth\":0,\"ticks\":\"\"},\"colorscale\":[[0.0,\"#0d0887\"],[0.1111111111111111,\"#46039f\"],[0.2222222222222222,\"#7201a8\"],[0.3333333333333333,\"#9c179e\"],[0.4444444444444444,\"#bd3786\"],[0.5555555555555556,\"#d8576b\"],[0.6666666666666666,\"#ed7953\"],[0.7777777777777778,\"#fb9f3a\"],[0.8888888888888888,\"#fdca26\"],[1.0,\"#f0f921\"]]}],\"contourcarpet\":[{\"type\":\"contourcarpet\",\"colorbar\":{\"outlinewidth\":0,\"ticks\":\"\"}}],\"contour\":[{\"type\":\"contour\",\"colorbar\":{\"outlinewidth\":0,\"ticks\":\"\"},\"colorscale\":[[0.0,\"#0d0887\"],[0.1111111111111111,\"#46039f\"],[0.2222222222222222,\"#7201a8\"],[0.3333333333333333,\"#9c179e\"],[0.4444444444444444,\"#bd3786\"],[0.5555555555555556,\"#d8576b\"],[0.6666666666666666,\"#ed7953\"],[0.7777777777777778,\"#fb9f3a\"],[0.8888888888888888,\"#fdca26\"],[1.0,\"#f0f921\"]]}],\"surface\":[{\"type\":\"surface\",\"colorbar\":{\"outlinewidth\":0,\"ticks\":\"\"},\"colorscale\":[[0.0,\"#0d0887\"],[0.1111111111111111,\"#46039f\"],[0.2222222222222222,\"#7201a8\"],[0.3333333333333333,\"#9c179e\"],[0.4444444444444444,\"#bd3786\"],[0.5555555555555556,\"#d8576b\"],[0.6666666666666666,\"#ed7953\"],[0.7777777777777778,\"#fb9f3a\"],[0.8888888888888888,\"#fdca26\"],[1.0,\"#f0f921\"]]}],\"mesh3d\":[{\"type\":\"mesh3d\",\"colorbar\":{\"outlinewidth\":0,\"ticks\":\"\"}}],\"scatter\":[{\"fillpattern\":{\"fillmode\":\"overlay\",\"size\":10,\"solidity\":0.2},\"type\":\"scatter\"}],\"parcoords\":[{\"type\":\"parcoords\",\"line\":{\"colorbar\":{\"outlinewidth\":0,\"ticks\":\"\"}}}],\"scatterpolargl\":[{\"type\":\"scatterpolargl\",\"marker\":{\"colorbar\":{\"outlinewidth\":0,\"ticks\":\"\"}}}],\"bar\":[{\"error_x\":{\"color\":\"#2a3f5f\"},\"error_y\":{\"color\":\"#2a3f5f\"},\"marker\":{\"line\":{\"color\":\"#E5ECF6\",\"width\":0.5},\"pattern\":{\"fillmode\":\"overlay\",\"size\":10,\"solidity\":0.2}},\"type\":\"bar\"}],\"scattergeo\":[{\"type\":\"scattergeo\",\"marker\":{\"colorbar\":{\"outlinewidth\":0,\"ticks\":\"\"}}}],\"scatterpolar\":[{\"type\":\"scatterpolar\",\"marker\":{\"colorbar\":{\"outlinewidth\":0,\"ticks\":\"\"}}}],\"histogram\":[{\"marker\":{\"pattern\":{\"fillmode\":\"overlay\",\"size\":10,\"solidity\":0.2}},\"type\":\"histogram\"}],\"scattergl\":[{\"type\":\"scattergl\",\"marker\":{\"colorbar\":{\"outlinewidth\":0,\"ticks\":\"\"}}}],\"scatter3d\":[{\"type\":\"scatter3d\",\"line\":{\"colorbar\":{\"outlinewidth\":0,\"ticks\":\"\"}},\"marker\":{\"colorbar\":{\"outlinewidth\":0,\"ticks\":\"\"}}}],\"scattermapbox\":[{\"type\":\"scattermapbox\",\"marker\":{\"colorbar\":{\"outlinewidth\":0,\"ticks\":\"\"}}}],\"scatterternary\":[{\"type\":\"scatterternary\",\"marker\":{\"colorbar\":{\"outlinewidth\":0,\"ticks\":\"\"}}}],\"scattercarpet\":[{\"type\":\"scattercarpet\",\"marker\":{\"colorbar\":{\"outlinewidth\":0,\"ticks\":\"\"}}}],\"carpet\":[{\"aaxis\":{\"endlinecolor\":\"#2a3f5f\",\"gridcolor\":\"white\",\"linecolor\":\"white\",\"minorgridcolor\":\"white\",\"startlinecolor\":\"#2a3f5f\"},\"baxis\":{\"endlinecolor\":\"#2a3f5f\",\"gridcolor\":\"white\",\"linecolor\":\"white\",\"minorgridcolor\":\"white\",\"startlinecolor\":\"#2a3f5f\"},\"type\":\"carpet\"}],\"table\":[{\"cells\":{\"fill\":{\"color\":\"#EBF0F8\"},\"line\":{\"color\":\"white\"}},\"header\":{\"fill\":{\"color\":\"#C8D4E3\"},\"line\":{\"color\":\"white\"}},\"type\":\"table\"}],\"barpolar\":[{\"marker\":{\"line\":{\"color\":\"#E5ECF6\",\"width\":0.5},\"pattern\":{\"fillmode\":\"overlay\",\"size\":10,\"solidity\":0.2}},\"type\":\"barpolar\"}],\"pie\":[{\"automargin\":true,\"type\":\"pie\"}]},\"layout\":{\"autotypenumbers\":\"strict\",\"colorway\":[\"#636efa\",\"#EF553B\",\"#00cc96\",\"#ab63fa\",\"#FFA15A\",\"#19d3f3\",\"#FF6692\",\"#B6E880\",\"#FF97FF\",\"#FECB52\"],\"font\":{\"color\":\"#2a3f5f\"},\"hovermode\":\"closest\",\"hoverlabel\":{\"align\":\"left\"},\"paper_bgcolor\":\"white\",\"plot_bgcolor\":\"#E5ECF6\",\"polar\":{\"bgcolor\":\"#E5ECF6\",\"angularaxis\":{\"gridcolor\":\"white\",\"linecolor\":\"white\",\"ticks\":\"\"},\"radialaxis\":{\"gridcolor\":\"white\",\"linecolor\":\"white\",\"ticks\":\"\"}},\"ternary\":{\"bgcolor\":\"#E5ECF6\",\"aaxis\":{\"gridcolor\":\"white\",\"linecolor\":\"white\",\"ticks\":\"\"},\"baxis\":{\"gridcolor\":\"white\",\"linecolor\":\"white\",\"ticks\":\"\"},\"caxis\":{\"gridcolor\":\"white\",\"linecolor\":\"white\",\"ticks\":\"\"}},\"coloraxis\":{\"colorbar\":{\"outlinewidth\":0,\"ticks\":\"\"}},\"colorscale\":{\"sequential\":[[0.0,\"#0d0887\"],[0.1111111111111111,\"#46039f\"],[0.2222222222222222,\"#7201a8\"],[0.3333333333333333,\"#9c179e\"],[0.4444444444444444,\"#bd3786\"],[0.5555555555555556,\"#d8576b\"],[0.6666666666666666,\"#ed7953\"],[0.7777777777777778,\"#fb9f3a\"],[0.8888888888888888,\"#fdca26\"],[1.0,\"#f0f921\"]],\"sequentialminus\":[[0.0,\"#0d0887\"],[0.1111111111111111,\"#46039f\"],[0.2222222222222222,\"#7201a8\"],[0.3333333333333333,\"#9c179e\"],[0.4444444444444444,\"#bd3786\"],[0.5555555555555556,\"#d8576b\"],[0.6666666666666666,\"#ed7953\"],[0.7777777777777778,\"#fb9f3a\"],[0.8888888888888888,\"#fdca26\"],[1.0,\"#f0f921\"]],\"diverging\":[[0,\"#8e0152\"],[0.1,\"#c51b7d\"],[0.2,\"#de77ae\"],[0.3,\"#f1b6da\"],[0.4,\"#fde0ef\"],[0.5,\"#f7f7f7\"],[0.6,\"#e6f5d0\"],[0.7,\"#b8e186\"],[0.8,\"#7fbc41\"],[0.9,\"#4d9221\"],[1,\"#276419\"]]},\"xaxis\":{\"gridcolor\":\"white\",\"linecolor\":\"white\",\"ticks\":\"\",\"title\":{\"standoff\":15},\"zerolinecolor\":\"white\",\"automargin\":true,\"zerolinewidth\":2},\"yaxis\":{\"gridcolor\":\"white\",\"linecolor\":\"white\",\"ticks\":\"\",\"title\":{\"standoff\":15},\"zerolinecolor\":\"white\",\"automargin\":true,\"zerolinewidth\":2},\"scene\":{\"xaxis\":{\"backgroundcolor\":\"#E5ECF6\",\"gridcolor\":\"white\",\"linecolor\":\"white\",\"showbackground\":true,\"ticks\":\"\",\"zerolinecolor\":\"white\",\"gridwidth\":2},\"yaxis\":{\"backgroundcolor\":\"#E5ECF6\",\"gridcolor\":\"white\",\"linecolor\":\"white\",\"showbackground\":true,\"ticks\":\"\",\"zerolinecolor\":\"white\",\"gridwidth\":2},\"zaxis\":{\"backgroundcolor\":\"#E5ECF6\",\"gridcolor\":\"white\",\"linecolor\":\"white\",\"showbackground\":true,\"ticks\":\"\",\"zerolinecolor\":\"white\",\"gridwidth\":2}},\"shapedefaults\":{\"line\":{\"color\":\"#2a3f5f\"}},\"annotationdefaults\":{\"arrowcolor\":\"#2a3f5f\",\"arrowhead\":0,\"arrowwidth\":1},\"geo\":{\"bgcolor\":\"white\",\"landcolor\":\"#E5ECF6\",\"subunitcolor\":\"white\",\"showland\":true,\"showlakes\":true,\"lakecolor\":\"white\"},\"title\":{\"x\":0.05},\"mapbox\":{\"style\":\"light\"}}},\"xaxis\":{\"anchor\":\"y\",\"domain\":[0.0,1.0],\"title\":{\"text\":\"Tipo de dieta\"},\"categoryorder\":\"array\",\"categoryarray\":[\"Balanced\",\"Junk Food\",\"Keto\",\"Vegan\",\"Vegetarian\"]},\"yaxis\":{\"anchor\":\"x\",\"domain\":[0.0,1.0],\"title\":{\"text\":\"Felicidad promedio\"}},\"legend\":{\"title\":{\"text\":\"Tipo de dieta\"},\"tracegroupgap\":0},\"title\":{\"text\":\"Puntaje promedio de felicidad por tipo de dieta\"},\"barmode\":\"relative\",\"uniformtext\":{\"minsize\":8,\"mode\":\"hide\"}},                        {\"responsive\": true}                    ).then(function(){\n",
              "                            \n",
              "var gd = document.getElementById('22c750a0-8ebb-4bce-b925-2480851a5240');\n",
              "var x = new MutationObserver(function (mutations, observer) {{\n",
              "        var display = window.getComputedStyle(gd).display;\n",
              "        if (!display || display === 'none') {{\n",
              "            console.log([gd, 'removed!']);\n",
              "            Plotly.purge(gd);\n",
              "            observer.disconnect();\n",
              "        }}\n",
              "}});\n",
              "\n",
              "// Listen for the removal of the full notebook cells\n",
              "var notebookContainer = gd.closest('#notebook-container');\n",
              "if (notebookContainer) {{\n",
              "    x.observe(notebookContainer, {childList: true});\n",
              "}}\n",
              "\n",
              "// Listen for the clearing of the current output cell\n",
              "var outputEl = gd.closest('.output');\n",
              "if (outputEl) {{\n",
              "    x.observe(outputEl, {childList: true});\n",
              "}}\n",
              "\n",
              "                        })                };                            </script>        </div>\n",
              "</body>\n",
              "</html>"
            ]
          },
          "metadata": {}
        }
      ]
    },
    {
      "cell_type": "code",
      "source": [
        "pip install dash pandas plotly"
      ],
      "metadata": {
        "colab": {
          "base_uri": "https://localhost:8080/"
        },
        "id": "TzxZhQMLeGva",
        "outputId": "f8b7b672-6cbe-46bf-8326-a6b9343bd654"
      },
      "execution_count": 64,
      "outputs": [
        {
          "output_type": "stream",
          "name": "stdout",
          "text": [
            "Requirement already satisfied: dash in /usr/local/lib/python3.11/dist-packages (3.1.0)\n",
            "Requirement already satisfied: pandas in /usr/local/lib/python3.11/dist-packages (2.2.2)\n",
            "Requirement already satisfied: plotly in /usr/local/lib/python3.11/dist-packages (5.24.1)\n",
            "Requirement already satisfied: Flask<3.2,>=1.0.4 in /usr/local/lib/python3.11/dist-packages (from dash) (3.1.1)\n",
            "Requirement already satisfied: Werkzeug<3.2 in /usr/local/lib/python3.11/dist-packages (from dash) (3.1.3)\n",
            "Requirement already satisfied: importlib-metadata in /usr/local/lib/python3.11/dist-packages (from dash) (8.7.0)\n",
            "Requirement already satisfied: typing-extensions>=4.1.1 in /usr/local/lib/python3.11/dist-packages (from dash) (4.14.0)\n",
            "Requirement already satisfied: requests in /usr/local/lib/python3.11/dist-packages (from dash) (2.32.3)\n",
            "Requirement already satisfied: retrying in /usr/local/lib/python3.11/dist-packages (from dash) (1.4.0)\n",
            "Requirement already satisfied: nest-asyncio in /usr/local/lib/python3.11/dist-packages (from dash) (1.6.0)\n",
            "Requirement already satisfied: setuptools in /usr/local/lib/python3.11/dist-packages (from dash) (75.2.0)\n",
            "Requirement already satisfied: numpy>=1.23.2 in /usr/local/lib/python3.11/dist-packages (from pandas) (2.0.2)\n",
            "Requirement already satisfied: python-dateutil>=2.8.2 in /usr/local/lib/python3.11/dist-packages (from pandas) (2.9.0.post0)\n",
            "Requirement already satisfied: pytz>=2020.1 in /usr/local/lib/python3.11/dist-packages (from pandas) (2025.2)\n",
            "Requirement already satisfied: tzdata>=2022.7 in /usr/local/lib/python3.11/dist-packages (from pandas) (2025.2)\n",
            "Requirement already satisfied: tenacity>=6.2.0 in /usr/local/lib/python3.11/dist-packages (from plotly) (8.5.0)\n",
            "Requirement already satisfied: packaging in /usr/local/lib/python3.11/dist-packages (from plotly) (24.2)\n",
            "Requirement already satisfied: blinker>=1.9.0 in /usr/local/lib/python3.11/dist-packages (from Flask<3.2,>=1.0.4->dash) (1.9.0)\n",
            "Requirement already satisfied: click>=8.1.3 in /usr/local/lib/python3.11/dist-packages (from Flask<3.2,>=1.0.4->dash) (8.2.1)\n",
            "Requirement already satisfied: itsdangerous>=2.2.0 in /usr/local/lib/python3.11/dist-packages (from Flask<3.2,>=1.0.4->dash) (2.2.0)\n",
            "Requirement already satisfied: jinja2>=3.1.2 in /usr/local/lib/python3.11/dist-packages (from Flask<3.2,>=1.0.4->dash) (3.1.6)\n",
            "Requirement already satisfied: markupsafe>=2.1.1 in /usr/local/lib/python3.11/dist-packages (from Flask<3.2,>=1.0.4->dash) (3.0.2)\n",
            "Requirement already satisfied: six>=1.5 in /usr/local/lib/python3.11/dist-packages (from python-dateutil>=2.8.2->pandas) (1.17.0)\n",
            "Requirement already satisfied: zipp>=3.20 in /usr/local/lib/python3.11/dist-packages (from importlib-metadata->dash) (3.23.0)\n",
            "Requirement already satisfied: charset-normalizer<4,>=2 in /usr/local/lib/python3.11/dist-packages (from requests->dash) (3.4.2)\n",
            "Requirement already satisfied: idna<4,>=2.5 in /usr/local/lib/python3.11/dist-packages (from requests->dash) (3.10)\n",
            "Requirement already satisfied: urllib3<3,>=1.21.1 in /usr/local/lib/python3.11/dist-packages (from requests->dash) (2.4.0)\n",
            "Requirement already satisfied: certifi>=2017.4.17 in /usr/local/lib/python3.11/dist-packages (from requests->dash) (2025.6.15)\n"
          ]
        }
      ]
    },
    {
      "cell_type": "code",
      "source": [
        "# app.py\n",
        "\n",
        "import pandas as pd\n",
        "import plotly.express as px\n",
        "from dash import Dash, dcc, html, Input, Output"
      ],
      "metadata": {
        "id": "luL94p-deyXk"
      },
      "execution_count": 65,
      "outputs": []
    },
    {
      "cell_type": "code",
      "source": [
        "# Cargar datos\n",
        "df = pd.read_csv(\"Mental_Health_Lifestyle_Dataset (4).csv\")\n",
        "df.columns = df.columns.str.strip()\n",
        "df_clean = df.dropna()"
      ],
      "metadata": {
        "id": "Ee9X-0nFe1u7"
      },
      "execution_count": 66,
      "outputs": []
    },
    {
      "cell_type": "code",
      "source": [
        "# Iniciar la app Dash\n",
        "app = Dash(__name__)\n",
        "app.title = \"Dashboard Salud Mental\""
      ],
      "metadata": {
        "id": "PjGV-u0SfMvX"
      },
      "execution_count": 67,
      "outputs": []
    },
    {
      "cell_type": "code",
      "metadata": {
        "colab": {
          "base_uri": "https://localhost:8080/",
          "height": 670
        },
        "id": "RBJi1HY5eTNw",
        "outputId": "082602df-7607-43d1-85c0-1015030bd2c2"
      },
      "source": [
        "import pandas as pd\n",
        "import plotly.express as px\n",
        "from dash import Dash, dcc, html, Input, Output\n",
        "\n",
        "# Librerías necesarias for the original notebook structure\n",
        "import seaborn as sns\n",
        "import matplotlib.pyplot as plt\n",
        "\n",
        "\n",
        "# Cargar datos\n",
        "file_path = '/content/Mental_Health_Lifestyle_Dataset (4).csv'\n",
        "df = pd.read_csv(file_path)\n",
        "df.columns = df.columns.str.strip()\n",
        "\n",
        "# Select relevant columns and then drop nulls specifically from 'Mental Health Condition'\n",
        "# Removed 'Sleep Disorder ' as it is causing KeyError in this cell's execution context\n",
        "columns_for_analysis = ['Country', 'Age', 'Gender', 'Exercise Level', 'Diet Type', 'Sleep Hours',\n",
        "                        'Stress Level', 'Mental Health Condition', 'Work Hours per Week',\n",
        "                        'Screen Time per Day (Hours)', 'Social Interaction Score', 'Happiness Score']\n",
        "df_clean = df[columns_for_analysis].dropna(subset=['Mental Health Condition']).copy() # Drop nulls only in Mental Health Condition\n",
        "\n",
        "# Convert relevant columns to categorical type on df_clean\n",
        "# Removed 'Sleep Disorder ' from categorical columns\n",
        "cat_columns_for_dash = ['Gender', 'Exercise Level', 'Diet Type', 'Stress Level', 'Mental Health Condition']\n",
        "for col in cat_columns_for_dash:\n",
        "    if col in df_clean.columns:\n",
        "        df_clean[col] = df_clean[col].astype('category')\n",
        "    else:\n",
        "         print(f\"⚠️ Column '{col}' not found in df_clean after processing.\")\n",
        "\n",
        "\n",
        "# Iniciar la app Dash\n",
        "app = Dash(__name__)\n",
        "app.title = \"Dashboard Salud Mental\"\n",
        "\n",
        "# Layout de la app\n",
        "app.layout = html.Div([\n",
        "    html.H1(\"Dashboard de Salud Mental y Estilo de Vida\", style={'textAlign': 'center'}),\n",
        "\n",
        "    # Filtro por género\n",
        "    html.Label(\"Filtrar por género:\"),\n",
        "    dcc.Dropdown(\n",
        "        id='genero_dropdown',\n",
        "        options=[{'label': gen, 'value': gen} for gen in df_clean['Gender'].unique()],\n",
        "        value=df_clean['Gender'].unique()[0]\n",
        "    ),\n",
        "\n",
        "    html.Br(),\n",
        "\n",
        "    # Gráficas\n",
        "    dcc.Graph(id='grafico1'),\n",
        "    dcc.Graph(id='grafico2'),\n",
        "    dcc.Graph(id='grafico3'),\n",
        "    dcc.Graph(id='grafico4'),\n",
        "    dcc.Graph(id='grafico5'),\n",
        "    dcc.Graph(id='grafico6'),\n",
        "])\n",
        "\n",
        "# Callbacks para interactividad\n",
        "@app.callback(\n",
        "    Output('grafico1', 'figure'),\n",
        "    Output('grafico2', 'figure'),\n",
        "    Output('grafico3', 'figure'),\n",
        "    Output('grafico4', 'figure'),\n",
        "    Output('grafico5', 'figure'),\n",
        "    Output('grafico6', 'figure'),\n",
        "    Input('genero_dropdown', 'value')\n",
        ")\n",
        "def actualizar_graficas(genero):\n",
        "    df_filtrado = df_clean[df_clean[\"Gender\"] == genero].copy() # Add .copy() to avoid SettingWithCopyWarning\n",
        "\n",
        "    # Print columns and dtypes of df_filtrado to diagnose\n",
        "    print(\"\\nColumns and dtypes in df_filtrado:\")\n",
        "    print(df_filtrado.info())\n",
        "\n",
        "\n",
        "    # Updated fig1 to use px.histogram for Stress Level by Work Hours per Week\n",
        "    fig1 = px.histogram(\n",
        "        df_filtrado,\n",
        "        x='Work Hours per Week',\n",
        "        color='Stress Level',\n",
        "        title='Niveles de estrés por horas de trabajo',\n",
        "        labels={'Work Hours per Week': 'Horas de trabajo por semana', 'Stress Level': 'Nivel de estrés'},\n",
        "        barmode='group' # Use 'group' or 'stack'\n",
        "    )\n",
        "\n",
        "    fig2 = px.histogram(\n",
        "        df_filtrado,\n",
        "        x='Sleep Hours',\n",
        "        nbins=20,\n",
        "        title='Distribución de horas de sueño'\n",
        "    )\n",
        "\n",
        "    fig3 = px.box(\n",
        "        df_filtrado,\n",
        "        x='Mental Health Condition',\n",
        "        y='Exercise Level',\n",
        "        title='Nivel de ejercicio según condición de salud mental'\n",
        "    )\n",
        "\n",
        "    fig4 = px.scatter(\n",
        "        df_filtrado,\n",
        "        x='Exercise Level',\n",
        "        y='Stress Level',\n",
        "        color='Diet Type',\n",
        "        title='Relación entre ejercicio y estrés'\n",
        "    )\n",
        "\n",
        "    fig5 = px.pie(\n",
        "        df_filtrado,\n",
        "        names='Mental Health Condition',\n",
        "        title='Condiciones de salud mental'\n",
        "    )\n",
        "\n",
        "    # Recalculate df_grouped for fig6 using the filtered data\n",
        "    df_grouped = df_filtrado.groupby('Diet Type')['Happiness Score'].mean().reset_index()\n",
        "    fig6 = px.bar(\n",
        "        df_grouped,\n",
        "        x='Diet Type',\n",
        "        y='Happiness Score',\n",
        "        title='Felicidad promedio según tipo de dieta',\n",
        "        color='Diet Type'\n",
        "    )\n",
        "\n",
        "    return fig1, fig2, fig3, fig4, fig5, fig6\n",
        "\n",
        "# Ejecutar servidor local\n",
        "if __name__ == '__main__':\n",
        "    app.run(debug=True)"
      ],
      "execution_count": 68,
      "outputs": [
        {
          "output_type": "display_data",
          "data": {
            "text/plain": [
              "<IPython.core.display.Javascript object>"
            ],
            "application/javascript": [
              "(async (port, path, width, height, cache, element) => {\n",
              "    if (!google.colab.kernel.accessAllowed && !cache) {\n",
              "      return;\n",
              "    }\n",
              "    element.appendChild(document.createTextNode(''));\n",
              "    const url = await google.colab.kernel.proxyPort(port, {cache});\n",
              "    const iframe = document.createElement('iframe');\n",
              "    iframe.src = new URL(path, url).toString();\n",
              "    iframe.height = height;\n",
              "    iframe.width = width;\n",
              "    iframe.style.border = 0;\n",
              "    iframe.allow = [\n",
              "        'accelerometer',\n",
              "        'autoplay',\n",
              "        'camera',\n",
              "        'clipboard-read',\n",
              "        'clipboard-write',\n",
              "        'gyroscope',\n",
              "        'magnetometer',\n",
              "        'microphone',\n",
              "        'serial',\n",
              "        'usb',\n",
              "        'xr-spatial-tracking',\n",
              "    ].join('; ');\n",
              "    element.appendChild(iframe);\n",
              "  })(8050, \"/\", \"100%\", 650, false, window.element)"
            ]
          },
          "metadata": {}
        }
      ]
    }
  ]
}